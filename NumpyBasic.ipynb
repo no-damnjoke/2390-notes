{
 "cells": [
  {
   "cell_type": "code",
   "execution_count": 2,
   "metadata": {},
   "outputs": [],
   "source": [
    "import numpy as np"
   ]
  },
  {
   "cell_type": "code",
   "execution_count": 3,
   "metadata": {},
   "outputs": [
    {
     "data": {
      "text/plain": [
       "array([[0.25167694, 0.9575007 , 0.23633584],\n",
       "       [0.39055923, 0.93192563, 0.59658306]])"
      ]
     },
     "execution_count": 3,
     "metadata": {},
     "output_type": "execute_result"
    }
   ],
   "source": [
    "np.random.rand(2,3)"
   ]
  },
  {
   "cell_type": "code",
   "execution_count": 10,
   "metadata": {},
   "outputs": [
    {
     "name": "stdout",
     "output_type": "stream",
     "text": [
      "[ 0  1  2  3  4  5  6  7  8  9 10 11 12 13 14 15 16 17]\n"
     ]
    },
    {
     "data": {
      "text/plain": [
       "array([[ 0,  1],\n",
       "       [ 2,  3],\n",
       "       [ 4,  5],\n",
       "       [ 6,  7],\n",
       "       [ 8,  9],\n",
       "       [10, 11],\n",
       "       [12, 13],\n",
       "       [14, 15],\n",
       "       [16, 17]])"
      ]
     },
     "execution_count": 10,
     "metadata": {},
     "output_type": "execute_result"
    }
   ],
   "source": [
    "a = np.arange(18)\n",
    "print(a)\n",
    "a.reshape(9,2)"
   ]
  },
  {
   "cell_type": "code",
   "execution_count": 16,
   "metadata": {},
   "outputs": [
    {
     "name": "stdout",
     "output_type": "stream",
     "text": [
      "[[1. 2. 3.]\n",
      " [4. 5. 6.]]\n",
      "[[ 1.  4.  9.]\n",
      " [16. 25. 36.]]\n",
      "[[ 2.  4.  6.]\n",
      " [ 8. 10. 12.]]\n",
      "[[1.         0.5        0.33333333]\n",
      " [0.25       0.2        0.16666667]]\n"
     ]
    }
   ],
   "source": [
    "arr = np.array([[1., 2., 3.], [4., 5., 6.]])\n",
    "print(arr)\n",
    "print(arr*arr)\n",
    "print(arr+arr)\n",
    "print(1/arr)"
   ]
  },
  {
   "cell_type": "code",
   "execution_count": 30,
   "metadata": {},
   "outputs": [
    {
     "name": "stdout",
     "output_type": "stream",
     "text": [
      "[[1 2 3]\n",
      " [4 5 6]\n",
      " [7 8 9]]\n",
      "[2 5 8]\n",
      "[1. 5. 9.]\n",
      "[3 6]\n"
     ]
    }
   ],
   "source": [
    "arr2d = np.array([[1, 2, 3], [4, 5, 6], [7, 8, 9]])\n",
    "print(arr2d)\n",
    "\n",
    "print(arr2d[:, 1]) #[2,5,8]\n",
    "temp = np.zeros(3) #[1,5,9]\n",
    "for i in range(len(arr2d)):\n",
    "    temp[i] = arr2d[i, i]\n",
    "print(temp)\n",
    "print(arr2d[:2, 2])\n",
    "\n"
   ]
  },
  {
   "cell_type": "code",
   "execution_count": 23,
   "metadata": {},
   "outputs": [
    {
     "name": "stdout",
     "output_type": "stream",
     "text": [
      "[[[ 1  2  3]\n",
      "  [ 4  5  6]]\n",
      "\n",
      " [[ 7  8  9]\n",
      "  [10 11 12]]]\n",
      "[[ 2  5]\n",
      " [ 8 11]]\n"
     ]
    }
   ],
   "source": [
    "arr3d = np.array([[[1, 2, 3], [4, 5, 6]], [[7, 8, 9], [10, 11, 12]]])\n",
    "print(arr3d)\n",
    "print(arr3d[:, :, 1])"
   ]
  },
  {
   "cell_type": "code",
   "execution_count": 31,
   "metadata": {},
   "outputs": [
    {
     "name": "stdout",
     "output_type": "stream",
     "text": [
      "['Bob' 'Joe' 'Will' 'Bob' 'Will' 'Joe' 'Joe']\n",
      "[[ 1.23029473  0.17571504 -0.90731063  1.25119552]\n",
      " [ 0.82926415 -0.50687083 -0.57661562  1.15823678]\n",
      " [ 0.34460403 -0.0520647  -0.13406791 -1.94312777]\n",
      " [-0.2028678   1.57085298 -1.82193013 -0.10484745]\n",
      " [ 0.71133301 -0.47396061  0.63512487  2.32594868]\n",
      " [ 0.18278803  0.8812514  -0.25927516 -0.48649283]\n",
      " [-1.18269049  0.07191156  0.53600793 -0.02649776]]\n",
      "[ True False False  True False False False]\n",
      "[[ 1.23029473  0.17571504 -0.90731063  1.25119552]\n",
      " [-0.2028678   1.57085298 -1.82193013 -0.10484745]]\n"
     ]
    }
   ],
   "source": [
    "names = np.array(['Bob', 'Joe', 'Will', 'Bob', 'Will', 'Joe', 'Joe'])\n",
    "data = np.random.randn(7, 4)\n",
    "print(names)\n",
    "print(data)\n",
    "print(names == 'Bob')\n",
    "print(data[names == 'Bob'])\n"
   ]
  },
  {
   "cell_type": "code",
   "execution_count": 32,
   "metadata": {},
   "outputs": [
    {
     "name": "stdout",
     "output_type": "stream",
     "text": [
      "[[ 0  1  2  3  4]\n",
      " [ 5  6  7  8  9]\n",
      " [10 11 12 13 14]]\n",
      "[[ 0  5 10]\n",
      " [ 1  6 11]\n",
      " [ 2  7 12]\n",
      " [ 3  8 13]\n",
      " [ 4  9 14]]\n"
     ]
    }
   ],
   "source": [
    "arr = np.arange(15).reshape((3, 5))\n",
    "print(arr)\n",
    "print(arr.T)"
   ]
  },
  {
   "cell_type": "code",
   "execution_count": 33,
   "metadata": {},
   "outputs": [
    {
     "name": "stdout",
     "output_type": "stream",
     "text": [
      "[[ 0  1  2  3]\n",
      " [ 4  5  6  7]\n",
      " [ 8  9 10 11]\n",
      " [12 13 14 15]\n",
      " [16 17 18 19]\n",
      " [20 21 22 23]\n",
      " [24 25 26 27]\n",
      " [28 29 30 31]]\n",
      "[ 4 23 29 10]\n"
     ]
    }
   ],
   "source": [
    "arr = np.arange(32).reshape((8, 4))\n",
    "print(arr)\n",
    "print(arr[[1, 5, 7, 2], [0, 3, 1, 2]])   # Here the elements (1, 0), (5, 3), (7, 1), and (2, 2) were selected."
   ]
  },
  {
   "cell_type": "code",
   "execution_count": 34,
   "metadata": {},
   "outputs": [
    {
     "name": "stdout",
     "output_type": "stream",
     "text": [
      "[[-0.4512338  -0.55487816 -0.89571034]\n",
      " [-1.35427116 -0.6343914   1.4840804 ]\n",
      " [-2.34675812  0.3626188   0.81858424]\n",
      " [ 1.03970997  0.20448282 -2.5814667 ]\n",
      " [ 1.60824704 -0.41850066  1.63059632]\n",
      " [ 0.87373211  0.18532888  0.73625742]]\n",
      "----------------------------\n",
      "[[11.97579919 -0.03998268 -2.94497494]\n",
      " [-0.03998268  1.09313745 -1.22146518]\n",
      " [-2.94497494 -1.22146518 13.5397615 ]]\n"
     ]
    }
   ],
   "source": [
    "arr = np.random.randn(6, 3)\n",
    "print(arr)\n",
    "print('----------------------------')\n",
    "print(arr.T@arr)    # Matrix dot product"
   ]
  },
  {
   "cell_type": "code",
   "execution_count": 44,
   "metadata": {},
   "outputs": [
    {
     "name": "stdout",
     "output_type": "stream",
     "text": [
      "[[[ 1  2  3]\n",
      "  [ 4  5  6]]\n",
      "\n",
      " [[ 7  8  9]\n",
      "  [10 11 12]]]\n"
     ]
    },
    {
     "data": {
      "text/plain": [
       "array([[[ 1,  4],\n",
       "        [ 2,  5],\n",
       "        [ 3,  6]],\n",
       "\n",
       "       [[ 7, 10],\n",
       "        [ 8, 11],\n",
       "        [ 9, 12]]])"
      ]
     },
     "execution_count": 44,
     "metadata": {},
     "output_type": "execute_result"
    }
   ],
   "source": [
    "print(arr3d)\n",
    "arr3d.swapaxes(2, 1)"
   ]
  },
  {
   "cell_type": "code",
   "execution_count": 45,
   "metadata": {},
   "outputs": [
    {
     "name": "stdout",
     "output_type": "stream",
     "text": [
      "[-1.89894463 -1.69593345 -0.07288398  2.04153947 -1.48680731 -0.47732519\n",
      " -1.58256993  0.30688081]\n",
      "[-0.61342077  0.86238499  0.71990224  0.43312911 -0.11927789 -0.16758718\n",
      "  0.34937853 -0.53555254]\n",
      "[-0.61342077  0.86238499  0.71990224  2.04153947 -0.11927789 -0.16758718\n",
      "  0.34937853  0.30688081]\n"
     ]
    }
   ],
   "source": [
    "x = np.random.randn(8)\n",
    "y = np.random.randn(8)\n",
    "print(x)\n",
    "print(y)\n",
    "print(np.maximum(x, y))   # calculate the point-wise maximum/"
   ]
  },
  {
   "cell_type": "code",
   "execution_count": 46,
   "metadata": {},
   "outputs": [
    {
     "name": "stdout",
     "output_type": "stream",
     "text": [
      "[[-5.   -4.99 -4.98 ...  4.97  4.98  4.99]\n",
      " [-5.   -4.99 -4.98 ...  4.97  4.98  4.99]\n",
      " [-5.   -4.99 -4.98 ...  4.97  4.98  4.99]\n",
      " ...\n",
      " [-5.   -4.99 -4.98 ...  4.97  4.98  4.99]\n",
      " [-5.   -4.99 -4.98 ...  4.97  4.98  4.99]\n",
      " [-5.   -4.99 -4.98 ...  4.97  4.98  4.99]]\n",
      "[[-5.   -5.   -5.   ... -5.   -5.   -5.  ]\n",
      " [-4.99 -4.99 -4.99 ... -4.99 -4.99 -4.99]\n",
      " [-4.98 -4.98 -4.98 ... -4.98 -4.98 -4.98]\n",
      " ...\n",
      " [ 4.97  4.97  4.97 ...  4.97  4.97  4.97]\n",
      " [ 4.98  4.98  4.98 ...  4.98  4.98  4.98]\n",
      " [ 4.99  4.99  4.99 ...  4.99  4.99  4.99]]\n"
     ]
    }
   ],
   "source": [
    "points = np.arange(-5, 5, 0.01) # 1000 equally spaced points\n",
    "xs, ys = np.meshgrid(points, points) #Takes 2 1d arrays and produce two 2D matrcies\n",
    "print(xs)\n",
    "print(ys)"
   ]
  },
  {
   "cell_type": "code",
   "execution_count": 49,
   "metadata": {},
   "outputs": [
    {
     "name": "stdout",
     "output_type": "stream",
     "text": [
      "[[-0.48437193  0.38770019 -1.61804935 -0.46581536]\n",
      " [ 1.63975011 -1.57085756 -1.05316995 -0.05353617]\n",
      " [ 0.06820946  0.15148132 -0.12473697  0.32620925]\n",
      " [ 1.08415334  1.56270064 -0.42885929 -0.38430252]\n",
      " [-0.62724418 -1.5683097  -0.83570624  0.39555957]]\n",
      "[[False  True False False]\n",
      " [ True False False False]\n",
      " [ True  True False  True]\n",
      " [ True  True False False]\n",
      " [False False False  True]]\n",
      "[[-69   9 -69 -69]\n",
      " [  9 -69 -69 -69]\n",
      " [  9   9 -69   9]\n",
      " [  9   9 -69 -69]\n",
      " [-69 -69 -69   9]]\n"
     ]
    }
   ],
   "source": [
    "arr = np.random.randn(5, 4)\n",
    "print(arr)\n",
    "print(arr > 0)\n",
    "print(np.where(arr > 0, 9, -69))"
   ]
  },
  {
   "cell_type": "code",
   "execution_count": 51,
   "metadata": {},
   "outputs": [
    {
     "name": "stdout",
     "output_type": "stream",
     "text": [
      "[-0.54513411 -0.25945339  0.10529076  0.45842304 -0.65892514]\n",
      "[ 1.68049678 -1.03728511 -4.06052179 -0.18188523]\n",
      "[[-0.48437193  0.38770019 -1.61804935 -0.46581536]\n",
      " [ 1.15537817 -1.18315737 -2.6712193  -0.51935153]\n",
      " [ 1.22358763 -1.03167605 -2.79595627 -0.19314228]\n",
      " [ 2.30774096  0.53102459 -3.22481555 -0.5774448 ]\n",
      " [ 1.68049678 -1.03728511 -4.06052179 -0.18188523]]\n"
     ]
    }
   ],
   "source": [
    "print(arr.mean(axis=1))\n",
    "print(arr.sum(axis=0))\n",
    "print(arr.cumsum(axis = 0))"
   ]
  },
  {
   "cell_type": "code",
   "execution_count": 57,
   "metadata": {},
   "outputs": [
    {
     "name": "stdout",
     "output_type": "stream",
     "text": [
      "[-0.30032822 -0.58883086  0.89533929 -0.76758898  0.41594212]\n",
      "[-0.7675889765170127, -0.5888308641764681, -0.3003282211641344, 0.4159421231303476, 0.8953392940451377]\n",
      "[-0.76758898 -0.58883086 -0.30032822  0.41594212  0.89533929]\n"
     ]
    }
   ],
   "source": [
    "arr = np.random.randn(5)\n",
    "a = sorted(arr)\n",
    "print(arr)\n",
    "print(a)\n",
    "arr.sort()\n",
    "print(arr)"
   ]
  },
  {
   "cell_type": "code",
   "execution_count": 64,
   "metadata": {},
   "outputs": [
    {
     "name": "stdout",
     "output_type": "stream",
     "text": [
      "['Bob' 'Joe' 'Will']\n",
      "[1 2 3 4]\n"
     ]
    }
   ],
   "source": [
    "names = np.array(['Bob', 'Joe', 'Will', 'Bob', 'Will', 'Joe', 'Joe'])\n",
    "print(np.unique(names))\n",
    "ints = np.array([3, 3, 3, 2, 2, 1, 1, 4, 4])\n",
    "print(np.unique(ints))"
   ]
  },
  {
   "cell_type": "code",
   "execution_count": 70,
   "metadata": {},
   "outputs": [
    {
     "data": {
      "text/plain": [
       "array([[-1.0949263 , -0.33229589, -1.21195353],\n",
       "       [-0.03400852, -1.11656954,  0.05935712],\n",
       "       [-0.75324744,  1.05551227,  0.2194765 ]])"
      ]
     },
     "execution_count": 70,
     "metadata": {},
     "output_type": "execute_result"
    }
   ],
   "source": [
    "samples = np.random.normal(size = (3, 3))\n",
    "samples"
   ]
  },
  {
   "cell_type": "code",
   "execution_count": 85,
   "metadata": {},
   "outputs": [
    {
     "data": {
      "text/plain": [
       "array([0.19151945, 0.62210877, 0.43772774, 0.78535858, 0.77997581])"
      ]
     },
     "execution_count": 85,
     "metadata": {},
     "output_type": "execute_result"
    }
   ],
   "source": [
    "np.random.seed(1234)\n",
    "np.random.rand(5)"
   ]
  },
  {
   "cell_type": "code",
   "execution_count": 84,
   "metadata": {},
   "outputs": [
    {
     "data": {
      "text/plain": [
       "array([0.19151945, 0.62210877, 0.43772774, 0.78535858, 0.77997581])"
      ]
     },
     "execution_count": 84,
     "metadata": {},
     "output_type": "execute_result"
    }
   ],
   "source": [
    "np.random.seed(1234)\n",
    "np.random.rand(5)"
   ]
  },
  {
   "cell_type": "code",
   "execution_count": 108,
   "metadata": {},
   "outputs": [
    {
     "name": "stdout",
     "output_type": "stream",
     "text": [
      "[[-0.59165988  0.04315596]\n",
      " [-1.89610087  0.68386223]]\n",
      "------------------------------\n",
      "[[-0.59165988  0.04315596]\n",
      " [-0.59165988  0.04315596]\n",
      " [-1.89610087  0.68386223]\n",
      " [-1.89610087  0.68386223]]\n",
      "------------------------------\n",
      "[[-0.59165988  0.04315596]\n",
      " [-0.59165988  0.04315596]\n",
      " [-0.59165988  0.04315596]\n",
      " [-0.59165988  0.04315596]\n",
      " [-1.89610087  0.68386223]\n",
      " [-1.89610087  0.68386223]]\n"
     ]
    }
   ],
   "source": [
    "arr = np.random.randn(2, 2)\n",
    "print(arr)\n",
    "print(\"------------------------------\")\n",
    "print(arr.repeat(2, axis=0))\n",
    "print(\"------------------------------\")\n",
    "print(arr.repeat([4, 2], axis = 0))"
   ]
  },
  {
   "cell_type": "code",
   "execution_count": null,
   "metadata": {},
   "outputs": [],
   "source": []
  }
 ],
 "metadata": {
  "kernelspec": {
   "display_name": "base",
   "language": "python",
   "name": "python3"
  },
  "language_info": {
   "codemirror_mode": {
    "name": "ipython",
    "version": 3
   },
   "file_extension": ".py",
   "mimetype": "text/x-python",
   "name": "python",
   "nbconvert_exporter": "python",
   "pygments_lexer": "ipython3",
   "version": "3.10.6"
  }
 },
 "nbformat": 4,
 "nbformat_minor": 2
}
