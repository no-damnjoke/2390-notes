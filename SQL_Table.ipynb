{
 "cells": [
  {
   "cell_type": "code",
   "execution_count": 6,
   "metadata": {},
   "outputs": [],
   "source": [
    "import sqlite3\n",
    "import pandas as pd\n",
    "conn = sqlite3.connect(\"../data/hk_stocks.db\")\n",
    "c = conn.cursor()"
   ]
  },
  {
   "cell_type": "code",
   "execution_count": 35,
   "metadata": {},
   "outputs": [
    {
     "data": {
      "text/plain": [
       "<sqlite3.Cursor at 0x1454bfb40>"
      ]
     },
     "execution_count": 35,
     "metadata": {},
     "output_type": "execute_result"
    }
   ],
   "source": [
    "query = \"\"\"\n",
    "CREATE TABLE test_tables\n",
    "(\n",
    "    key    INT    PRIMARY KEY    NOT NULL, -- Seperated by commas\n",
    "    id     REAL   NOT NULL, \n",
    "    firm_name   CHAR(254)    NOT NULL DEFAULT \"NO NAME\" -- NOT NULL do not allows null values during insertion \n",
    "    -- DEFAULT VALUE SPECIFICIED\n",
    ")\n",
    "\"\"\"\n",
    "\n",
    "c.execute(query)"
   ]
  },
  {
   "cell_type": "code",
   "execution_count": 32,
   "metadata": {},
   "outputs": [
    {
     "data": {
      "text/plain": [
       "[(0, 'key', 'INT', 1, None, 1), (1, 'id', 'REAL', 1, None, 0)]"
      ]
     },
     "execution_count": 32,
     "metadata": {},
     "output_type": "execute_result"
    }
   ],
   "source": [
    "query = \"\"\"\n",
    "PRAGMA table_info(\"test_tables\")\n",
    "\"\"\"\n",
    "\n",
    "test = c.execute(query)\n",
    "test.fetchall()\n"
   ]
  },
  {
   "cell_type": "code",
   "execution_count": 31,
   "metadata": {},
   "outputs": [
    {
     "ename": "OperationalError",
     "evalue": "no such column: \"firm_name\"",
     "output_type": "error",
     "traceback": [
      "\u001b[0;31m---------------------------------------------------------------------------\u001b[0m",
      "\u001b[0;31mOperationalError\u001b[0m                          Traceback (most recent call last)",
      "\u001b[1;32m/Users/reyesmak/Library/Mobile Documents/com~apple~CloudDocs/HKU 24 Sem1/FINA2390/Exam/SQL_Table.ipynb Cell 4\u001b[0m line \u001b[0;36m6\n\u001b[1;32m      <a href='vscode-notebook-cell:/Users/reyesmak/Library/Mobile%20Documents/com~apple~CloudDocs/HKU%2024%20Sem1/FINA2390/Exam/SQL_Table.ipynb#W3sZmlsZQ%3D%3D?line=0'>1</a>\u001b[0m query \u001b[39m=\u001b[39m \u001b[39m\"\"\"\u001b[39m\n\u001b[1;32m      <a href='vscode-notebook-cell:/Users/reyesmak/Library/Mobile%20Documents/com~apple~CloudDocs/HKU%2024%20Sem1/FINA2390/Exam/SQL_Table.ipynb#W3sZmlsZQ%3D%3D?line=1'>2</a>\u001b[0m \u001b[39mALTER TABLE test_tables\u001b[39m\n\u001b[1;32m      <a href='vscode-notebook-cell:/Users/reyesmak/Library/Mobile%20Documents/com~apple~CloudDocs/HKU%2024%20Sem1/FINA2390/Exam/SQL_Table.ipynb#W3sZmlsZQ%3D%3D?line=2'>3</a>\u001b[0m \u001b[39mDROP COLUMN firm_name;\u001b[39m\n\u001b[1;32m      <a href='vscode-notebook-cell:/Users/reyesmak/Library/Mobile%20Documents/com~apple~CloudDocs/HKU%2024%20Sem1/FINA2390/Exam/SQL_Table.ipynb#W3sZmlsZQ%3D%3D?line=3'>4</a>\u001b[0m \u001b[39m\"\"\"\u001b[39m\n\u001b[0;32m----> <a href='vscode-notebook-cell:/Users/reyesmak/Library/Mobile%20Documents/com~apple~CloudDocs/HKU%2024%20Sem1/FINA2390/Exam/SQL_Table.ipynb#W3sZmlsZQ%3D%3D?line=5'>6</a>\u001b[0m c\u001b[39m.\u001b[39;49mexecute(query)\n\u001b[1;32m      <a href='vscode-notebook-cell:/Users/reyesmak/Library/Mobile%20Documents/com~apple~CloudDocs/HKU%2024%20Sem1/FINA2390/Exam/SQL_Table.ipynb#W3sZmlsZQ%3D%3D?line=7'>8</a>\u001b[0m query \u001b[39m=\u001b[39m \u001b[39m\"\"\"\u001b[39m\n\u001b[1;32m      <a href='vscode-notebook-cell:/Users/reyesmak/Library/Mobile%20Documents/com~apple~CloudDocs/HKU%2024%20Sem1/FINA2390/Exam/SQL_Table.ipynb#W3sZmlsZQ%3D%3D?line=8'>9</a>\u001b[0m \u001b[39mPRAGMA table_info(\u001b[39m\u001b[39m'\u001b[39m\u001b[39mtest_tables\u001b[39m\u001b[39m'\u001b[39m\u001b[39m)  -- Get the table information\u001b[39m\n\u001b[1;32m     <a href='vscode-notebook-cell:/Users/reyesmak/Library/Mobile%20Documents/com~apple~CloudDocs/HKU%2024%20Sem1/FINA2390/Exam/SQL_Table.ipynb#W3sZmlsZQ%3D%3D?line=9'>10</a>\u001b[0m \u001b[39m\"\"\"\u001b[39m\n\u001b[1;32m     <a href='vscode-notebook-cell:/Users/reyesmak/Library/Mobile%20Documents/com~apple~CloudDocs/HKU%2024%20Sem1/FINA2390/Exam/SQL_Table.ipynb#W3sZmlsZQ%3D%3D?line=11'>12</a>\u001b[0m c\u001b[39m.\u001b[39mexecute(query)\u001b[39m.\u001b[39mfetchall()\n",
      "\u001b[0;31mOperationalError\u001b[0m: no such column: \"firm_name\""
     ]
    }
   ],
   "source": [
    "query = \"\"\"\n",
    "ALTER TABLE test_tables\n",
    "DROP COLUMN firm_name;\n",
    "\"\"\"\n",
    "\n",
    "c.execute(query)\n",
    "\n",
    "query = \"\"\"\n",
    "PRAGMA table_info('test_tables')  -- Get the table information\n",
    "\"\"\"\n",
    "\n",
    "c.execute(query).fetchall()"
   ]
  },
  {
   "cell_type": "code",
   "execution_count": 34,
   "metadata": {},
   "outputs": [
    {
     "data": {
      "text/plain": [
       "<sqlite3.Cursor at 0x1454bfb40>"
      ]
     },
     "execution_count": 34,
     "metadata": {},
     "output_type": "execute_result"
    }
   ],
   "source": [
    "query = \"\"\"\n",
    "DROP TABLE test_tables;\n",
    "\"\"\"\n",
    "\n",
    "c.execute(query)"
   ]
  },
  {
   "cell_type": "code",
   "execution_count": 36,
   "metadata": {},
   "outputs": [
    {
     "data": {
      "text/plain": [
       "<sqlite3.Cursor at 0x1454bfb40>"
      ]
     },
     "execution_count": 36,
     "metadata": {},
     "output_type": "execute_result"
    }
   ],
   "source": [
    "query = \"\"\"\n",
    "INSERT INTO test_tables (key, \n",
    "                         id, \n",
    "                         firm_name)\n",
    "VALUES (\n",
    "    9999999999,   -- key\n",
    "    101010101,    -- id\n",
    "    'Apple'       -- firm_name\n",
    ");\n",
    "\"\"\"\n",
    "\n",
    "c.execute(query)"
   ]
  },
  {
   "cell_type": "code",
   "execution_count": 37,
   "metadata": {},
   "outputs": [
    {
     "data": {
      "text/plain": [
       "[(9999999999, 101010101.0, 'Apple')]"
      ]
     },
     "execution_count": 37,
     "metadata": {},
     "output_type": "execute_result"
    }
   ],
   "source": [
    "query = \"\"\"\n",
    "SELECT *\n",
    "FROM test_tables;\n",
    "\"\"\"\n",
    "\n",
    "c.execute(query).fetchall()"
   ]
  },
  {
   "cell_type": "code",
   "execution_count": 38,
   "metadata": {},
   "outputs": [
    {
     "data": {
      "text/plain": [
       "<sqlite3.Cursor at 0x1454bfb40>"
      ]
     },
     "execution_count": 38,
     "metadata": {},
     "output_type": "execute_result"
    }
   ],
   "source": [
    "data = [(9999999997, 101010099.0, 'Google'), \n",
    "        (9999999996, 101010098.0, 'Meta'), \n",
    "        (9999999995, 101010097.0, 'Nvidia')]\n",
    "\n",
    "query = \"\"\"\n",
    "INSERT INTO test_tables (key, \n",
    "                         id, \n",
    "                         firm_name)\n",
    "VALUES (?, ?, ?);\n",
    "\"\"\"\n",
    "\n",
    "c.executemany(query, data)"
   ]
  },
  {
   "cell_type": "code",
   "execution_count": 39,
   "metadata": {},
   "outputs": [
    {
     "data": {
      "text/plain": [
       "[(9999999999, 101010101.0, 'Apple'),\n",
       " (9999999997, 101010099.0, 'Google'),\n",
       " (9999999996, 101010098.0, 'Meta'),\n",
       " (9999999995, 101010097.0, 'Nvidia')]"
      ]
     },
     "execution_count": 39,
     "metadata": {},
     "output_type": "execute_result"
    }
   ],
   "source": [
    "query = \"\"\"\n",
    "SELECT *\n",
    "FROM test_tables;\n",
    "\"\"\"\n",
    "\n",
    "c.execute(query).fetchall()"
   ]
  },
  {
   "cell_type": "code",
   "execution_count": 41,
   "metadata": {},
   "outputs": [
    {
     "data": {
      "text/plain": [
       "<sqlite3.Cursor at 0x1454bfb40>"
      ]
     },
     "execution_count": 41,
     "metadata": {},
     "output_type": "execute_result"
    }
   ],
   "source": [
    "query = \"\"\"\n",
    "INSERT INTO test_tables (key, \n",
    "                         id)\n",
    "VALUES (\n",
    "    9999999998,   -- key\n",
    "    101010100     -- id\n",
    ");\n",
    "\"\"\"\n",
    "\n",
    "c.execute(query)"
   ]
  },
  {
   "cell_type": "code",
   "execution_count": 42,
   "metadata": {},
   "outputs": [
    {
     "data": {
      "text/plain": [
       "[(9999999999, 101010101.0, 'Apple'),\n",
       " (9999999997, 101010099.0, 'Google'),\n",
       " (9999999996, 101010098.0, 'Meta'),\n",
       " (9999999995, 101010097.0, 'Nvidia'),\n",
       " (9999999998, 101010100.0, 'NO NAME')]"
      ]
     },
     "execution_count": 42,
     "metadata": {},
     "output_type": "execute_result"
    }
   ],
   "source": [
    "query = \"\"\"\n",
    "SELECT *\n",
    "FROM test_tables;\n",
    "\"\"\"\n",
    "\n",
    "c.execute(query).fetchall()"
   ]
  },
  {
   "cell_type": "code",
   "execution_count": 43,
   "metadata": {},
   "outputs": [
    {
     "data": {
      "text/plain": [
       "<sqlite3.Cursor at 0x1454bfb40>"
      ]
     },
     "execution_count": 43,
     "metadata": {},
     "output_type": "execute_result"
    }
   ],
   "source": [
    "query = \"\"\"\n",
    "UPDATE test_tables             -- The table to be updated\n",
    "SET firm_name = \"Microsoft\"    -- The column names and their new values\n",
    "WHERE key = 9999999998;        -- The filter condition that determines which rows should be updated\n",
    "\"\"\"\n",
    "\n",
    "c.execute(query)"
   ]
  },
  {
   "cell_type": "code",
   "execution_count": 44,
   "metadata": {},
   "outputs": [
    {
     "data": {
      "text/plain": [
       "[(9999999999, 101010101.0, 'Apple'),\n",
       " (9999999997, 101010099.0, 'Google'),\n",
       " (9999999996, 101010098.0, 'Meta'),\n",
       " (9999999995, 101010097.0, 'Nvidia'),\n",
       " (9999999998, 101010100.0, 'Microsoft')]"
      ]
     },
     "execution_count": 44,
     "metadata": {},
     "output_type": "execute_result"
    }
   ],
   "source": [
    "query = \"\"\"\n",
    "SELECT *\n",
    "FROM test_tables;\n",
    "\"\"\"\n",
    "\n",
    "c.execute(query).fetchall()"
   ]
  },
  {
   "cell_type": "code",
   "execution_count": 48,
   "metadata": {},
   "outputs": [
    {
     "data": {
      "text/plain": [
       "<sqlite3.Cursor at 0x1454bfb40>"
      ]
     },
     "execution_count": 48,
     "metadata": {},
     "output_type": "execute_result"
    }
   ],
   "source": [
    "query = \"\"\"\n",
    "DELETE FROM test_tables             \n",
    "WHERE key = 9999999998 OR firm_name = \"Apple\";     \n",
    "\"\"\"\n",
    "\n",
    "c.execute(query)"
   ]
  },
  {
   "cell_type": "code",
   "execution_count": 49,
   "metadata": {},
   "outputs": [
    {
     "data": {
      "text/plain": [
       "[(9999999997, 101010099.0, 'Google'),\n",
       " (9999999996, 101010098.0, 'Meta'),\n",
       " (9999999995, 101010097.0, 'Nvidia')]"
      ]
     },
     "execution_count": 49,
     "metadata": {},
     "output_type": "execute_result"
    }
   ],
   "source": [
    "query = \"\"\"\n",
    "SELECT *\n",
    "FROM test_tables;\n",
    "\"\"\"\n",
    "\n",
    "c.execute(query).fetchall()"
   ]
  },
  {
   "cell_type": "code",
   "execution_count": 51,
   "metadata": {},
   "outputs": [],
   "source": [
    "#MAKE SURE YOU ALWAYS INCLUDE A WHERE CLAUSE FOR UPDATE or DELETE\n",
    "conn.close()"
   ]
  },
  {
   "cell_type": "code",
   "execution_count": null,
   "metadata": {},
   "outputs": [],
   "source": []
  }
 ],
 "metadata": {
  "kernelspec": {
   "display_name": "base",
   "language": "python",
   "name": "python3"
  },
  "language_info": {
   "codemirror_mode": {
    "name": "ipython",
    "version": 3
   },
   "file_extension": ".py",
   "mimetype": "text/x-python",
   "name": "python",
   "nbconvert_exporter": "python",
   "pygments_lexer": "ipython3",
   "version": "3.10.6"
  }
 },
 "nbformat": 4,
 "nbformat_minor": 2
}
