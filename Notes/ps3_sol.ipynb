{
 "cells": [
  {
   "cell_type": "markdown",
   "id": "fc84d137",
   "metadata": {},
   "source": [
    "# Problem Set 3\n",
    "\n",
    "This is the third, and also the last, homework assignment, which accounts for $15\\%$ of your final grade. \n",
    "\n",
    "There are three questions, and their weights are:\n",
    "* Q1: $40\\%$,\n",
    "* Q2: $30\\%$,\n",
    "* Q3: $30\\%$.\n",
    "\n",
    "You may work with other students. The maximal number of students per group is two. However, you can work on your own. Be sure to indicate with whom you have worked in your submission.\n",
    "\n",
    "### Deadline: Dec 1, 2023 (5 PM HK Time). \n",
    "\n",
    "There is a penalty for late submissions: $5\\%$ will be subtracted from the total mark for every additional day after the deadline. \n",
    "\n",
    "You need to download the data using the following Dropbox link: https://www.dropbox.com/scl/fi/w7ijrh70sivrk4kgz4qb2/ps3_data.zip?rlkey=0euuf6s2sz17xem1qxza1rfxa&dl=0."
   ]
  },
  {
   "cell_type": "markdown",
   "id": "8a4d7bb1",
   "metadata": {},
   "source": [
    "---"
   ]
  },
  {
   "cell_type": "code",
   "execution_count": 1,
   "id": "1c17b796",
   "metadata": {
    "tags": []
   },
   "outputs": [],
   "source": [
    "import numpy as np\n",
    "import pandas as pd\n",
    "import matplotlib.pyplot as plt\n",
    "plt.rc('figure', figsize=(6, 4))\n",
    "PREVIOUS_MAX_ROWS = pd.options.display.max_rows\n",
    "pd.options.display.max_rows = 15\n",
    "np.set_printoptions(precision=4, suppress=True)\n",
    "from dateutil.parser import parse\n",
    "import statsmodels.api as sm\n",
    "import statsmodels.formula.api as smf"
   ]
  },
  {
   "cell_type": "markdown",
   "id": "8e416eff",
   "metadata": {},
   "source": [
    "## Q1. Testing Fama-French Three Factor Models\n",
    "\n",
    "In week 10, we introduced how to use the ```statmodels``` package to test the Capital Asset Pricing Model (CAPM). In this question, we further explore two other factors, the size (SMB) and value (HML) factors. In fact, the Fama-French three-factor (MKT, SMB, HML) model has been one of the most popular factor pricing models in the past 30 years. In this question, you will explore whether the three-factor model is able to explain portfolio returns. \n",
    "\n",
    "The baseline model is that the required return of an asset should be determined by the systematic risks (betas) as follows: <br>\n",
    "<br>\n",
    "$$\n",
    "\\mathbf{E} [ R_i ] - R_f = \\beta^{mkt}_i \\big( \\mathbf{E} [ R_m ] - R_f \\big) + \\beta^{smb}_i \\big( \\mathbf{E} [ R_{smb} ] - R_f \\big) + \\beta^{hml}_i \\big( \\mathbf{E} [ R_{hml} ] - R_f \\big), \n",
    "$$\n",
    " * $\\mathbf{E} [ R_i ]$: the expected/required return of the asset $i$\n",
    " * $R_f$: the risk-free rate\n",
    " * $\\mathbf{E} [ R_m ]$: the expected/required return of the market portfolio ($m$ is the abbreviation for market)\n",
    " * $\\mathbf{E} [ R_{smb} ]$: the expected/required return of the SMB portfolio\n",
    " * $\\mathbf{E} [ R_{hml} ]$: the expected/required return of the HML portfolio\n",
    " * $\\beta^{mkt}_i$, $\\beta^{smb}_i$, and $\\beta^{hml}_i$: the beta, or the sensitivity of the expected excess return to the expected excess market, SMB, and HML returns"
   ]
  },
  {
   "cell_type": "markdown",
   "id": "e643894a",
   "metadata": {},
   "source": [
    "We estimate the above model via the simple OLS regression:   <br>\n",
    "<br>\n",
    "$$\n",
    "R_{it} - R_{ft} = \\alpha_i + \\beta^{mkt}_i \\big( R_{mt} - R_{ft} \\big) + \\beta^{smb}_i \\big( R_{smb,t} - R_{ft} \\big) + \\beta^{hml}_i \\big( R_{hml,t} - R_{ft} \\big) + \\epsilon_{it}, \n",
    "$$\n",
    " * $R_{it}$, $R_{mt}$, $R_{smb,t}$, $R_{hml,t}$, and $R_{ft}$: the time-$t$ return of asset $i$, the market portfolio, the SMB portfolio, the HML portfolio, and the risk-free asset\n",
    " * $\\epsilon_{it}$: the random error term\n",
    " * $\\alpha_i$ is called the pricing errors (or just the alpha)"
   ]
  },
  {
   "cell_type": "markdown",
   "id": "eb149810",
   "metadata": {},
   "source": [
    "### Q1.1\n",
    "\n",
    "First, you need to load the data in ```week10_test_assets.xlsx```, with three sheets:\n",
    "- ```25portfolios_size_value```: 25 portfolios sorted by firm size and value signals\n",
    "- ```25portfolios_size_mom```: 25 portfolios sorted by firm size and momentum signals\n",
    "- ```FF3_factors```: Fama-French three factors\n",
    "\n",
    "Second, you need to compute the **monthly excess returns** of the above three datasets, following what we did in the lecture 10. "
   ]
  },
  {
   "cell_type": "code",
   "execution_count": 2,
   "id": "563dc33b",
   "metadata": {
    "tags": []
   },
   "outputs": [],
   "source": [
    "test_assets_daily = pd.read_excel(\"../data_to_share/week10_test_assets.xlsx\", sheet_name=\"25portfolios_size_value\",\n",
    "                                 index_col=0)\n",
    "test_assets_daily.index = [str(x) for x in test_assets_daily.index]\n",
    "test_assets_daily.index = [parse(x) for x in test_assets_daily.index]\n",
    "#test_assets_daily.head()\n",
    "\n",
    "test_assets_daily2 = pd.read_excel(\"../data_to_share/week10_test_assets.xlsx\", sheet_name=\"25portfolios_size_mom\",\n",
    "                                   index_col=0)\n",
    "test_assets_daily2.index = [str(x) for x in test_assets_daily2.index]\n",
    "test_assets_daily2.index = [parse(x) for x in test_assets_daily2.index]\n",
    "\n",
    "factors_daily = pd.read_excel(\"../data_to_share/week10_test_assets.xlsx\", sheet_name=\"FF3_factors\", index_col=0)\n",
    "factors_daily.index = [str(x) for x in factors_daily.index]\n",
    "factors_daily.index = [parse(x) for x in factors_daily.index]\n",
    "#factors_daily.head()"
   ]
  },
  {
   "cell_type": "code",
   "execution_count": 3,
   "id": "e6405836",
   "metadata": {
    "tags": []
   },
   "outputs": [],
   "source": [
    "FF3_daily = factors_daily[['Mkt-RF', 'SMB', 'HML']]/100\n",
    "RF_daily = factors_daily[['RF']]/100\n",
    "FF3_gross_daily = pd.DataFrame(FF3_daily.values + RF_daily.values @ np.ones((1,3)), \n",
    "                               columns=[\"MKT\", 'SMB_gross', 'HML_gross'])\n",
    "FF3_gross_daily.index = FF3_daily.index\n",
    "test_assets_daily = test_assets_daily/100\n",
    "test_assets_daily2 = test_assets_daily2/100"
   ]
  },
  {
   "cell_type": "code",
   "execution_count": 4,
   "id": "690eb673",
   "metadata": {
    "tags": []
   },
   "outputs": [],
   "source": [
    "FF3_gross_monthly = (1+FF3_gross_daily).resample('M').prod() - 1\n",
    "RF_monthly = (1+RF_daily).resample('M').prod() - 1\n",
    "\n",
    "FF3_monthly = pd.DataFrame(FF3_gross_monthly.values - RF_monthly.values @ np.ones((1,3)), \n",
    "                           index=FF3_gross_monthly.index, \n",
    "                           columns=['MKT_RF', 'SMB', 'HML'])"
   ]
  },
  {
   "cell_type": "code",
   "execution_count": 5,
   "id": "b9e1165e",
   "metadata": {
    "tags": []
   },
   "outputs": [],
   "source": [
    "test_assets_monthly = (1+test_assets_daily).resample('M').prod() - 1\n",
    "Tm, N = test_assets_monthly.shape\n",
    "test_assets_RF_monthly = pd.DataFrame(test_assets_monthly.values - RF_monthly.values @ np.ones((1,N)), \n",
    "                                      index=test_assets_monthly.index, columns=test_assets_monthly.columns)\n",
    "\n",
    "test_assets_monthly2 = (1+test_assets_daily2).resample('M').prod() - 1\n",
    "Tm_2, N_2 = test_assets_monthly2.shape\n",
    "test_assets_RF_monthly2 = pd.DataFrame(test_assets_monthly2.values - RF_monthly.values @ np.ones((1,N_2)), \n",
    "                                       index=test_assets_monthly2.index, columns=test_assets_monthly2.columns)\n"
   ]
  },
  {
   "cell_type": "markdown",
   "id": "66ed6c19",
   "metadata": {},
   "source": [
    "### Q1.2\n",
    "\n",
    "In this question, you are required to run the OLS regressions for the cross-section of **25 portfolios sorted by firm size and value signals**. You need to estimate the following\n",
    "- ```alpha``` ($\\alpha_i$ in the above question): an ```np.array``` with ```alpha.shape=(25,1)```\n",
    "- ```beta``` ($\\beta_i^{mkt}$, $\\beta_i^{smb}$, $\\beta_i^{hml}$): an ```np.array``` with ```beta.shape=(25,3)```\n",
    "- The $95\\%$ confidence intervals of ```alpha``` and ```beta```. \n",
    "\n",
    "After you estimate the above parameters, you need to create a $2 \\times 2$ bar plots, where the x-axis is always the portfolio names. \n",
    "```python\n",
    "fig, axes = plt.subplots(2, 2, figsize=(16,8), sharex=True)\n",
    "```\n",
    "- ```axes[0,0]```: the y-axis plots ```alpha``` and its $95\\%$ confidence intervals (as in our lecture note)\n",
    "- ```axes[0,1]```: the y-axis plots ```beta[:,0]``` (market betas) and its $95\\%$ confidence intervals \n",
    "- ```axes[1,0]```: the y-axis plots ```beta[:,1]``` (SMB betas) and its $95\\%$ confidence intervals \n",
    "- ```axes[1,1]```: the y-axis plots ```beta[:,2]``` (HML betas) and its $95\\%$ confidence intervals "
   ]
  },
  {
   "cell_type": "code",
   "execution_count": 6,
   "id": "98b85319",
   "metadata": {
    "tags": []
   },
   "outputs": [],
   "source": [
    "results_list = []\n",
    "alpha = np.zeros((N,))\n",
    "alpha_95CI = np.zeros((2, N))\n",
    "beta = np.zeros((N,3))\n",
    "beta_95CI = np.zeros((3, 2, N))\n",
    "\n",
    "for n in range(N):\n",
    "    model = sm.OLS(test_assets_RF_monthly.values[:,n], sm.add_constant(FF3_monthly.values))\n",
    "    results = model.fit()\n",
    "    results_list.append(results)\n",
    "    alpha[n] = results.params[0]\n",
    "    beta[n,:] = results.params[1:4]\n",
    "    alpha_95CI[:,n] = results.conf_int(alpha=0.05)[0,:]\n",
    "    beta_95CI[:,:,n] = results.conf_int(alpha=0.05)[1:,:]\n"
   ]
  },
  {
   "cell_type": "code",
   "execution_count": 7,
   "id": "2119c7a5",
   "metadata": {
    "scrolled": true,
    "tags": []
   },
   "outputs": [
    {
     "data": {
      "image/png": "[encoded data removed]",
      "text/plain": [
       "<Figure size 1600x800 with 4 Axes>"
      ]
     },
     "metadata": {},
     "output_type": "display_data"
    }
   ],
   "source": [
    "fig, axes = plt.subplots(2, 2, figsize=(16,8), sharex=True)\n",
    "\n",
    "axes[0,0].bar(np.arange(1,26,1), alpha, yerr=(alpha-alpha_95CI)[0,:])\n",
    "axes[0,0].set_xticks(np.arange(1,26,1))\n",
    "axes[0,0].set_xticklabels(test_assets_monthly.columns, rotation=90, fontsize='small')\n",
    "#axes[0].set_xlabel('Test Assets')\n",
    "axes[0,0].set_ylabel('Alpha')\n",
    "\n",
    "axes[0,1].bar(np.arange(1,26,1), beta[:,0], yerr=(beta[:,0]-beta_95CI[0,:])[0,:])\n",
    "axes[0,1].set_xticks(np.arange(1,26,1))\n",
    "axes[0,1].set_xticklabels(test_assets_monthly.columns, rotation=90, fontsize='small')\n",
    "#axes[0,1].set_xlabel('Test Assets')\n",
    "axes[0,1].set_ylabel('Beta (MKT)')\n",
    "\n",
    "axes[1,0].bar(np.arange(1,26,1), beta[:,1], yerr=(beta[:,1]-beta_95CI[1,:])[0,:])\n",
    "axes[1,0].set_xticks(np.arange(1,26,1))\n",
    "axes[1,0].set_xticklabels(test_assets_monthly.columns, rotation=90, fontsize='small')\n",
    "axes[1,0].set_xlabel('Test Assets')\n",
    "axes[1,0].set_ylabel('Beta (SMB)')\n",
    "\n",
    "axes[1,1].bar(np.arange(1,26,1), beta[:,2], yerr=(beta[:,2]-beta_95CI[2,:])[0,:])\n",
    "axes[1,1].set_xticks(np.arange(1,26,1))\n",
    "axes[1,1].set_xticklabels(test_assets_monthly.columns, rotation=90, fontsize='small')\n",
    "axes[1,1].set_xlabel('Test Assets')\n",
    "axes[1,1].set_ylabel('Beta (HML)')\n",
    "\n",
    "plt.subplots_adjust(wspace=0.2, hspace=0.0)"
   ]
  },
  {
   "cell_type": "markdown",
   "id": "59e0ebb2",
   "metadata": {},
   "source": [
    "### Q1.3\n",
    "\n",
    "Given the estimated betas (```beta```) in Q1.2, we can now explore whether the betas of MKT, SMB, and HML ($\\beta_i^{mkt}$, $\\beta_i^{smb}$, $\\beta_i^{hml}$) help explain the cross-section of average returns of 25 portfolios sorted by firm size and value signals. In this question, you need to create scatter plots, where the y-axis always plots the realised average returns of 25 portfolios. Run the following codes:\n",
    "```python\n",
    "fig, axes = plt.subplots(2, 2, figsize=(8,8), sharey=True)\n",
    "```\n",
    "\n",
    "Four subplots are\n",
    "- ```axes[0,0]```: the x-axis is the predicted average returns implied by the Fama-French three-factor model\n",
    "- ```axes[0,1]```: the x-axis is the market beta\n",
    "- ```axes[1,0]```: the x-axis is the SMB beta\n",
    "- ```axes[1,1]```: the x-axis is the HML beta\n",
    "\n",
    "You need to compare this figure with the one plotted in the lecture note (Section 10.2.2). From these figures, whether the CAPM or the FF3 model has a better performance? Do SMB and HML help improve the explanatory power of the factor model, and how? "
   ]
  },
  {
   "cell_type": "code",
   "execution_count": 8,
   "id": "5ad30c1b",
   "metadata": {
    "tags": []
   },
   "outputs": [],
   "source": [
    "mean_rets_ff3 = (FF3_monthly.values @ beta.T).mean(axis=0)\n",
    "mean_rets_realized = test_assets_RF_monthly.values.mean(axis=0)"
   ]
  },
  {
   "cell_type": "code",
   "execution_count": 9,
   "id": "2b6aa8f1",
   "metadata": {
    "tags": []
   },
   "outputs": [
    {
     "data": {
      "image/png": "[encoded data removed]",
      "text/plain": [
       "<Figure size 800x800 with 4 Axes>"
      ]
     },
     "metadata": {},
     "output_type": "display_data"
    }
   ],
   "source": [
    "fig, axes = plt.subplots(2, 2, figsize=(8,8), sharey=True)\n",
    "\n",
    "axes[0,0].scatter(mean_rets_ff3, mean_rets_realized)\n",
    "axes[0,0].set_xlabel('FF3 predicted returns')\n",
    "axes[0,0].set_ylabel('Observed realised returns')\n",
    "\n",
    "axes[0,1].scatter(beta[:,0], mean_rets_realized)\n",
    "axes[0,1].set_xlabel('Beta (MKT)')\n",
    "#axes[0,1].set_ylabel('Observed realised returns')\n",
    "\n",
    "axes[1,0].scatter(beta[:,1], mean_rets_realized)\n",
    "axes[1,0].set_xlabel('Beta (SMB)')\n",
    "axes[1,0].set_ylabel('Observed realised returns')\n",
    "\n",
    "axes[1,1].scatter(beta[:,2], mean_rets_realized)\n",
    "axes[1,1].set_xlabel('Beta (HML)')\n",
    "#axes[1,1].set_ylabel('Observed realised returns')\n",
    "\n",
    "plt.subplots_adjust(wspace=0.0, hspace=0.2)"
   ]
  },
  {
   "cell_type": "markdown",
   "id": "3274ccd4",
   "metadata": {},
   "source": [
    "### Q1.4 \n",
    "\n",
    "Repeat the analysis in Q1.2 and Q1.3 for another cross-section of 25 portfolios sorted by **firm size and momentum signal**. Do you detect some different observations between these two cross-sections? "
   ]
  },
  {
   "cell_type": "code",
   "execution_count": 10,
   "id": "d10aca62",
   "metadata": {
    "tags": []
   },
   "outputs": [],
   "source": [
    "results_list = []\n",
    "alpha = np.zeros((N,))\n",
    "alpha_95CI = np.zeros((2, N))\n",
    "beta = np.zeros((N,3))\n",
    "beta_95CI = np.zeros((3, 2, N))\n",
    "\n",
    "for n in range(N):\n",
    "    model = sm.OLS(test_assets_RF_monthly2.values[:,n], sm.add_constant(FF3_monthly.values))\n",
    "    results = model.fit()\n",
    "    results_list.append(results)\n",
    "    alpha[n] = results.params[0]\n",
    "    beta[n,:] = results.params[1:4]\n",
    "    alpha_95CI[:,n] = results.conf_int(alpha=0.05)[0,:]\n",
    "    beta_95CI[:,:,n] = results.conf_int(alpha=0.05)[1:,:]"
   ]
  },
  {
   "cell_type": "code",
   "execution_count": 11,
   "id": "714cf9ae",
   "metadata": {
    "scrolled": true,
    "tags": []
   },
   "outputs": [
    {
     "data": {
      "image/png": "[encoded data removed]",
      "text/plain": [
       "<Figure size 1600x800 with 4 Axes>"
      ]
     },
     "metadata": {},
     "output_type": "display_data"
    }
   ],
   "source": [
    "fig, axes = plt.subplots(2, 2, figsize=(16,8), sharex=True)\n",
    "\n",
    "#alpha_err = alpha_95CI - alpha\n",
    "#alpha_err[0,:] = - alpha_err[0,:]\n",
    "axes[0,0].bar(np.arange(1,26,1), alpha, yerr=(alpha-alpha_95CI)[0,:])\n",
    "axes[0,0].set_xticks(np.arange(1,26,1))\n",
    "axes[0,0].set_xticklabels(test_assets_monthly.columns, rotation=90, fontsize='small')\n",
    "#axes[0].set_xlabel('Test Assets')\n",
    "axes[0,0].set_ylabel('Alpha')\n",
    "\n",
    "#beta_err = beta[:,0]-beta_95CI[0,:]\n",
    "#beta_err[0,:] = - beta_err[0,:]\n",
    "axes[0,1].bar(np.arange(1,26,1), beta[:,0], yerr=(beta[:,0]-beta_95CI[0,:])[0,:])\n",
    "axes[0,1].set_xticks(np.arange(1,26,1))\n",
    "axes[0,1].set_xticklabels(test_assets_monthly.columns, rotation=90, fontsize='small')\n",
    "#axes[0,1].set_xlabel('Test Assets')\n",
    "axes[0,1].set_ylabel('Beta (MKT)')\n",
    "\n",
    "axes[1,0].bar(np.arange(1,26,1), beta[:,1], yerr=(beta[:,1]-beta_95CI[1,:])[0,:])\n",
    "axes[1,0].set_xticks(np.arange(1,26,1))\n",
    "axes[1,0].set_xticklabels(test_assets_monthly.columns, rotation=90, fontsize='small')\n",
    "axes[1,0].set_xlabel('Test Assets')\n",
    "axes[1,0].set_ylabel('Beta (SMB)')\n",
    "\n",
    "axes[1,1].bar(np.arange(1,26,1), beta[:,2], yerr=(beta[:,2]-beta_95CI[2,:])[0,:])\n",
    "axes[1,1].set_xticks(np.arange(1,26,1))\n",
    "axes[1,1].set_xticklabels(test_assets_monthly.columns, rotation=90, fontsize='small')\n",
    "axes[1,1].set_xlabel('Test Assets')\n",
    "axes[1,1].set_ylabel('Beta (HML)')\n",
    "\n",
    "plt.subplots_adjust(wspace=0.2, hspace=0.0)"
   ]
  },
  {
   "cell_type": "code",
   "execution_count": 12,
   "id": "527c07ce",
   "metadata": {
    "tags": []
   },
   "outputs": [],
   "source": [
    "mean_rets_ff3 = (FF3_monthly.values @ beta.T).mean(axis=0)\n",
    "mean_rets_realized = test_assets_RF_monthly2.values.mean(axis=0)"
   ]
  },
  {
   "cell_type": "code",
   "execution_count": 13,
   "id": "ac75fa88",
   "metadata": {
    "tags": []
   },
   "outputs": [
    {
     "data": {
      "image/png": "[encoded data removed]",
      "text/plain": [
       "<Figure size 800x800 with 4 Axes>"
      ]
     },
     "metadata": {},
     "output_type": "display_data"
    }
   ],
   "source": [
    "fig, axes = plt.subplots(2, 2, figsize=(8,8), sharey=True)\n",
    "\n",
    "axes[0,0].scatter(mean_rets_ff3, mean_rets_realized)\n",
    "axes[0,0].set_xlabel('FF3 predicted returns')\n",
    "axes[0,0].set_ylabel('Observed realised returns')\n",
    "\n",
    "axes[0,1].scatter(beta[:,0], mean_rets_realized)\n",
    "axes[0,1].set_xlabel('Beta (MKT)')\n",
    "#axes[0,1].set_ylabel('Observed realised returns')\n",
    "\n",
    "axes[1,0].scatter(beta[:,1], mean_rets_realized)\n",
    "axes[1,0].set_xlabel('Beta (SMB)')\n",
    "axes[1,0].set_ylabel('Observed realised returns')\n",
    "\n",
    "axes[1,1].scatter(beta[:,2], mean_rets_realized)\n",
    "axes[1,1].set_xlabel('Beta (HML)')\n",
    "#axes[1,1].set_ylabel('Observed realised returns')\n",
    "\n",
    "plt.subplots_adjust(wspace=0.0, hspace=0.2)"
   ]
  },
  {
   "cell_type": "markdown",
   "id": "d1054c12",
   "metadata": {},
   "source": [
    "---"
   ]
  },
  {
   "cell_type": "markdown",
   "id": "50f87364",
   "metadata": {},
   "source": [
    "## Q2. Predicting Stock Returns\n",
    "\n",
    "In this question, we focus on the cross-sectional predictability. We will run the OLS regressions to estimate the following models: <br>\n",
    "<br>\n",
    "$$\n",
    "R_{i,t+1} = c + X^\\top_{it} \\beta + \\epsilon_{i,t+1}, \n",
    "$$\n",
    "* $R_{i,t+1}$: return of stock $i$ at time $t+1$\n",
    "* $X_{it}$: the $K \\times 1$ vector of signals of stock $i$ at time $t$ (i.e., we are living at time $t$ and observe $X_{it}$. We aim to predict the next-period $R_{i,t+1}$)\n",
    "* The key parameter is $\\beta$ : if $\\beta_k$ ($1 \\leq k \\leq K$) is significantly different from zero, we can say that the $k$-th signal can predict stock returns. "
   ]
  },
  {
   "cell_type": "markdown",
   "id": "510a87c8",
   "metadata": {},
   "source": [
    "---"
   ]
  },
  {
   "cell_type": "markdown",
   "id": "b0ff8269",
   "metadata": {},
   "source": [
    "### Q2.1 \n",
    "\n",
    "You need to load the panel data of US stocks (```GlobalFactors_USA_ps3.parquet```) and preprocess the data. The variables can be grouped into three categories as follows:\n",
    "```python\n",
    "identifier_var_list = [\"id\", \"eom\", \"size_grp\", \"ret_exc_lead1m\", \"me\"]\n",
    "\n",
    "value_list = ['at_me', 'be_me', 'bev_mev', 'chcsho_12m', 'debt_me', 'div12m_me', 'ebitda_mev', 'eq_dur',\n",
    "              'eqnetis_at', 'eqnpo_12m', 'eqnpo_me', 'eqpo_me', 'fcf_me', 'ival_me', 'netis_at', 'ni_me',\n",
    "              'ocf_me', 'sale_me']\n",
    "\n",
    "momentum_list = ['prc_highprc_252d', 'resff3_6_1', 'resff3_12_1', 'ret_3_1', 'ret_6_1', 'ret_9_1', \n",
    "                 'ret_12_1', 'seas_1_1na']\n",
    "```\n",
    "\n",
    "First, you need remove the firms that do not have enough historic observations available (remove those with less than 24 months observations). \n",
    "\n",
    "Second, if a firm's market capitalization (the column ```\"me\"```) is less than 0.001% of the total market capitalization of the whole US stock market **per period**, we will exclude this firm from our analysis **in this period**. "
   ]
  },
  {
   "cell_type": "code",
   "execution_count": 14,
   "id": "614c057c",
   "metadata": {
    "tags": []
   },
   "outputs": [],
   "source": [
    "identifier_var_list = [\"id\", \"eom\", \"size_grp\", \"ret_exc_lead1m\", \"me\"]\n",
    "\n",
    "value_list = ['at_me', 'be_me', 'bev_mev', 'chcsho_12m', 'debt_me', 'div12m_me', 'ebitda_mev', 'eq_dur',\n",
    "              'eqnetis_at', 'eqnpo_12m', 'eqnpo_me', 'eqpo_me', 'fcf_me', 'ival_me', 'netis_at', 'ni_me',\n",
    "              'ocf_me', 'sale_me']\n",
    "\n",
    "momentum_list = ['prc_highprc_252d', 'resff3_6_1', 'resff3_12_1', 'ret_3_1', 'ret_6_1', 'ret_9_1', \n",
    "                 'ret_12_1', 'seas_1_1na']"
   ]
  },
  {
   "cell_type": "code",
   "execution_count": 15,
   "id": "a138c270",
   "metadata": {
    "tags": []
   },
   "outputs": [
    {
     "name": "stdout",
     "output_type": "stream",
     "text": [
      "(2917805, 29)\n"
     ]
    }
   ],
   "source": [
    "D = pd.read_parquet('../data_to_share/GlobalFactors_USA_ps3.parquet', engine='pyarrow')\n",
    "D = D.set_index(['id', 'eom'])  # create a hierarchical index using two columns 'id' and 'eom' as the index. \n",
    "print(D.shape)"
   ]
  },
  {
   "cell_type": "code",
   "execution_count": 16,
   "id": "bbd9e036",
   "metadata": {
    "tags": []
   },
   "outputs": [],
   "source": [
    "history_lengths = D.index.to_frame()['id'].groupby(level=0).count()\n",
    "cs_idx_with_history = history_lengths[history_lengths >= 24].index \n",
    "ts_idx = D.index.get_level_values(1).unique()\n",
    "df_idx = pd.MultiIndex.from_product((ts_idx, cs_idx_with_history)).to_frame()[[]]\n",
    "\n",
    "# left merge to produce a balanced panel\n",
    "D_full = pd.merge(D, df_idx, how='inner', left_index=True, right_index=True)"
   ]
  },
  {
   "cell_type": "code",
   "execution_count": 17,
   "id": "b73ec1ac",
   "metadata": {
    "tags": []
   },
   "outputs": [
    {
     "data": {
      "text/html": [
       "<div>\n",
       "<style scoped>\n",
       "    .dataframe tbody tr th:only-of-type {\n",
       "        vertical-align: middle;\n",
       "    }\n",
       "\n",
       "    .dataframe tbody tr th {\n",
       "        vertical-align: top;\n",
       "    }\n",
       "\n",
       "    .dataframe thead th {\n",
       "        text-align: right;\n",
       "    }\n",
       "</style>\n",
       "<table border=\"1\" class=\"dataframe\">\n",
       "  <thead>\n",
       "    <tr style=\"text-align: right;\">\n",
       "      <th></th>\n",
       "      <th></th>\n",
       "      <th>size_grp</th>\n",
       "      <th>ret_exc_lead1m</th>\n",
       "      <th>me</th>\n",
       "      <th>at_me</th>\n",
       "      <th>be_me</th>\n",
       "      <th>bev_mev</th>\n",
       "      <th>chcsho_12m</th>\n",
       "      <th>debt_me</th>\n",
       "      <th>div12m_me</th>\n",
       "      <th>ebitda_mev</th>\n",
       "      <th>...</th>\n",
       "      <th>ocf_me</th>\n",
       "      <th>sale_me</th>\n",
       "      <th>prc_highprc_252d</th>\n",
       "      <th>resff3_6_1</th>\n",
       "      <th>resff3_12_1</th>\n",
       "      <th>ret_3_1</th>\n",
       "      <th>ret_6_1</th>\n",
       "      <th>ret_9_1</th>\n",
       "      <th>ret_12_1</th>\n",
       "      <th>seas_1_1na</th>\n",
       "    </tr>\n",
       "    <tr>\n",
       "      <th>id</th>\n",
       "      <th>eom</th>\n",
       "      <th></th>\n",
       "      <th></th>\n",
       "      <th></th>\n",
       "      <th></th>\n",
       "      <th></th>\n",
       "      <th></th>\n",
       "      <th></th>\n",
       "      <th></th>\n",
       "      <th></th>\n",
       "      <th></th>\n",
       "      <th></th>\n",
       "      <th></th>\n",
       "      <th></th>\n",
       "      <th></th>\n",
       "      <th></th>\n",
       "      <th></th>\n",
       "      <th></th>\n",
       "      <th></th>\n",
       "      <th></th>\n",
       "      <th></th>\n",
       "      <th></th>\n",
       "    </tr>\n",
       "  </thead>\n",
       "  <tbody>\n",
       "    <tr>\n",
       "      <th rowspan=\"5\" valign=\"top\">16417.0</th>\n",
       "      <th>2002-01-31</th>\n",
       "      <td>micro</td>\n",
       "      <td>0.003421</td>\n",
       "      <td>48.407500</td>\n",
       "      <td>2.189913</td>\n",
       "      <td>1.096187</td>\n",
       "      <td>1.109152</td>\n",
       "      <td>-0.009996</td>\n",
       "      <td>0.0</td>\n",
       "      <td>0.018919</td>\n",
       "      <td>0.053625</td>\n",
       "      <td>...</td>\n",
       "      <td>0.039092</td>\n",
       "      <td>0.437347</td>\n",
       "      <td>NaN</td>\n",
       "      <td>-0.051031</td>\n",
       "      <td>0.154985</td>\n",
       "      <td>0.136413</td>\n",
       "      <td>-0.071260</td>\n",
       "      <td>-0.099492</td>\n",
       "      <td>0.011726</td>\n",
       "      <td>0.004526</td>\n",
       "    </tr>\n",
       "    <tr>\n",
       "      <th>2002-02-28</th>\n",
       "      <td>micro</td>\n",
       "      <td>0.002894</td>\n",
       "      <td>48.407500</td>\n",
       "      <td>2.184059</td>\n",
       "      <td>1.093257</td>\n",
       "      <td>1.105046</td>\n",
       "      <td>-0.009996</td>\n",
       "      <td>0.0</td>\n",
       "      <td>0.018871</td>\n",
       "      <td>0.053427</td>\n",
       "      <td>...</td>\n",
       "      <td>0.038987</td>\n",
       "      <td>0.436178</td>\n",
       "      <td>NaN</td>\n",
       "      <td>-0.299929</td>\n",
       "      <td>0.010412</td>\n",
       "      <td>-0.089741</td>\n",
       "      <td>-0.123932</td>\n",
       "      <td>-0.112135</td>\n",
       "      <td>-0.020544</td>\n",
       "      <td>0.008963</td>\n",
       "    </tr>\n",
       "    <tr>\n",
       "      <th>2002-03-31</th>\n",
       "      <td>micro</td>\n",
       "      <td>0.169963</td>\n",
       "      <td>45.518220</td>\n",
       "      <td>1.976607</td>\n",
       "      <td>0.989414</td>\n",
       "      <td>0.964798</td>\n",
       "      <td>-0.073012</td>\n",
       "      <td>0.0</td>\n",
       "      <td>0.020069</td>\n",
       "      <td>0.046646</td>\n",
       "      <td>...</td>\n",
       "      <td>0.035284</td>\n",
       "      <td>0.394748</td>\n",
       "      <td>NaN</td>\n",
       "      <td>0.051677</td>\n",
       "      <td>0.044783</td>\n",
       "      <td>-0.028441</td>\n",
       "      <td>0.150601</td>\n",
       "      <td>-0.097864</td>\n",
       "      <td>0.029461</td>\n",
       "      <td>-0.006713</td>\n",
       "    </tr>\n",
       "    <tr>\n",
       "      <th>2002-04-30</th>\n",
       "      <td>micro</td>\n",
       "      <td>-0.128442</td>\n",
       "      <td>53.325000</td>\n",
       "      <td>1.909435</td>\n",
       "      <td>0.947458</td>\n",
       "      <td>0.906528</td>\n",
       "      <td>-0.073012</td>\n",
       "      <td>0.0</td>\n",
       "      <td>0.017131</td>\n",
       "      <td>0.031954</td>\n",
       "      <td>...</td>\n",
       "      <td>0.051387</td>\n",
       "      <td>0.349036</td>\n",
       "      <td>NaN</td>\n",
       "      <td>-0.157543</td>\n",
       "      <td>-0.269798</td>\n",
       "      <td>0.008961</td>\n",
       "      <td>0.108768</td>\n",
       "      <td>-0.093853</td>\n",
       "      <td>-0.121399</td>\n",
       "      <td>0.010627</td>\n",
       "    </tr>\n",
       "    <tr>\n",
       "      <th>2002-05-31</th>\n",
       "      <td>micro</td>\n",
       "      <td>0.061289</td>\n",
       "      <td>46.339422</td>\n",
       "      <td>2.261668</td>\n",
       "      <td>1.122235</td>\n",
       "      <td>1.096515</td>\n",
       "      <td>-0.073012</td>\n",
       "      <td>0.0</td>\n",
       "      <td>0.019351</td>\n",
       "      <td>0.038651</td>\n",
       "      <td>...</td>\n",
       "      <td>0.060866</td>\n",
       "      <td>0.413423</td>\n",
       "      <td>NaN</td>\n",
       "      <td>-0.011454</td>\n",
       "      <td>0.041506</td>\n",
       "      <td>0.176471</td>\n",
       "      <td>0.075933</td>\n",
       "      <td>0.035519</td>\n",
       "      <td>0.049463</td>\n",
       "      <td>0.000098</td>\n",
       "    </tr>\n",
       "  </tbody>\n",
       "</table>\n",
       "<p>5 rows × 29 columns</p>\n",
       "</div>"
      ],
      "text/plain": [
       "                   size_grp  ret_exc_lead1m         me     at_me     be_me  \\\n",
       "id      eom                                                                  \n",
       "16417.0 2002-01-31    micro        0.003421  48.407500  2.189913  1.096187   \n",
       "        2002-02-28    micro        0.002894  48.407500  2.184059  1.093257   \n",
       "        2002-03-31    micro        0.169963  45.518220  1.976607  0.989414   \n",
       "        2002-04-30    micro       -0.128442  53.325000  1.909435  0.947458   \n",
       "        2002-05-31    micro        0.061289  46.339422  2.261668  1.122235   \n",
       "\n",
       "                     bev_mev  chcsho_12m  debt_me  div12m_me  ebitda_mev  ...  \\\n",
       "id      eom                                                               ...   \n",
       "16417.0 2002-01-31  1.109152   -0.009996      0.0   0.018919    0.053625  ...   \n",
       "        2002-02-28  1.105046   -0.009996      0.0   0.018871    0.053427  ...   \n",
       "        2002-03-31  0.964798   -0.073012      0.0   0.020069    0.046646  ...   \n",
       "        2002-04-30  0.906528   -0.073012      0.0   0.017131    0.031954  ...   \n",
       "        2002-05-31  1.096515   -0.073012      0.0   0.019351    0.038651  ...   \n",
       "\n",
       "                      ocf_me   sale_me  prc_highprc_252d  resff3_6_1  \\\n",
       "id      eom                                                            \n",
       "16417.0 2002-01-31  0.039092  0.437347               NaN   -0.051031   \n",
       "        2002-02-28  0.038987  0.436178               NaN   -0.299929   \n",
       "        2002-03-31  0.035284  0.394748               NaN    0.051677   \n",
       "        2002-04-30  0.051387  0.349036               NaN   -0.157543   \n",
       "        2002-05-31  0.060866  0.413423               NaN   -0.011454   \n",
       "\n",
       "                    resff3_12_1   ret_3_1   ret_6_1   ret_9_1  ret_12_1  \\\n",
       "id      eom                                                               \n",
       "16417.0 2002-01-31     0.154985  0.136413 -0.071260 -0.099492  0.011726   \n",
       "        2002-02-28     0.010412 -0.089741 -0.123932 -0.112135 -0.020544   \n",
       "        2002-03-31     0.044783 -0.028441  0.150601 -0.097864  0.029461   \n",
       "        2002-04-30    -0.269798  0.008961  0.108768 -0.093853 -0.121399   \n",
       "        2002-05-31     0.041506  0.176471  0.075933  0.035519  0.049463   \n",
       "\n",
       "                    seas_1_1na  \n",
       "id      eom                     \n",
       "16417.0 2002-01-31    0.004526  \n",
       "        2002-02-28    0.008963  \n",
       "        2002-03-31   -0.006713  \n",
       "        2002-04-30    0.010627  \n",
       "        2002-05-31    0.000098  \n",
       "\n",
       "[5 rows x 29 columns]"
      ]
     },
     "execution_count": 17,
     "metadata": {},
     "output_type": "execute_result"
    }
   ],
   "source": [
    "D_full.head()"
   ]
  },
  {
   "cell_type": "code",
   "execution_count": 18,
   "id": "4457c489",
   "metadata": {
    "tags": []
   },
   "outputs": [],
   "source": [
    "total_market_cap = D_full['me'].groupby(level=1).sum()\n",
    "market_cap_filter = (D_full['me'] / total_market_cap) > 0.00001\n",
    "D_full = D_full[market_cap_filter]"
   ]
  },
  {
   "cell_type": "markdown",
   "id": "f0ba40ee",
   "metadata": {},
   "source": [
    "### Q2.2\n",
    "\n",
    "Based on the preprocess data in Q2.1, you now need to perform the rank-transformation of the firm characteristics, as what we did in the lecture note. \n",
    "\n",
    "You need to rank and center each characteristic cross-sectionally to lie within the $[-0.5, 0.5]$ range.\n",
    "  * In each month, you rank the stocks by their firm characteristic $k$ and divide their ranks by the number of stocks during this period. Finally, you need to substract it by 0.5. Hence, the rank-transformed firm characteristic $k$ is\n",
    "  $$\n",
    "  X_{ikt} = \\frac{\\text{rank}_{ikt}}{N_t} - 0.5\n",
    "  $$\n",
    "    * $\\text{rank}_{ikt} \\in [1, N_t]$: the rank of stock $i$ by the values of firm characteristic $k$\n",
    "    * $N_t$: the number of stocks in period $t$ <br>\n",
    "    \n",
    "\n",
    "Next, you need to handle missing data.\n",
    "* Remove the firm-month observations whenever the return is missing. \n",
    "* Remove the firm characteristics whose missing rates are higher than $30\\%$ in any month. <br>\n",
    "* For the remaining sample, you are required to fill in missing data with zeros. "
   ]
  },
  {
   "cell_type": "code",
   "execution_count": 19,
   "id": "e510a38d",
   "metadata": {
    "tags": []
   },
   "outputs": [],
   "source": [
    "D_ranked = D_full[value_list+momentum_list].groupby(level=1).rank(ascending=True)\n",
    "D_ranked = D_ranked / D_ranked.groupby(level=1).max() - 0.5"
   ]
  },
  {
   "cell_type": "code",
   "execution_count": 20,
   "id": "45e23e4e",
   "metadata": {
    "tags": []
   },
   "outputs": [],
   "source": [
    "D_ranked = D_ranked[D_full['ret_exc_lead1m'].isna() == False]\n",
    "mis_rate = D_ranked.isna().groupby(level=1).mean()\n",
    "D_ranked = D_ranked.loc[:,(mis_rate > 0.3).any()==False]\n",
    "D_ranked = D_ranked.fillna(0)"
   ]
  },
  {
   "cell_type": "code",
   "execution_count": 21,
   "id": "fb846d8d",
   "metadata": {
    "tags": []
   },
   "outputs": [
    {
     "data": {
      "text/plain": [
       "Index(['at_me', 'be_me', 'bev_mev', 'chcsho_12m', 'debt_me', 'div12m_me',\n",
       "       'ebitda_mev', 'eq_dur', 'eqnetis_at', 'eqnpo_12m', 'eqnpo_me',\n",
       "       'eqpo_me', 'fcf_me', 'netis_at', 'ni_me', 'ocf_me', 'sale_me',\n",
       "       'resff3_6_1', 'resff3_12_1', 'ret_3_1', 'ret_6_1', 'ret_9_1',\n",
       "       'ret_12_1', 'seas_1_1na'],\n",
       "      dtype='object')"
      ]
     },
     "execution_count": 21,
     "metadata": {},
     "output_type": "execute_result"
    }
   ],
   "source": [
    "D_ranked.columns"
   ]
  },
  {
   "cell_type": "code",
   "execution_count": 22,
   "id": "9c15be6d",
   "metadata": {
    "tags": []
   },
   "outputs": [
    {
     "data": {
      "text/plain": [
       "(1640027, 24)"
      ]
     },
     "execution_count": 22,
     "metadata": {},
     "output_type": "execute_result"
    }
   ],
   "source": [
    "D_ranked.shape"
   ]
  },
  {
   "cell_type": "markdown",
   "id": "ba81d4d2",
   "metadata": {},
   "source": [
    "### Q2.3 \n",
    "\n",
    "After you preprocess the data, you end up with 24 variables. Let's divide the full sample into two subsamples: \n",
    "* In-sample data: Jan 1980 - Dec 2004\n",
    "* Out-of-sample data: Jan 2005 - End  <br>\n",
    "<br>\n",
    "* To assess predictive performance for individual excess stock return forecasts, we rely on the out-of-sample $R^2$ as <br>\n",
    "<br>\n",
    "$$\n",
    "R^2_{oos} = 1 - \\frac{\\sum_{i,t \\in \\text{oos}} (R_{i,t+1} - \\hat{R}_{i,t+1})^2}{\\sum_{i,t \\in \\text{oos}} R^2_{i,t+1}}. \n",
    "$$\n",
    "<br>\n",
    "* $\\sum_{i,t \\in \\text{oos}}$ indicates that fits are only assessed on the OOS subsample, whose data never enter into model estimation or tuning.\n",
    "\n",
    "You are required to do two analysis:\n",
    "- Use the signals in ```value_list``` (that were not eliminated in Q2.2) to predict individual stock returns (```ret_exc_lead1m```). \n",
    "   * Interpret the OLS estimates: Which variables have signfinicant predictive power?\n",
    "   * Evaluate the out-of-sample performance of the value signals. \n",
    "- Repeat the analysis for the momentum signals (those in ```momentum_list```). Do value or momentum signals have better out-of-sample performance? "
   ]
  },
  {
   "cell_type": "code",
   "execution_count": 23,
   "id": "02f08be4",
   "metadata": {
    "tags": []
   },
   "outputs": [],
   "source": [
    "D_ranked_in = D_ranked[(D_ranked.index.get_level_values(1) < '2005-01')]\n",
    "D_ranked_oos = D_ranked[(D_ranked.index.get_level_values(1) >= '2005-01')]"
   ]
  },
  {
   "cell_type": "code",
   "execution_count": 24,
   "id": "c73a1105",
   "metadata": {
    "tags": []
   },
   "outputs": [],
   "source": [
    "data_in = pd.merge(D_full[['ret_exc_lead1m']], D_ranked_in, how='inner', left_index=True, right_index=True)\n",
    "data_oos = pd.merge(D_full[['ret_exc_lead1m']], D_ranked_oos, how='inner', left_index=True, right_index=True)"
   ]
  },
  {
   "cell_type": "markdown",
   "id": "75884f82",
   "metadata": {},
   "source": [
    "**Value Signals**"
   ]
  },
  {
   "cell_type": "code",
   "execution_count": 25,
   "id": "58c00d44",
   "metadata": {
    "tags": []
   },
   "outputs": [
    {
     "name": "stdout",
     "output_type": "stream",
     "text": [
      "                            OLS Regression Results                            \n",
      "==============================================================================\n",
      "Dep. Variable:                      y   R-squared:                       0.002\n",
      "Model:                            OLS   Adj. R-squared:                  0.002\n",
      "Method:                 Least Squares   F-statistic:                     115.6\n",
      "Date:                Fri, 08 Dec 2023   Prob (F-statistic):               0.00\n",
      "Time:                        17:33:28   Log-Likelihood:             5.6497e+05\n",
      "No. Observations:             1058173   AIC:                        -1.130e+06\n",
      "Df Residuals:                 1058155   BIC:                        -1.130e+06\n",
      "Df Model:                          17                                         \n",
      "Covariance Type:            nonrobust                                         \n",
      "==============================================================================\n",
      "                 coef    std err          t      P>|t|      [0.025      0.975]\n",
      "------------------------------------------------------------------------------\n",
      "const          0.0063      0.000     45.427      0.000       0.006       0.007\n",
      "at_me          0.0029      0.001      2.308      0.021       0.000       0.005\n",
      "be_me          0.0003      0.001      0.278      0.781      -0.002       0.003\n",
      "bev_mev       -0.0029      0.001     -2.292      0.022      -0.005      -0.000\n",
      "chcsho_12m     0.0003      0.001      0.214      0.831      -0.002       0.003\n",
      "debt_me       -0.0032      0.001     -3.405      0.001      -0.005      -0.001\n",
      "div12m_me      0.0033      0.001      3.588      0.000       0.001       0.005\n",
      "ebitda_mev     0.0059      0.001      7.178      0.000       0.004       0.008\n",
      "eq_dur         0.0007      0.001      0.751      0.453      -0.001       0.002\n",
      "eqnetis_at    -0.0030      0.001     -2.812      0.005      -0.005      -0.001\n",
      "eqnpo_12m      0.0038      0.001      2.770      0.006       0.001       0.007\n",
      "eqnpo_me      -0.0005      0.001     -0.414      0.679      -0.003       0.002\n",
      "eqpo_me       -0.0039      0.001     -4.467      0.000      -0.006      -0.002\n",
      "fcf_me         0.0078      0.001     10.339      0.000       0.006       0.009\n",
      "netis_at      -0.0032      0.001     -4.987      0.000      -0.004      -0.002\n",
      "ni_me          0.0029      0.001      3.472      0.001       0.001       0.005\n",
      "ocf_me         0.0047      0.001      6.040      0.000       0.003       0.006\n",
      "sale_me        0.0050      0.001      6.797      0.000       0.004       0.006\n",
      "==============================================================================\n",
      "Omnibus:                   425436.090   Durbin-Watson:                   1.973\n",
      "Prob(Omnibus):                  0.000   Jarque-Bera (JB):         13707236.816\n",
      "Skew:                           1.306   Prob(JB):                         0.00\n",
      "Kurtosis:                      20.438   Cond. No.                         14.0\n",
      "==============================================================================\n",
      "\n",
      "Notes:\n",
      "[1] Standard Errors assume that the covariance matrix of the errors is correctly specified.\n"
     ]
    }
   ],
   "source": [
    "model = sm.OLS(data_in[['ret_exc_lead1m']].values, \n",
    "               sm.add_constant(data_in[[x for x in value_list if x in data_in.columns]]))\n",
    "results = model.fit()\n",
    "print(results.summary())"
   ]
  },
  {
   "cell_type": "code",
   "execution_count": 26,
   "id": "9c45ef7f-f924-4540-b005-59031fb0eaac",
   "metadata": {
    "tags": []
   },
   "outputs": [],
   "source": [
    "def get_R2(beta_hat, y, X):\n",
    "    \"\"\"\n",
    "    beta_hat: a pandas.Series of coefficient estimates\n",
    "    y: an ndarray of dependent variables\n",
    "    X: a two-dimensional ndarray of independent variables\n",
    "    This function returns the R-squared in the linear models\n",
    "    \"\"\"\n",
    "    pred_err = y.reshape((len(y),)) - sm.add_constant(X) @ beta_hat\n",
    "    return 1 - ((y.reshape(len(y),) - sm.add_constant(X) @ beta_hat)**2).sum() / (y**2).sum()\n"
   ]
  },
  {
   "cell_type": "code",
   "execution_count": 27,
   "id": "d3573b27",
   "metadata": {
    "tags": []
   },
   "outputs": [
    {
     "data": {
      "text/plain": [
       "0.002066408544289522"
      ]
     },
     "execution_count": 27,
     "metadata": {},
     "output_type": "execute_result"
    }
   ],
   "source": [
    "get_R2(results.params, data_oos['ret_exc_lead1m'].values, data_oos[[x for x in value_list if x in data_in.columns]].values)"
   ]
  },
  {
   "cell_type": "markdown",
   "id": "35664ffd",
   "metadata": {},
   "source": [
    "**Momentum Signals**"
   ]
  },
  {
   "cell_type": "code",
   "execution_count": 28,
   "id": "b83e6bf9",
   "metadata": {
    "tags": []
   },
   "outputs": [
    {
     "name": "stdout",
     "output_type": "stream",
     "text": [
      "                            OLS Regression Results                            \n",
      "==============================================================================\n",
      "Dep. Variable:                      y   R-squared:                       0.002\n",
      "Model:                            OLS   Adj. R-squared:                  0.002\n",
      "Method:                 Least Squares   F-statistic:                     316.3\n",
      "Date:                Fri, 08 Dec 2023   Prob (F-statistic):               0.00\n",
      "Time:                        17:33:29   Log-Likelihood:             5.6510e+05\n",
      "No. Observations:             1058173   AIC:                        -1.130e+06\n",
      "Df Residuals:                 1058165   BIC:                        -1.130e+06\n",
      "Df Model:                           7                                         \n",
      "Covariance Type:            nonrobust                                         \n",
      "===============================================================================\n",
      "                  coef    std err          t      P>|t|      [0.025      0.975]\n",
      "-------------------------------------------------------------------------------\n",
      "const           0.0063      0.000     45.463      0.000       0.006       0.007\n",
      "resff3_6_1     -0.0043      0.001     -4.789      0.000      -0.006      -0.003\n",
      "resff3_12_1     0.0111      0.001     13.094      0.000       0.009       0.013\n",
      "ret_3_1        -0.0004      0.001     -0.664      0.506      -0.002       0.001\n",
      "ret_6_1         0.0036      0.001      3.676      0.000       0.002       0.006\n",
      "ret_9_1         0.0118      0.001     11.404      0.000       0.010       0.014\n",
      "ret_12_1        0.0202      0.001     16.764      0.000       0.018       0.023\n",
      "seas_1_1na     -0.0208      0.001    -20.324      0.000      -0.023      -0.019\n",
      "==============================================================================\n",
      "Omnibus:                   416676.169   Durbin-Watson:                   1.958\n",
      "Prob(Omnibus):                  0.000   Jarque-Bera (JB):         13513282.748\n",
      "Skew:                           1.263   Prob(JB):                         0.00\n",
      "Kurtosis:                      20.324   Cond. No.                         11.0\n",
      "==============================================================================\n",
      "\n",
      "Notes:\n",
      "[1] Standard Errors assume that the covariance matrix of the errors is correctly specified.\n"
     ]
    }
   ],
   "source": [
    "model = sm.OLS(data_in[['ret_exc_lead1m']].values, \n",
    "               sm.add_constant(data_in[[x for x in momentum_list if x in data_in.columns]]))\n",
    "results = model.fit()\n",
    "print(results.summary())"
   ]
  },
  {
   "cell_type": "code",
   "execution_count": 29,
   "id": "5f9ab811",
   "metadata": {
    "tags": []
   },
   "outputs": [
    {
     "data": {
      "text/plain": [
       "0.0007144581197412458"
      ]
     },
     "execution_count": 29,
     "metadata": {},
     "output_type": "execute_result"
    }
   ],
   "source": [
    "get_R2(results.params, data_oos['ret_exc_lead1m'].values, data_oos[[x for x in momentum_list if x in data_in.columns]].values)"
   ]
  },
  {
   "cell_type": "markdown",
   "id": "fd7886bd",
   "metadata": {},
   "source": [
    "---"
   ]
  },
  {
   "cell_type": "markdown",
   "id": "815680c7",
   "metadata": {},
   "source": [
    "## Q3. Quintile Portfolios Sorted by the Momentum Signal"
   ]
  },
  {
   "cell_type": "markdown",
   "id": "f7e5e5a4",
   "metadata": {},
   "source": [
    "In this question, you will be guided to construct the cross-section of five portfolios sorted by the momentum signal. The momentum phenomenon was originally detected by Jegadeesh and Titman (1993). Briefly speaking, they find strong evidence of momentum in individual stock returns, that is, high returns to strategy\n",
    "of buying past winners and selling past losers. Their methodology can be summarised as follows:\n",
    "- Calculate returns for all publicly-traded common stocks from month-end $t − J$ to month-end $t-1$\n",
    "- Form portfolios of the stocks in the top and bottom quintiles of returns (“winners” and “losers”)\n",
    "- Form a portfolio that is long the top decile and short the bottom decile\n",
    "\n",
    "We focus on the most common sorting signal, ```ret_12_1```, which sorts stocks based on their cumulative performance from $t − 12$ to month-end $t-1$. The stocks that have best (worst) performances in the past 11 months are winner (loser) stocks. "
   ]
  },
  {
   "cell_type": "markdown",
   "id": "38b24dec",
   "metadata": {},
   "source": [
    "You need to follow the same step as in Q2.1 and Q2.2 to preprocess the data. After you finish, you will need to merge the ```D_full``` and ```D_ranked``` as follows:\n",
    "```python\n",
    "data_final = pd.merge(D_full[['ret_exc_lead1m', \"me\"]], D_ranked['ret_12_1'], how='inner', \n",
    "                      left_index=True, right_index=True)\n",
    "```"
   ]
  },
  {
   "cell_type": "code",
   "execution_count": 30,
   "id": "e589c4ef",
   "metadata": {
    "tags": []
   },
   "outputs": [],
   "source": [
    "data_final = pd.merge(D_full[['ret_exc_lead1m', \"me\"]], D_ranked['ret_12_1'], how='inner', \n",
    "                      left_index=True, right_index=True)"
   ]
  },
  {
   "cell_type": "markdown",
   "id": "7e5d6ce2",
   "metadata": {},
   "source": [
    "### Q3.1\n",
    "\n",
    "For each month, sort the stocks into five groups based on their values of the momentum signal ```ret_12_1```. You also need to assign the labels ```[\"Q1\",\"Q2\",\"Q3\",\"Q4\",\"Q5\"]``` to the five groups (Hint: use ```groupby```, ```apply```, and ```pd.qcut``` methods). \n",
    "\n",
    "The output should be a ```pd.Series``` named ```ret_12_1_cat```. Next, you will use ```ret_12_1_cat``` to create a dummy matrix. Since ```ret_12_1_cat``` has five distinct values, you would derive a matrix or DataFrame with five columns containing all 1s and 0s (the resultant dummy matrix is named ```ret_12_1_dummy```)."
   ]
  },
  {
   "cell_type": "code",
   "execution_count": 31,
   "id": "b8e1be66",
   "metadata": {
    "tags": []
   },
   "outputs": [],
   "source": [
    "ret_12_1_cat = data_final['ret_12_1'].groupby(level=1).apply(pd.qcut,5,labels=[\"Q1\",\"Q2\",\"Q3\",\"Q4\",\"Q5\"])\n",
    "ret_12_1_dummy = pd.get_dummies(ret_12_1_cat)"
   ]
  },
  {
   "cell_type": "code",
   "execution_count": 32,
   "id": "8880e09c",
   "metadata": {
    "tags": []
   },
   "outputs": [
    {
     "data": {
      "text/html": [
       "<div>\n",
       "<style scoped>\n",
       "    .dataframe tbody tr th:only-of-type {\n",
       "        vertical-align: middle;\n",
       "    }\n",
       "\n",
       "    .dataframe tbody tr th {\n",
       "        vertical-align: top;\n",
       "    }\n",
       "\n",
       "    .dataframe thead th {\n",
       "        text-align: right;\n",
       "    }\n",
       "</style>\n",
       "<table border=\"1\" class=\"dataframe\">\n",
       "  <thead>\n",
       "    <tr style=\"text-align: right;\">\n",
       "      <th></th>\n",
       "      <th></th>\n",
       "      <th></th>\n",
       "      <th>Q1</th>\n",
       "      <th>Q2</th>\n",
       "      <th>Q3</th>\n",
       "      <th>Q4</th>\n",
       "      <th>Q5</th>\n",
       "    </tr>\n",
       "    <tr>\n",
       "      <th>eom</th>\n",
       "      <th>id</th>\n",
       "      <th>eom</th>\n",
       "      <th></th>\n",
       "      <th></th>\n",
       "      <th></th>\n",
       "      <th></th>\n",
       "      <th></th>\n",
       "    </tr>\n",
       "  </thead>\n",
       "  <tbody>\n",
       "    <tr>\n",
       "      <th rowspan=\"5\" valign=\"top\">1980-01-31</th>\n",
       "      <th>16424.0</th>\n",
       "      <th>1980-01-31</th>\n",
       "      <td>False</td>\n",
       "      <td>True</td>\n",
       "      <td>False</td>\n",
       "      <td>False</td>\n",
       "      <td>False</td>\n",
       "    </tr>\n",
       "    <tr>\n",
       "      <th>16432.0</th>\n",
       "      <th>1980-01-31</th>\n",
       "      <td>True</td>\n",
       "      <td>False</td>\n",
       "      <td>False</td>\n",
       "      <td>False</td>\n",
       "      <td>False</td>\n",
       "    </tr>\n",
       "    <tr>\n",
       "      <th>16505.0</th>\n",
       "      <th>1980-01-31</th>\n",
       "      <td>True</td>\n",
       "      <td>False</td>\n",
       "      <td>False</td>\n",
       "      <td>False</td>\n",
       "      <td>False</td>\n",
       "    </tr>\n",
       "    <tr>\n",
       "      <th>16513.0</th>\n",
       "      <th>1980-01-31</th>\n",
       "      <td>False</td>\n",
       "      <td>False</td>\n",
       "      <td>True</td>\n",
       "      <td>False</td>\n",
       "      <td>False</td>\n",
       "    </tr>\n",
       "    <tr>\n",
       "      <th>16521.0</th>\n",
       "      <th>1980-01-31</th>\n",
       "      <td>False</td>\n",
       "      <td>True</td>\n",
       "      <td>False</td>\n",
       "      <td>False</td>\n",
       "      <td>False</td>\n",
       "    </tr>\n",
       "  </tbody>\n",
       "</table>\n",
       "</div>"
      ],
      "text/plain": [
       "                                  Q1     Q2     Q3     Q4     Q5\n",
       "eom        id      eom                                          \n",
       "1980-01-31 16424.0 1980-01-31  False   True  False  False  False\n",
       "           16432.0 1980-01-31   True  False  False  False  False\n",
       "           16505.0 1980-01-31   True  False  False  False  False\n",
       "           16513.0 1980-01-31  False  False   True  False  False\n",
       "           16521.0 1980-01-31  False   True  False  False  False"
      ]
     },
     "execution_count": 32,
     "metadata": {},
     "output_type": "execute_result"
    }
   ],
   "source": [
    "ret_12_1_dummy.head()"
   ]
  },
  {
   "cell_type": "code",
   "execution_count": 33,
   "id": "3a109498",
   "metadata": {
    "tags": []
   },
   "outputs": [],
   "source": [
    "ret_12_1_dummy.index.names = ['eom', 'id', 'eom2']"
   ]
  },
  {
   "cell_type": "code",
   "execution_count": 34,
   "id": "3e3c2b89",
   "metadata": {
    "tags": []
   },
   "outputs": [],
   "source": [
    "ret_12_1_dummy = ret_12_1_dummy.reset_index().drop(['eom2'],axis=1).set_index(['eom', 'id'])"
   ]
  },
  {
   "cell_type": "markdown",
   "id": "9208c0a8",
   "metadata": {},
   "source": [
    "### Q3.2\n",
    "\n",
    "In this question, you need to first merge ```D_full[['ret_exc_lead1m', 'me']]``` with ```ret_12_1_dummy```. The resultant DataFrame is named as ```D_subset3```. Next, you group the stocks into five groups based on the dummy matrix and compute the average returns in five groups. That is to say, you will need to report the average returns for groups 'Q1' -- 'Q5'. Finally, you need to make a bar plot of average returns in five groups. Is the bar plot consistent with the momentum phenomenon as described at the beginning of this question? "
   ]
  },
  {
   "cell_type": "code",
   "execution_count": 35,
   "id": "a053be7a",
   "metadata": {
    "tags": []
   },
   "outputs": [],
   "source": [
    "D_subset3 = D_full[['ret_exc_lead1m', 'me']].join(ret_12_1_dummy)"
   ]
  },
  {
   "cell_type": "code",
   "execution_count": 36,
   "id": "ca4dd7a9",
   "metadata": {
    "tags": []
   },
   "outputs": [],
   "source": [
    "ret_12_portfolios = pd.Series(np.zeros(5))\n",
    "ret_12_portfolios.iloc[0] = D_subset3.loc[D_subset3['Q1']==1, 'ret_exc_lead1m'].mean()\n",
    "ret_12_portfolios.iloc[1] = D_subset3.loc[D_subset3['Q2']==1, 'ret_exc_lead1m'].mean()\n",
    "ret_12_portfolios.iloc[2] = D_subset3.loc[D_subset3['Q3']==1, 'ret_exc_lead1m'].mean()\n",
    "ret_12_portfolios.iloc[3] = D_subset3.loc[D_subset3['Q4']==1, 'ret_exc_lead1m'].mean()\n",
    "ret_12_portfolios.iloc[4] = D_subset3.loc[D_subset3['Q5']==1, 'ret_exc_lead1m'].mean()\n",
    "ret_12_portfolios.index = ['Q1', 'Q2', 'Q3', 'Q4', 'Q5']\n"
   ]
  },
  {
   "cell_type": "code",
   "execution_count": 37,
   "id": "71e9231a",
   "metadata": {
    "tags": []
   },
   "outputs": [
    {
     "data": {
      "text/plain": [
       "<Axes: >"
      ]
     },
     "execution_count": 37,
     "metadata": {},
     "output_type": "execute_result"
    },
    {
     "data": {
      "image/png": "[encoded data removed]",
      "text/plain": [
       "<Figure size 600x400 with 1 Axes>"
      ]
     },
     "metadata": {},
     "output_type": "display_data"
    }
   ],
   "source": [
    "import matplotlib.pyplot as plt\n",
    "fig, axes = plt.subplots(1, 1)\n",
    "\n",
    "ret_12_portfolios.plot.barh(alpha=0.7)"
   ]
  },
  {
   "cell_type": "markdown",
   "id": "a6ebc85e",
   "metadata": {},
   "source": [
    "### Q3.3\n",
    "\n",
    "In Q3.2, you create the so-called equally weighted portfolios. In other words, the stocks in each group (Q1 -- Q5) have the same portfolio weights. However, the value-weighted portfolios are more common in reality. \n",
    "\n",
    "Suppose that we use $\\text{ME}_{it}$ to denote the market capitalization of firm $i$ at time $t$. The value-weighted portfolio return in the group $j$ is <br>\n",
    "<br>\n",
    "$$\n",
    "R^{vw}_{j,t+1} = \\frac{\\sum^{N_{jt}}_{i = 1} \\text{ME}_{it} R_{i,t+1}}{\\sum^{N_{jt}}_{i = 1} \\text{ME}_{it}}, \n",
    "$$\n",
    "where $N_{jt}$ is the number of firms in the $j$-th group at time $t$. \n",
    "\n",
    "In this question, you need to compute the value-weighted portfolio returns for the five groups of stocks sorted by the momentum signal. Finally, you need to make a bar plot of average returns in five groups, as in Q3.2. What are the differences in the five momentum portfolios between Q3.2 and Q3.3? "
   ]
  },
  {
   "cell_type": "code",
   "execution_count": 38,
   "id": "4ab6ff6a",
   "metadata": {
    "tags": []
   },
   "outputs": [],
   "source": [
    "ret_12_portfolios = pd.Series(np.zeros(5))\n",
    "\n",
    "port_ret = ((D_subset3.loc[D_subset3['Q1']==1, 'ret_exc_lead1m'] \n",
    "             * D_subset3.loc[D_subset3['Q1']==1, 'me']).groupby(level=1).sum() / \n",
    "            D_subset3.loc[D_subset3['Q1']==1, 'me'].groupby(level=1).sum())\n",
    "ret_12_portfolios.iloc[0] = port_ret.mean()\n",
    "\n",
    "port_ret = ((D_subset3.loc[D_subset3['Q2']==1, 'ret_exc_lead1m'] \n",
    "             * D_subset3.loc[D_subset3['Q2']==1, 'me']).groupby(level=1).sum() / \n",
    "            D_subset3.loc[D_subset3['Q2']==1, 'me'].groupby(level=1).sum())\n",
    "ret_12_portfolios.iloc[1] = port_ret.mean()\n",
    "\n",
    "port_ret = ((D_subset3.loc[D_subset3['Q3']==1, 'ret_exc_lead1m'] \n",
    "             * D_subset3.loc[D_subset3['Q3']==1, 'me']).groupby(level=1).sum() / \n",
    "            D_subset3.loc[D_subset3['Q3']==1, 'me'].groupby(level=1).sum())\n",
    "ret_12_portfolios.iloc[2] = port_ret.mean()\n",
    "\n",
    "port_ret = ((D_subset3.loc[D_subset3['Q4']==1, 'ret_exc_lead1m'] \n",
    "             * D_subset3.loc[D_subset3['Q4']==1, 'me']).groupby(level=1).sum() / \n",
    "            D_subset3.loc[D_subset3['Q4']==1, 'me'].groupby(level=1).sum())\n",
    "ret_12_portfolios.iloc[3] = port_ret.mean()\n",
    "\n",
    "port_ret = ((D_subset3.loc[D_subset3['Q5']==1, 'ret_exc_lead1m'] \n",
    "             * D_subset3.loc[D_subset3['Q5']==1, 'me']).groupby(level=1).sum() / \n",
    "            D_subset3.loc[D_subset3['Q5']==1, 'me'].groupby(level=1).sum())\n",
    "ret_12_portfolios.iloc[4] = port_ret.mean()\n",
    "\n",
    "ret_12_portfolios.index = ['Q1', 'Q2', 'Q3', 'Q4', 'Q5']"
   ]
  },
  {
   "cell_type": "code",
   "execution_count": 39,
   "id": "d9b3fe89",
   "metadata": {
    "tags": []
   },
   "outputs": [
    {
     "data": {
      "text/plain": [
       "Q1    0.003271\n",
       "Q2    0.006340\n",
       "Q3    0.006619\n",
       "Q4    0.007586\n",
       "Q5    0.009393\n",
       "dtype: float64"
      ]
     },
     "execution_count": 39,
     "metadata": {},
     "output_type": "execute_result"
    }
   ],
   "source": [
    "ret_12_portfolios"
   ]
  },
  {
   "cell_type": "markdown",
   "id": "8b764f40",
   "metadata": {},
   "source": [
    "---"
   ]
  },
  {
   "cell_type": "code",
   "execution_count": 40,
   "id": "f471aeff",
   "metadata": {
    "tags": []
   },
   "outputs": [
    {
     "data": {
      "text/plain": [
       "<Axes: >"
      ]
     },
     "execution_count": 40,
     "metadata": {},
     "output_type": "execute_result"
    },
    {
     "data": {
      "image/png": "[encoded data removed]",
      "text/plain": [
       "<Figure size 600x400 with 1 Axes>"
      ]
     },
     "metadata": {},
     "output_type": "display_data"
    }
   ],
   "source": [
    "import matplotlib.pyplot as plt\n",
    "fig, axes = plt.subplots(1, 1)\n",
    "\n",
    "ret_12_portfolios.plot.barh(alpha=0.7)"
   ]
  },
  {
   "cell_type": "markdown",
   "id": "3ecca7d9",
   "metadata": {},
   "source": [
    "# END"
   ]
  }
 ],
 "metadata": {
  "kernelspec": {
   "display_name": "Python 3 (ipykernel)",
   "language": "python",
   "name": "python3"
  },
  "language_info": {
   "codemirror_mode": {
    "name": "ipython",
    "version": 3
   },
   "file_extension": ".py",
   "mimetype": "text/x-python",
   "name": "python",
   "nbconvert_exporter": "python",
   "pygments_lexer": "ipython3",
   "version": "3.11.5"
  }
 },
 "nbformat": 4,
 "nbformat_minor": 5
}
