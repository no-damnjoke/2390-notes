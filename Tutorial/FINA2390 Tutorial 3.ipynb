{
 "cells": [
  {
   "cell_type": "markdown",
   "id": "5b467ca8-3082-451c-b1fb-e7654a7e176d",
   "metadata": {},
   "source": [
    "# Tutorial 3: Numpy Basics"
   ]
  },
  {
   "cell_type": "markdown",
   "id": "ba4f158b-21a8-4249-8b66-6f5e4382a669",
   "metadata": {},
   "source": [
    "## 3.1 Agenda\n",
    "This tutorial focuses on the most important numpy package functions and array methods, and provide some corresponding practices."
   ]
  },
  {
   "cell_type": "markdown",
   "id": "f3a00fb1-4fb1-4895-b35d-a8493765fa6a",
   "metadata": {},
   "source": [
    "## 3.2 Numpy Fancy indexing and slicing\n",
    "\n",
    "### Introduction of numpy arrays\n",
    "- Numpy arrays are a class of mutable collections of elements that are optimized in efficient data handling and numerical operations.\n",
    "- Numpy arrays support vectorized methods that are much faster (often more than 100x faster) to run that iterating a list\n",
    "- Numpy array can be nested inside a numpy array to create multi-dimensional arrays. \n",
    "- The following shows the example of fancy indexing with numpy array, where we perform indexing with a list of multiple indices:"
   ]
  },
  {
   "cell_type": "code",
   "execution_count": 2,
   "id": "09887c0e-53ec-48e8-a288-44f765ae7870",
   "metadata": {
    "tags": []
   },
   "outputs": [
    {
     "name": "stdout",
     "output_type": "stream",
     "text": [
      "[1 2 3 4 5 6 7 8]\n",
      "Simple Indexing: 4\n",
      "Fancy Indexing: [2 3 6 8]\n"
     ]
    }
   ],
   "source": [
    "import numpy as np\n",
    "\n",
    "array1 = np.array(range(1,9))\n",
    "print(array1)\n",
    "\n",
    "# select a single element\n",
    "simple_indexing = array1[3]\n",
    "\n",
    "print(\"Simple Indexing:\",simple_indexing)   # 4\n",
    "\n",
    "# select multiple elements\n",
    "fancy_indexing = array1[[1, 2, 5, 7]]\n",
    "\n",
    "print(\"Fancy Indexing:\",fancy_indexing)   # [2 3 6 8]"
   ]
  },
  {
   "cell_type": "markdown",
   "id": "65940670-a410-4581-8536-b2b88d0d6595",
   "metadata": {},
   "source": [
    "- `np.argsort()` function accepts array input, returns an array that contains the indices of input array elements, where input elements are in **ascending** order."
   ]
  },
  {
   "cell_type": "code",
   "execution_count": null,
   "id": "e4af944e-9b9d-420c-9b52-23e375a20104",
   "metadata": {
    "tags": []
   },
   "outputs": [],
   "source": [
    "array2 = np.array([3, 2, 6, 1, 8, 5, 7, 4])\n",
    "print(\"Orignal array:\", array2)\n",
    "print(\"For sorting in ascending order:\")\n",
    "# sort array2 using fancy indexing\n",
    "sorted_array = array2[np.argsort(array2)]\n",
    "\n",
    "print(\"np.argsort() function returns: \",np.argsort(array2))\n",
    "\n",
    "print(\"The sorted array is:\", sorted_array)\n",
    "\n",
    "print(\"For sorting in descending order:\")\n",
    "# sort array2 using fancy indexing in descending order\n",
    "sorted_array = array2[np.argsort(-array2)]\n",
    "\n",
    "print(\"np.argsort() function returns: \",np.argsort(-array2))\n",
    "\n",
    "print(\"The sorted array is:\", sorted_array)\n",
    "\n",
    "# Output: [8 7 6 5 4 3 2 1]"
   ]
  },
  {
   "cell_type": "markdown",
   "id": "cb827e1a-f8dd-4751-b3da-7f3fc740b25e",
   "metadata": {},
   "source": [
    "- The following example shows the slicing of 2D array, syntax similar to slicing of lists:"
   ]
  },
  {
   "cell_type": "code",
   "execution_count": null,
   "id": "7fc80760-9d03-4027-a22f-0d6686cbe08a",
   "metadata": {
    "tags": []
   },
   "outputs": [],
   "source": [
    "# create a 2D array \n",
    "array1 = np.array([[1, 3, 5, 7], \n",
    "                      [9, 11, 13, 15],\n",
    "                      [2, 4, 6, 8]])\n",
    "\n",
    "\n",
    "# slice the array to get the first two rows and columns\n",
    "subarray1 = array1[:2, :2]\n",
    "\n",
    "# slice the array to get the last two rows and columns\n",
    "subarray2 = array1[1:3, 2:4]\n",
    "\n",
    "# print the subarrays\n",
    "print(\"First Two Rows and Columns: \\n\",subarray1)\n",
    "print(\"Last two Rows and Columns: \\n\",subarray2)"
   ]
  },
  {
   "cell_type": "markdown",
   "id": "10cafe67-a617-4ebf-9123-b4092d7a1095",
   "metadata": {},
   "source": [
    "## 3.3 Numpy array operations\n",
    "### element-wise operations\n",
    "- Numpy array supports element-wise arithmatic operations that are simple in syntax and faster to run than iterating two lists in ordinary python."
   ]
  },
  {
   "cell_type": "code",
   "execution_count": null,
   "id": "e4f999e9-d862-4411-8814-0fb7779fc720",
   "metadata": {
    "tags": []
   },
   "outputs": [],
   "source": [
    "first_array = np.array([1, 3, 5, 7])\n",
    "second_array = np.array([2, 4, 6, 8])\n",
    "\n",
    "# using the * operator\n",
    "result1 = first_array * second_array\n",
    "print(\"Using the * operator:\",result1) \n",
    "\n",
    "# using the multiply() function\n",
    "result2 = np.multiply(first_array, second_array)\n",
    "print(\"Using the multiply() function:\",result2) "
   ]
  },
  {
   "cell_type": "markdown",
   "id": "c9358af2-603e-47da-8c8d-6e2bfbf89813",
   "metadata": {},
   "source": [
    "### Array broadcasting\n",
    "- A 2D array with $m$ rows and $n$ columns (dimension $m \\times n$) can perform arithmatic operations with a row array with $n$ elements or a column array with $m$ elements to generate a new $m \\times n$ array."
   ]
  },
  {
   "cell_type": "code",
   "execution_count": null,
   "id": "5a581b7c-5acc-481e-a0b8-c47c127cd808",
   "metadata": {
    "tags": []
   },
   "outputs": [],
   "source": [
    "array3 = np.arange(1,13).reshape(4,3) #dimension(4, 3)\n",
    "print(\"first array: \\n\",array3)"
   ]
  },
  {
   "cell_type": "code",
   "execution_count": null,
   "id": "1e477548-cefc-4452-a68e-9f4be041039b",
   "metadata": {
    "tags": []
   },
   "outputs": [],
   "source": [
    "array4 = np.array([5, 7, 9])\n",
    "print(\"Second array:\",array4)\n",
    "print(\"Summation results: \\n\",array3 + array4)"
   ]
  },
  {
   "cell_type": "code",
   "execution_count": null,
   "id": "d1bb2910-3fe4-4813-8042-631bcd11126c",
   "metadata": {
    "tags": []
   },
   "outputs": [],
   "source": [
    "array5 = np.array([[1], [2], [3],[4]])\n",
    "print(\"Second array: \\n\",array5)\n",
    "print(\"Multiplication results: \\n\", array3 * array5)"
   ]
  },
  {
   "cell_type": "code",
   "execution_count": null,
   "id": "d8023346-f8e2-4711-af60-0897d7962aff",
   "metadata": {
    "tags": []
   },
   "outputs": [],
   "source": [
    "array6 = np.array([7 ,8 ,9])\n",
    "print(\"first array:\",array6)\n",
    "print(\"Second array: \\n\",array5)"
   ]
  },
  {
   "cell_type": "code",
   "execution_count": null,
   "id": "8f5bb497-c65c-476b-913a-943f8397fc54",
   "metadata": {
    "tags": []
   },
   "outputs": [],
   "source": [
    "print(\"Addition results: \\n\", array5 + array6)"
   ]
  },
  {
   "cell_type": "markdown",
   "id": "b69d23d6-77a1-4e84-acd7-276900657106",
   "metadata": {},
   "source": [
    "## 3.4 Random number generation\n",
    "- `np.random.randint(low, high=None, size=None)` function returns an array of randomly generated integers ranging from `low` to `high`, with dimension stated in `size` integer or tuple\n",
    "- `np.random.rand(d0, d1, ..., dn)` function returns an array of uniformly distributed floats from 0 to 1, with dimension stated inside the argument\n",
    "- `np.random.randn(d0, d1, ..., dn)` function returns an array of floats following standard normal distribution, with dimension stated inside the argument"
   ]
  },
  {
   "cell_type": "code",
   "execution_count": null,
   "id": "d329b951-186a-49dd-bb13-137877e5fdc7",
   "metadata": {
    "tags": []
   },
   "outputs": [],
   "source": [
    "# generate 1D array of 5 random integers between 0 and 9\n",
    "integer_array = np.random.randint(0, 10, 5)\n",
    "\n",
    "print(\"1D Random Integer Array:\\n\",integer_array)\n",
    "\n",
    "# generate 1D array of 5 random numbers between 0 and 1\n",
    "float_array = np.random.rand(5)\n",
    "\n",
    "print(\"\\n1D Random Float Array:\\n\",float_array)\n",
    "\n",
    "# generate 2D array of shape (3, 4) with random integers\n",
    "result = np.random.randint(0, 10, (3,4))\n",
    "\n",
    "print(\"\\n2D Random Integer Array:\\n\",result)\n",
    "\n",
    "# generate 2D array of shape (3, 4) following standard normal distribution\n",
    "result = np.random.randn(3, 4)\n",
    "print(\"\\n2D Standard Normal Array:\\n\",result)"
   ]
  },
  {
   "cell_type": "markdown",
   "id": "49bc2a3a-67e6-4a95-a5da-35144e7bb7ce",
   "metadata": {},
   "source": [
    "- `.round(decimals)` method of array rounds each element to the stated decimal places.\n",
    "- In the following example, now generate a $2 \\times 4$ array of uniformly distributed numbers from 10000 to 20000, round to 2 decimal places."
   ]
  },
  {
   "cell_type": "code",
   "execution_count": null,
   "id": "f3ff7e4f-72cd-4858-8832-ac47841227e8",
   "metadata": {
    "tags": []
   },
   "outputs": [],
   "source": [
    "sample = np.random.rand(2, 4)*10000 + 10000\n",
    "print(sample.round(2)) #round to 2 decimal places"
   ]
  },
  {
   "cell_type": "markdown",
   "id": "211807f3-9fd5-4229-858e-1948393c7267",
   "metadata": {},
   "source": [
    "### Practice Question\n",
    "1. Randomly generate a transcript for 20 students. The transcript should contain scores for 4 subjects, including Math, Economics, Finance, and Science. The score ranges from 40 to 100, keep one decimal digit.\n",
    "2. Show the highest mark for each subject.\n",
    "3. List the row indices for the top 5 students based on the average score. "
   ]
  },
  {
   "cell_type": "code",
   "execution_count": 5,
   "id": "59124153-97c0-4b4d-b259-fbaaa603ea73",
   "metadata": {
    "tags": []
   },
   "outputs": [
    {
     "data": {
      "text/plain": [
       "array([[79.4, 85.6, 88.7, 85.4],\n",
       "       [80.4, 48.9, 67. , 54.8],\n",
       "       [94.5, 78.9, 91.7, 61.8],\n",
       "       [58.6, 64.6, 44.4, 43.4],\n",
       "       [74.8, 70.4, 41.2, 41.3],\n",
       "       [56.2, 98.3, 44.5, 48.7],\n",
       "       [47.5, 68.1, 51.4, 74.4],\n",
       "       [88.5, 78. , 93.5, 88.4],\n",
       "       [88. , 67.1, 87.7, 60.6],\n",
       "       [44.6, 91.1, 49.9, 98.6],\n",
       "       [40.7, 60.8, 81.8, 74.2],\n",
       "       [69.7, 74.9, 79.7, 54.3],\n",
       "       [59. , 99.8, 52.9, 85.3],\n",
       "       [88.1, 62.3, 94.9, 96.8],\n",
       "       [85.7, 40.1, 59.7, 44.2],\n",
       "       [98.5, 91.9, 69. , 76.8],\n",
       "       [98. , 49.3, 79.6, 78.3],\n",
       "       [89.2, 60.5, 47.4, 61.7],\n",
       "       [88.4, 99.6, 87.6, 80.3],\n",
       "       [42.5, 97.7, 62.7, 82.8]])"
      ]
     },
     "execution_count": 5,
     "metadata": {},
     "output_type": "execute_result"
    }
   ],
   "source": [
    "#Generate transcript\n",
    "transcript = (np.random.rand(20, 4) * 60 + 40).round(1)\n",
    "transcript"
   ]
  },
  {
   "cell_type": "code",
   "execution_count": 8,
   "metadata": {},
   "outputs": [
    {
     "data": {
      "text/plain": [
       "array([98.5, 99.8, 94.9, 98.6])"
      ]
     },
     "execution_count": 8,
     "metadata": {},
     "output_type": "execute_result"
    }
   ],
   "source": [
    "highest_mark = transcript.max(axis = 0)\n",
    "highest_mark"
   ]
  },
  {
   "cell_type": "code",
   "execution_count": 13,
   "metadata": {},
   "outputs": [
    {
     "data": {
      "text/plain": [
       "array([84.775, 62.775, 81.725, 52.75 , 56.925, 61.925, 60.35 , 87.1  ,\n",
       "       75.85 , 71.05 , 64.375, 69.65 , 74.25 , 85.525, 57.425, 84.05 ,\n",
       "       76.3  , 64.7  , 88.975, 71.425])"
      ]
     },
     "execution_count": 13,
     "metadata": {},
     "output_type": "execute_result"
    }
   ],
   "source": [
    "average_score = transcript.mean(axis = 1)\n",
    "average_score"
   ]
  },
  {
   "cell_type": "code",
   "execution_count": 12,
   "metadata": {},
   "outputs": [
    {
     "data": {
      "text/plain": [
       "array([15,  7, 13, 18,  0])"
      ]
     },
     "execution_count": 12,
     "metadata": {},
     "output_type": "execute_result"
    }
   ],
   "source": [
    "row_idx = np.argpartition(average_score, -5)[-5: ]\n",
    "row_idx"
   ]
  }
 ],
 "metadata": {
  "kernelspec": {
   "display_name": "Python 3 (ipykernel)",
   "language": "python",
   "name": "python3"
  },
  "language_info": {
   "codemirror_mode": {
    "name": "ipython",
    "version": 3
   },
   "file_extension": ".py",
   "mimetype": "text/x-python",
   "name": "python",
   "nbconvert_exporter": "python",
   "pygments_lexer": "ipython3",
   "version": "3.10.6"
  }
 },
 "nbformat": 4,
 "nbformat_minor": 5
}
