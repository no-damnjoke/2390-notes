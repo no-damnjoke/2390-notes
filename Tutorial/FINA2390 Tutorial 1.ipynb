{
 "cells": [
  {
   "cell_type": "markdown",
   "id": "8d0dc9d4-d6b5-44ae-afe9-caf8bfd0e32b",
   "metadata": {},
   "source": [
    "## Tutorial 1"
   ]
  },
  {
   "cell_type": "markdown",
   "id": "5060275b-aca3-4595-abd9-06179ab09e72",
   "metadata": {},
   "source": [
    "### 1.1 Logistics"
   ]
  },
  {
   "cell_type": "markdown",
   "id": "f1bb5ea2-7940-4a11-9a3b-b70366e05202",
   "metadata": {},
   "source": [
    "- Tutor Name: Frankie Ho\n",
    "- Office location: KK1026\n",
    "- Email address: [cfhoad@hku.hk](mailto:cfhoad@hku.hk)\n",
    "- Office hours: Wednesday 16:30-17:30; Thursday 10:30 – 12:30, 16:30 - 17:30; Friday 11:30 – 13:30"
   ]
  },
  {
   "cell_type": "markdown",
   "id": "f85d5f94-1c78-4ebc-b51d-b4f5c5ce5db3",
   "metadata": {},
   "source": [
    "- Format: 2 weekly face-to-face tutorial sessions, Wednesday 12:30 pm and Thursday 5:30 pm\n",
    "- Provide concept review and extra coding practices during each tutorial.\n",
    "- For consultation outside my office hours, please send me an email to make an appointment."
   ]
  },
  {
   "cell_type": "markdown",
   "id": "eb474586-0d19-4b64-bd21-e733e8afd9d7",
   "metadata": {},
   "source": [
    "### 1.2 Function scoping\n",
    "\n",
    "- As demonstrated in Lecture 2, suppose there are two variables with the same name, one defined inside a function and another defined outside a function, they are separate in Python\n",
    "- The variable defined INSIDE a function is in the local scope (only active inside the function)\n",
    "- The variable defined OUTSIDE a function is in the global scope (active everywhere in the module)\n",
    "- When the function is called, the variable in its local scope is called, as local scope has higher priority than global scope. Variable in the global scope is ignored.\n",
    "- After calling the function, the variable inside the function is destroyed. Therefore, Variable in global scope is always called when we are currently outside the function.\n",
    "\n"
   ]
  },
  {
   "cell_type": "code",
   "execution_count": 1,
   "id": "92c03210-8c75-4fab-b5d3-113a92ca7fb2",
   "metadata": {
    "tags": []
   },
   "outputs": [],
   "source": [
    "def square(base):\n",
    "    result = base ** 2\n",
    "    print(f'The square of {base} is: {result}')"
   ]
  },
  {
   "cell_type": "code",
   "execution_count": 2,
   "id": "ac9dd353-c77a-446a-bc41-5200a85ea36b",
   "metadata": {
    "tags": []
   },
   "outputs": [
    {
     "name": "stdout",
     "output_type": "stream",
     "text": [
      "The square of 10 is: 100\n"
     ]
    }
   ],
   "source": [
    "square(10)"
   ]
  },
  {
   "cell_type": "code",
   "execution_count": 3,
   "id": "43801c93-d415-4c22-aa46-df9399f2eb3d",
   "metadata": {
    "tags": []
   },
   "outputs": [
    {
     "ename": "NameError",
     "evalue": "name 'result' is not defined",
     "output_type": "error",
     "traceback": [
      "\u001b[1;31m---------------------------------------------------------------------------\u001b[0m",
      "\u001b[1;31mNameError\u001b[0m                                 Traceback (most recent call last)",
      "Cell \u001b[1;32mIn[3], line 1\u001b[0m\n\u001b[1;32m----> 1\u001b[0m result\n",
      "\u001b[1;31mNameError\u001b[0m: name 'result' is not defined"
     ]
    }
   ],
   "source": [
    "result # Isn't accessible from outside square()"
   ]
  },
  {
   "cell_type": "code",
   "execution_count": 4,
   "id": "720e5374-8af3-4a64-96ff-f8b1f78b4bca",
   "metadata": {
    "tags": []
   },
   "outputs": [
    {
     "ename": "NameError",
     "evalue": "name 'base' is not defined",
     "output_type": "error",
     "traceback": [
      "\u001b[1;31m---------------------------------------------------------------------------\u001b[0m",
      "\u001b[1;31mNameError\u001b[0m                                 Traceback (most recent call last)",
      "Cell \u001b[1;32mIn[4], line 1\u001b[0m\n\u001b[1;32m----> 1\u001b[0m base\n",
      "\u001b[1;31mNameError\u001b[0m: name 'base' is not defined"
     ]
    }
   ],
   "source": [
    "base"
   ]
  },
  {
   "cell_type": "code",
   "execution_count": 2,
   "id": "af0f192a-f7dd-485f-a992-a3671b309e96",
   "metadata": {
    "tags": []
   },
   "outputs": [
    {
     "name": "stdout",
     "output_type": "stream",
     "text": [
      "Me too.\n",
      "I love corporate finance\n"
     ]
    }
   ],
   "source": [
    "def f():\n",
    " \n",
    "    # This program will NOT show error\n",
    "    # if we comment below line.\n",
    "    s = \"Me too.\"\n",
    " \n",
    "    print(s)\n",
    " \n",
    " \n",
    "# Global scope\n",
    "s = \"I love corporate finance\"\n",
    "f()\n",
    "print(s)"
   ]
  },
  {
   "cell_type": "markdown",
   "id": "71692044-a5d5-4caf-bbfa-ea65ca2ec84f",
   "metadata": {},
   "source": [
    "- We may use ```global``` keyword for the variable defined inside the function to behave as a global scope variable, not local scope variable\n",
    "- However, we don't recommend using global variables inside a function, because they can be changed almost anywhere in the module, making it hard to debug and easy to bring unintended errors\n",
    "- example:"
   ]
  },
  {
   "cell_type": "code",
   "execution_count": 24,
   "id": "6a7283b4-5942-4eb3-abe4-b2d172073747",
   "metadata": {
    "tags": []
   },
   "outputs": [],
   "source": [
    "counter = 0  # A global name\n",
    "def update_counter():\n",
    "    global counter  # Declare counter as global\n",
    "    counter = counter + 1 "
   ]
  },
  {
   "cell_type": "code",
   "execution_count": 25,
   "id": "4f0ea824-030a-475d-9343-f9938e555564",
   "metadata": {
    "tags": []
   },
   "outputs": [
    {
     "data": {
      "text/plain": [
       "1"
      ]
     },
     "execution_count": 25,
     "metadata": {},
     "output_type": "execute_result"
    }
   ],
   "source": [
    "update_counter()\n",
    "counter"
   ]
  },
  {
   "cell_type": "code",
   "execution_count": 26,
   "id": "b39bb5c3-0bd8-438b-8a60-19fb2cf21984",
   "metadata": {
    "tags": []
   },
   "outputs": [
    {
     "data": {
      "text/plain": [
       "2"
      ]
     },
     "execution_count": 26,
     "metadata": {},
     "output_type": "execute_result"
    }
   ],
   "source": [
    "update_counter()\n",
    "counter"
   ]
  },
  {
   "cell_type": "code",
   "execution_count": 27,
   "id": "f7352716-e981-47cf-b2f9-92c662a3d339",
   "metadata": {
    "tags": []
   },
   "outputs": [
    {
     "data": {
      "text/plain": [
       "3"
      ]
     },
     "execution_count": 27,
     "metadata": {},
     "output_type": "execute_result"
    }
   ],
   "source": [
    "update_counter()\n",
    "counter"
   ]
  },
  {
   "cell_type": "code",
   "execution_count": 3,
   "id": "f019fa83-514a-4c16-88cb-86de4d3e464f",
   "metadata": {},
   "outputs": [
    {
     "name": "stdout",
     "output_type": "stream",
     "text": [
      "global :  1\n",
      "Inside f() :  1\n",
      "global :  1\n",
      "Inside g() :  2\n",
      "global :  1\n",
      "Inside h() :  3\n",
      "global :  3\n"
     ]
    }
   ],
   "source": [
    "# Python program to demonstrate\n",
    "# scope of variable\n",
    " \n",
    "a = 1\n",
    "   \n",
    "# Uses global because there is no local 'a'\n",
    "def f():\n",
    "    print('Inside f() : ', a)\n",
    "   \n",
    "# Variable 'a' is redefined as a local\n",
    "def g():    \n",
    "    a = 2\n",
    "    print('Inside g() : ', a)\n",
    "   \n",
    "# Uses global keyword to modify global 'a'\n",
    "def h():    \n",
    "    global a\n",
    "    a = 3\n",
    "    print('Inside h() : ', a)\n",
    "   \n",
    "# Global scope\n",
    "print('global : ', a)\n",
    "f()\n",
    "print('global : ', a)\n",
    "g()\n",
    "print('global : ', a)\n",
    "h()\n",
    "print('global : ', a)"
   ]
  },
  {
   "cell_type": "markdown",
   "id": "c8a5f7c8-2052-4fcd-b830-9dcd1192bb38",
   "metadata": {
    "tags": []
   },
   "source": [
    "### 1.3 recursion\n",
    "- In the following example, numbers are printed in reverse order using steps of 2 starting with an initial number. \n",
    "- At each iteration, the corresponding number of emoji smiles will appear."
   ]
  },
  {
   "cell_type": "code",
   "execution_count": 5,
   "id": "27af61c0-e233-4776-89f4-a543dbca7292",
   "metadata": {
    "tags": []
   },
   "outputs": [
    {
     "name": "stdout",
     "output_type": "stream",
     "text": [
      "9 😃 😃 😃 😃 😃 😃 😃 😃 😃\n",
      "7 😃 😃 😃 😃 😃 😃 😃\n",
      "5 😃 😃 😃 😃 😃\n",
      "3 😃 😃 😃\n",
      "1 😃\n",
      "Zero!\n"
     ]
    }
   ],
   "source": [
    "def backwardsby2(num):\n",
    "    if num <= 0:\n",
    "        print('Zero!')\n",
    "        return\n",
    "    else:\n",
    "        emojismiles = []\n",
    "        for i in range(0, num):\n",
    "            emojismiles += '😃'\n",
    "        print(num, ' '.join(emojismiles))\n",
    "        backwardsby2(num - 2)\n",
    "\n",
    "\n",
    "backwardsby2(9)"
   ]
  },
  {
   "cell_type": "markdown",
   "id": "1f390cbb-319c-4cd8-875d-417b593394d1",
   "metadata": {},
   "source": [
    "- Exercise: How to express this function in iterative approach? (using while loop or for loop)"
   ]
  },
  {
   "cell_type": "code",
   "execution_count": 5,
   "id": "8a34ade4-b2aa-4970-9817-f5c0f39abcd9",
   "metadata": {
    "tags": []
   },
   "outputs": [
    {
     "name": "stdout",
     "output_type": "stream",
     "text": [
      "9 😃 😃 😃 😃 😃 😃 😃 😃 😃\n",
      "7 😃 😃 😃 😃 😃 😃 😃\n",
      "5 😃 😃 😃 😃 😃\n",
      "3 😃 😃 😃\n",
      "1 😃\n",
      "Zero!\n",
      "9 😃 😃 😃 😃 😃 😃 😃 😃 😃\n",
      "7 😃 😃 😃 😃 😃 😃 😃\n",
      "5 😃 😃 😃 😃 😃\n",
      "3 😃 😃 😃\n",
      "1 😃\n",
      "Zero!\n"
     ]
    }
   ],
   "source": [
    "def backwardsby2_while(num): #Approach using while loop\n",
    "    while num > 0:\n",
    "        emojismiles = []\n",
    "        for i in range(0, num):\n",
    "            emojismiles += '😃'\n",
    "        print(num, ' '.join(emojismiles))\n",
    "        num -= 2\n",
    "    print('Zero!')\n",
    "    \n",
    "backwardsby2_while(9)\n",
    "\n",
    "\n",
    "\n",
    "def backwardsby2_for(num): #Approach using for loop\n",
    "    for num in range(num, 0, -2):\n",
    "        emojismiles = []\n",
    "        for i in range(0, num):\n",
    "            emojismiles += '😃'\n",
    "        print(num, ' '.join(emojismiles))\n",
    "    print('Zero!')\n",
    "    \n",
    "backwardsby2_for(9)"
   ]
  },
  {
   "cell_type": "markdown",
   "id": "8e5fc211-200d-423d-a15e-d99daf305a98",
   "metadata": {},
   "source": [
    "### 1.4 mutability\n",
    "\n",
    "- Mutable objects can be modified directly while immutable objects cannot\n",
    "- Lists are mutable, most other objects are not mutable (string, tuple...)\n",
    "- Keys of a dictionary MUST be immutable\n",
    "- Values of a dictionary is mutable\n",
    "- Example with a tuple:"
   ]
  },
  {
   "cell_type": "code",
   "execution_count": 6,
   "id": "396605e1-3164-4e66-bbba-0b7467102593",
   "metadata": {
    "tags": []
   },
   "outputs": [
    {
     "ename": "TypeError",
     "evalue": "'tuple' object does not support item assignment",
     "output_type": "error",
     "traceback": [
      "\u001b[1;31m---------------------------------------------------------------------------\u001b[0m",
      "\u001b[1;31mTypeError\u001b[0m                                 Traceback (most recent call last)",
      "Cell \u001b[1;32mIn[6], line 5\u001b[0m\n\u001b[0;32m      1\u001b[0m \u001b[38;5;66;03m# Python code to test that\u001b[39;00m\n\u001b[0;32m      2\u001b[0m \u001b[38;5;66;03m# tuples are immutable\u001b[39;00m\n\u001b[0;32m      4\u001b[0m tuple1 \u001b[38;5;241m=\u001b[39m (\u001b[38;5;241m0\u001b[39m, \u001b[38;5;241m1\u001b[39m, \u001b[38;5;241m2\u001b[39m, \u001b[38;5;241m3\u001b[39m)\n\u001b[1;32m----> 5\u001b[0m tuple1[\u001b[38;5;241m0\u001b[39m] \u001b[38;5;241m=\u001b[39m \u001b[38;5;241m4\u001b[39m\n\u001b[0;32m      6\u001b[0m \u001b[38;5;28mprint\u001b[39m(tuple1)\n",
      "\u001b[1;31mTypeError\u001b[0m: 'tuple' object does not support item assignment"
     ]
    }
   ],
   "source": [
    "# Python code to test that\n",
    "# tuples are immutable\n",
    "   \n",
    "tuple1 = (0, 1, 2, 3)\n",
    "tuple1[0] = 4\n",
    "print(tuple1)"
   ]
  },
  {
   "cell_type": "markdown",
   "id": "a0abcf39-1053-4fb7-93f5-acbfd5e96df6",
   "metadata": {},
   "source": [
    "- Example with lists:"
   ]
  },
  {
   "cell_type": "code",
   "execution_count": 7,
   "id": "6882b194-2163-4a72-bf3f-ff49ef2ba55b",
   "metadata": {
    "tags": []
   },
   "outputs": [
    {
     "name": "stdout",
     "output_type": "stream",
     "text": [
      "[1, 2, 3, 4]\n",
      "[1, 5, 2, 3, 4]\n",
      "[1, 5, 3, 4]\n",
      "[5, 3, 4]\n",
      "1\n"
     ]
    }
   ],
   "source": [
    "my_list = [1, 2, 3]\n",
    "my_list.append(4)\n",
    "print(my_list)\n",
    " \n",
    "my_list.insert(1, 5)\n",
    "print(my_list)\n",
    " \n",
    "my_list.remove(2)\n",
    "print(my_list)\n",
    " \n",
    "popped_element = my_list.pop(0)\n",
    "print(my_list)        \n",
    "print(popped_element) "
   ]
  },
  {
   "cell_type": "markdown",
   "id": "731dbd8b-c6d8-47c4-aed6-5d171639d671",
   "metadata": {},
   "source": [
    "- Example with dictionary:"
   ]
  },
  {
   "cell_type": "code",
   "execution_count": 9,
   "id": "f86534e4-484d-447e-ac08-6f14499fa572",
   "metadata": {
    "tags": []
   },
   "outputs": [
    {
     "name": "stdout",
     "output_type": "stream",
     "text": [
      "{'name': 'Ram', 'age': 37}\n",
      "{'name': 'Ram', 'age': 37}\n"
     ]
    }
   ],
   "source": [
    "my_dict = {\"name\": \"Ram\", \"age\": 25}\n",
    "new_dict = my_dict\n",
    "new_dict[\"age\"] = 37\n",
    " \n",
    "print(my_dict)  \n",
    "print(new_dict)"
   ]
  },
  {
   "cell_type": "code",
   "execution_count": null,
   "id": "9ce4daf0-8302-4f26-b8a6-3eeddf7f7c30",
   "metadata": {},
   "outputs": [],
   "source": [
    "my_dict = {\"name\": \"Ram\", \"age\": 25}\n",
    "new_dict = my_dict.copy()\n",
    "new_dict[\"age\"] = 37\n",
    " \n",
    "print(my_dict)  \n",
    "print(new_dict)"
   ]
  }
 ],
 "metadata": {
  "kernelspec": {
   "display_name": "Python 3 (ipykernel)",
   "language": "python",
   "name": "python3"
  },
  "language_info": {
   "codemirror_mode": {
    "name": "ipython",
    "version": 3
   },
   "file_extension": ".py",
   "mimetype": "text/x-python",
   "name": "python",
   "nbconvert_exporter": "python",
   "pygments_lexer": "ipython3",
   "version": "3.11.5"
  }
 },
 "nbformat": 4,
 "nbformat_minor": 5
}
