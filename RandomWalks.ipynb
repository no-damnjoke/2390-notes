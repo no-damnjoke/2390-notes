{
 "cells": [
  {
   "cell_type": "code",
   "execution_count": 2,
   "metadata": {},
   "outputs": [],
   "source": [
    "import random,numpy as np, matplotlib as plt"
   ]
  },
  {
   "cell_type": "code",
   "execution_count": 26,
   "metadata": {},
   "outputs": [],
   "source": [
    "def random_walk_simulations(nsteps, nwalks):\n",
    "    \"\"\"\n",
    "    nsteps (int): the number of steps in each random walk process;\n",
    "    nwalks (int): the number of random walks at once;\n",
    "    Return three quantities:\n",
    "    1. walks_max: ndarray with shape (nwalks,) that records the max value across nwalks random walk paths;\n",
    "    2. walks_min: ndarray with shape (nwalks,) that records the min value across nwalks random walk paths;\n",
    "    3. first_crossing_time: ndarray with shape (nwalks,) that records the first passing time across \n",
    "                            nwalks random walk paths.\n",
    "    \"\"\"\n",
    "    draws = np.random.randint(0, 2, size=(nwalks, nsteps)) # 0 or 1\n",
    "    steps = np.where(draws > 0, 1, -1)\n",
    "    walks = steps.cumsum(1)\n",
    "    walks_max = walks.max(axis=1)\n",
    "    walks_min = walks.min(axis=1)\n",
    "    first_crossing_time = (np.abs(walks) >= 10).argmax(axis=1)\n",
    "\n",
    "    return walks_max, walks_min, first_crossing_time"
   ]
  },
  {
   "cell_type": "code",
   "execution_count": 27,
   "metadata": {},
   "outputs": [],
   "source": [
    "walks_max, walks_min, first_crossing_time = random_walk_simulations(nsteps=1000, nwalks=5000)"
   ]
  },
  {
   "cell_type": "code",
   "execution_count": 30,
   "metadata": {},
   "outputs": [
    {
     "name": "stdout",
     "output_type": "stream",
     "text": [
      "[28 29 41 ...  5  4 93]\n",
      "[ -3 -17 -13 ... -43 -24  -4]\n",
      "[ 49 103  69 ... 127  27  53]\n"
     ]
    }
   ],
   "source": [
    "print(walks_max)\n",
    "print(walks_min)\n",
    "print(first_crossing_time)"
   ]
  },
  {
   "cell_type": "code",
   "execution_count": 28,
   "metadata": {},
   "outputs": [
    {
     "name": "stdout",
     "output_type": "stream",
     "text": [
      "[ 2. 22. 62.]\n",
      "[-60. -21.  -1.]\n",
      "[ 19.  75. 269.]\n"
     ]
    }
   ],
   "source": [
    "print(np.quantile(walks_max, (0.05, 0.5, 0.95)))\n",
    "print(np.quantile(walks_min, (0.05, 0.5, 0.95)))\n",
    "print(np.quantile(first_crossing_time, (0.05, 0.5, 0.95)))"
   ]
  },
  {
   "cell_type": "code",
   "execution_count": null,
   "metadata": {},
   "outputs": [],
   "source": []
  }
 ],
 "metadata": {
  "kernelspec": {
   "display_name": "base",
   "language": "python",
   "name": "python3"
  },
  "language_info": {
   "codemirror_mode": {
    "name": "ipython",
    "version": 3
   },
   "file_extension": ".py",
   "mimetype": "text/x-python",
   "name": "python",
   "nbconvert_exporter": "python",
   "pygments_lexer": "ipython3",
   "version": "3.10.6"
  }
 },
 "nbformat": 4,
 "nbformat_minor": 2
}
