{
 "cells": [
  {
   "cell_type": "markdown",
   "id": "72f03672-a0f5-4e0d-9c26-ac2eb368cb05",
   "metadata": {
    "tags": []
   },
   "source": [
    "# Tutorial 4: Pandas Basics I"
   ]
  },
  {
   "cell_type": "markdown",
   "id": "024c0c7e-c8fe-4566-874a-0e9031d61be6",
   "metadata": {},
   "source": [
    "## 4.1 Agenda¶\n",
    "This tutorial focuses on the basic pandas package functions and Series/DataFrame methods, and provide some corresponding practices.\n",
    "\n",
    "Pandas Series/ DataFrame is designed for efficient handling of heterogenous data, where most financial data belongs to, compared to Numpy ndarrays that are designed for homogenous data."
   ]
  },
  {
   "cell_type": "markdown",
   "id": "e163c47b-7658-4d76-9a98-a0942d7beb52",
   "metadata": {
    "tags": []
   },
   "source": [
    "## 4.2 Import csv file into Pandas package"
   ]
  },
  {
   "cell_type": "markdown",
   "id": "330fb2eb-2a76-4cd0-97af-3d67ca888a05",
   "metadata": {},
   "source": [
    "`DataFrame` is a class of 2D elements in Pandas package, where it consists of main data, index names and column names. \\\n",
    "Index and column names are customizable, although they are set to `pd.RangeIndex` (0, 1, 2, 3...) in default. \\\n",
    "In the following example, A DataFrame is created by loading a table in csv format. "
   ]
  },
  {
   "cell_type": "code",
   "execution_count": 2,
   "id": "1d45ce6e-da30-4a69-b689-56f45148cbb9",
   "metadata": {
    "tags": []
   },
   "outputs": [
    {
     "name": "stdout",
     "output_type": "stream",
     "text": [
      "Download ready.\n"
     ]
    },
    {
     "data": {
      "text/plain": [
       "pandas.core.frame.DataFrame"
      ]
     },
     "execution_count": 2,
     "metadata": {},
     "output_type": "execute_result"
    }
   ],
   "source": [
    "#Download NBA data in csv format from a website. The csv file is now saved to the working directory.\n",
    "import requests\n",
    "\n",
    "download_url = \"https://raw.githubusercontent.com/fivethirtyeight/data/master/nba-elo/nbaallelo.csv\"\n",
    "target_csv_path = \"nba_all_elo.csv\"\n",
    "\n",
    "response = requests.get(download_url)\n",
    "response.raise_for_status()    # Check that the request was successful\n",
    "with open(target_csv_path, \"wb\") as f:\n",
    "    f.write(response.content)\n",
    "print(\"Download ready.\")\n",
    "\n",
    "import pandas as pd\n",
    "nba = pd.read_csv(\"nba_all_elo.csv\")\n",
    "type(nba) #A DataFrame object is now created by loading the csv file. "
   ]
  },
  {
   "cell_type": "code",
   "execution_count": 3,
   "id": "05a2fe1d-b7ae-4a59-af29-0598e4a53c7d",
   "metadata": {
    "tags": []
   },
   "outputs": [
    {
     "name": "stdout",
     "output_type": "stream",
     "text": [
      "   gameorder       game_id lg_id  _iscopy  year_id  date_game  seasongame  \\\n",
      "0          1  194611010TRH   NBA        0     1947  11/1/1946           1   \n",
      "1          1  194611010TRH   NBA        1     1947  11/1/1946           1   \n",
      "2          2  194611020CHS   NBA        0     1947  11/2/1946           1   \n",
      "3          2  194611020CHS   NBA        1     1947  11/2/1946           2   \n",
      "4          3  194611020DTF   NBA        0     1947  11/2/1946           1   \n",
      "\n",
      "   is_playoffs team_id  fran_id  ...  win_equiv  opp_id  opp_fran  opp_pts  \\\n",
      "0            0     TRH  Huskies  ...  40.294830     NYK    Knicks       68   \n",
      "1            0     NYK   Knicks  ...  41.705170     TRH   Huskies       66   \n",
      "2            0     CHS    Stags  ...  42.012257     NYK    Knicks       47   \n",
      "3            0     NYK   Knicks  ...  40.692783     CHS     Stags       63   \n",
      "4            0     DTF  Falcons  ...  38.864048     WSC  Capitols       50   \n",
      "\n",
      "   opp_elo_i  opp_elo_n  game_location  game_result  forecast notes  \n",
      "0  1300.0000  1306.7233              H            L  0.640065   NaN  \n",
      "1  1300.0000  1293.2767              A            W  0.359935   NaN  \n",
      "2  1306.7233  1297.0712              H            W  0.631101   NaN  \n",
      "3  1300.0000  1309.6521              A            L  0.368899   NaN  \n",
      "4  1300.0000  1320.3811              H            L  0.640065   NaN  \n",
      "\n",
      "[5 rows x 23 columns]\n"
     ]
    }
   ],
   "source": [
    "print(nba.head()) #display top 5 rows of the loaded data"
   ]
  },
  {
   "cell_type": "markdown",
   "id": "6380acd0-9d77-4b9b-80ce-d41817a2d60f",
   "metadata": {},
   "source": [
    "- The first row in the csv file is automatically loaded as column names. "
   ]
  },
  {
   "cell_type": "markdown",
   "id": "96fc0539-5a4d-47d6-bee7-671e5a162f64",
   "metadata": {},
   "source": [
    "Alternatively, a `DataFrame` can also be created by converting a `dict` of `list` / `pd.Series` into `pd.DataFrame`. \\\n",
    "Each key is rendered as column name while its value (as list) is rendered as column data."
   ]
  },
  {
   "cell_type": "code",
   "execution_count": 4,
   "id": "7a1523bc-2ad0-4f9e-bf31-917ae261232d",
   "metadata": {
    "tags": []
   },
   "outputs": [
    {
     "name": "stdout",
     "output_type": "stream",
     "text": [
      "Amsterdam    4200\n",
      "Toronto      8000\n",
      "Tokyo        6500\n",
      "dtype: int64\n"
     ]
    }
   ],
   "source": [
    "#Create a 1D pd.Series, where index can be customized\n",
    "city_revenues = pd.Series([4200, 8000, 6500], index=[\"Amsterdam\", \"Toronto\", \"Tokyo\"])\n",
    "print(city_revenues)"
   ]
  },
  {
   "cell_type": "code",
   "execution_count": 5,
   "id": "2e8b123d-1e79-4acb-b2c2-39d098925df6",
   "metadata": {
    "tags": []
   },
   "outputs": [
    {
     "name": "stdout",
     "output_type": "stream",
     "text": [
      "Amsterdam    5\n",
      "Tokyo        8\n",
      "dtype: int64\n"
     ]
    }
   ],
   "source": [
    "#create a pd.Series from a dictionary\n",
    "city_employee_count = pd.Series({\"Amsterdam\": 5, \"Tokyo\": 8})\n",
    "print(city_employee_count)"
   ]
  },
  {
   "cell_type": "code",
   "execution_count": 6,
   "id": "951ba4a3-bd96-4ffe-80bc-d6ad5a977241",
   "metadata": {
    "tags": []
   },
   "outputs": [
    {
     "name": "stdout",
     "output_type": "stream",
     "text": [
      "           revenue  employee_count\n",
      "Amsterdam     4200             5.0\n",
      "Tokyo         6500             8.0\n",
      "Toronto       8000             NaN\n"
     ]
    }
   ],
   "source": [
    "#Create a DataFrame by combining the two Series objects\n",
    "city_data = pd.DataFrame({\"revenue\": city_revenues, \"employee_count\": city_employee_count})\n",
    "print(city_data)"
   ]
  },
  {
   "cell_type": "markdown",
   "id": "9498ef76",
   "metadata": {},
   "source": [
    "## 4.3 DataFrame Indexing and slicing\n",
    "There are two DataFrame methods that perform indexing, `.loc` and `.iloc`. \\\n",
    "`.loc` method takes index and column names as argument. \\\n",
    "`.iloc` method takes row and column indices as argument (similar to indexing of ndarrays)"
   ]
  },
  {
   "cell_type": "code",
   "execution_count": 7,
   "id": "77c79050",
   "metadata": {
    "tags": []
   },
   "outputs": [
    {
     "data": {
      "text/plain": [
       "47"
      ]
     },
     "execution_count": 7,
     "metadata": {},
     "output_type": "execute_result"
    }
   ],
   "source": [
    "nba.loc[3, 'pts']"
   ]
  },
  {
   "cell_type": "code",
   "execution_count": 8,
   "id": "683998f6",
   "metadata": {
    "tags": []
   },
   "outputs": [
    {
     "data": {
      "text/plain": [
       "'11/2/1946'"
      ]
     },
     "execution_count": 8,
     "metadata": {},
     "output_type": "execute_result"
    }
   ],
   "source": [
    "nba.iloc[2, 5]"
   ]
  },
  {
   "cell_type": "markdown",
   "id": "eb21d91b",
   "metadata": {},
   "source": [
    "- `DataFrame[column_name]` method slices one column from the DataFrame as `pd.Series`.\\\n",
    "Alternatively `DataFrame.column_name` also works, where the column name can be treated as an attribute of DataFrame. "
   ]
  },
  {
   "cell_type": "code",
   "execution_count": 9,
   "id": "b58b3a75",
   "metadata": {
    "tags": []
   },
   "outputs": [
    {
     "data": {
      "text/plain": [
       "0         TRH\n",
       "1         NYK\n",
       "2         CHS\n",
       "3         NYK\n",
       "4         DTF\n",
       "         ... \n",
       "126309    CLE\n",
       "126310    GSW\n",
       "126311    CLE\n",
       "126312    CLE\n",
       "126313    GSW\n",
       "Name: team_id, Length: 126314, dtype: object"
      ]
     },
     "execution_count": 9,
     "metadata": {},
     "output_type": "execute_result"
    }
   ],
   "source": [
    "nba['team_id']"
   ]
  },
  {
   "cell_type": "code",
   "execution_count": 10,
   "id": "6a407536",
   "metadata": {
    "tags": []
   },
   "outputs": [
    {
     "data": {
      "text/plain": [
       "0         TRH\n",
       "1         NYK\n",
       "2         CHS\n",
       "3         NYK\n",
       "4         DTF\n",
       "         ... \n",
       "126309    CLE\n",
       "126310    GSW\n",
       "126311    CLE\n",
       "126312    CLE\n",
       "126313    GSW\n",
       "Name: team_id, Length: 126314, dtype: object"
      ]
     },
     "execution_count": 10,
     "metadata": {},
     "output_type": "execute_result"
    }
   ],
   "source": [
    "nba.team_id"
   ]
  },
  {
   "cell_type": "markdown",
   "id": "7dd40b3d",
   "metadata": {},
   "source": [
    "- Mutliple columns can be sliced by passing a list of column names into square bracket above, returning a`pd.DataFrame`:"
   ]
  },
  {
   "cell_type": "code",
   "execution_count": 11,
   "id": "36b36fd1",
   "metadata": {
    "tags": []
   },
   "outputs": [
    {
     "name": "stdout",
     "output_type": "stream",
     "text": [
      "       team_id  date_game  pts\n",
      "0          TRH  11/1/1946   66\n",
      "1          NYK  11/1/1946   68\n",
      "2          CHS  11/2/1946   63\n",
      "3          NYK  11/2/1946   47\n",
      "4          DTF  11/2/1946   33\n",
      "...        ...        ...  ...\n",
      "126309     CLE  6/11/2015   82\n",
      "126310     GSW  6/14/2015  104\n",
      "126311     CLE  6/14/2015   91\n",
      "126312     CLE  6/16/2015   97\n",
      "126313     GSW  6/16/2015  105\n",
      "\n",
      "[126314 rows x 3 columns]\n"
     ]
    }
   ],
   "source": [
    "df2 = nba[['team_id', 'date_game', 'pts']]\n",
    "print(df2)"
   ]
  },
  {
   "cell_type": "markdown",
   "id": "63d9eada",
   "metadata": {},
   "source": [
    "- Getting a slice of 'pts' column from the first 20 rows using `.loc` and `.iloc` methods:"
   ]
  },
  {
   "cell_type": "code",
   "execution_count": 12,
   "id": "5a42d542",
   "metadata": {
    "tags": []
   },
   "outputs": [
    {
     "name": "stdout",
     "output_type": "stream",
     "text": [
      "0     66\n",
      "1     68\n",
      "2     63\n",
      "3     47\n",
      "4     33\n",
      "5     50\n",
      "6     53\n",
      "7     59\n",
      "8     51\n",
      "9     56\n",
      "10    60\n",
      "11    71\n",
      "12    56\n",
      "13    71\n",
      "14    55\n",
      "15    57\n",
      "16    53\n",
      "17    49\n",
      "18    75\n",
      "19    81\n",
      "Name: pts, dtype: int64\n",
      "True\n"
     ]
    }
   ],
   "source": [
    "pts_head1 = nba.iloc[:20,10]\n",
    "pts_head2 = nba.loc[:19,'pts']\n",
    "print(pts_head1)\n",
    "print(pts_head1.equals(pts_head2))"
   ]
  },
  {
   "cell_type": "markdown",
   "id": "37d04809",
   "metadata": {},
   "source": [
    "## 4.3 Filtering of DataFrames\n",
    "Filtering can be done by putting conditions with boolean output into the slicing square bracket.\n",
    "- In the following example, we choose all matches that are played by Cleveland Cavaliers (`teamid : \"CLE\"`)"
   ]
  },
  {
   "cell_type": "code",
   "execution_count": 13,
   "id": "fb4008c7",
   "metadata": {
    "tags": []
   },
   "outputs": [
    {
     "name": "stdout",
     "output_type": "stream",
     "text": [
      "3810\n"
     ]
    }
   ],
   "source": [
    "nba_data_CLE = nba[nba.team_id == 'CLE']\n",
    "print(len(nba_data_CLE)) #There are 3810 rows"
   ]
  },
  {
   "cell_type": "markdown",
   "id": "9f0fc2f6",
   "metadata": {},
   "source": [
    "- Conditions inside the square backet can be joined by `&` (intersection) or `|` (union). Each condition should be enclosed by parenthesis.\n",
    "- In the following example, choose all matches that the main team wins (`game_result :\"W\"`) and main team scores above 110 (`pts : >110`)"
   ]
  },
  {
   "cell_type": "code",
   "execution_count": 14,
   "id": "a2986b5e",
   "metadata": {
    "tags": []
   },
   "outputs": [],
   "source": [
    "nba_victory_110 = nba[(nba.game_result == 'W') & (nba.pts > 110)]"
   ]
  },
  {
   "cell_type": "code",
   "execution_count": 15,
   "id": "1f7f6bad",
   "metadata": {
    "tags": []
   },
   "outputs": [
    {
     "name": "stdout",
     "output_type": "stream",
     "text": [
      "        gameorder       game_id lg_id  _iscopy  year_id   date_game  \\\n",
      "781           391  194712060PRO   NBA        1     1948   12/6/1947   \n",
      "1241          621  194811240LAL   NBA        0     1949  11/24/1948   \n",
      "1448          725  194901040PRO   NBA        1     1949    1/4/1949   \n",
      "1727          864  194902260BLB   NBA        1     1949   2/26/1949   \n",
      "2047         1024  194911200LAL   NBA        0     1950  11/20/1949   \n",
      "...           ...           ...   ...      ...      ...         ...   \n",
      "126283      63142  201505170HOU   NBA        0     2015   5/17/2015   \n",
      "126292      63147  201505230HOU   NBA        1     2015   5/23/2015   \n",
      "126294      63148  201505240CLE   NBA        0     2015   5/24/2015   \n",
      "126297      63149  201505250HOU   NBA        0     2015   5/25/2015   \n",
      "126298      63150  201505260CLE   NBA        0     2015   5/26/2015   \n",
      "\n",
      "        seasongame  is_playoffs team_id    fran_id  ...  win_equiv  opp_id  \\\n",
      "781             11            0     NYK     Knicks  ...  42.514290     PRO   \n",
      "1241            11            0     MNL     Lakers  ...  50.642723     PRO   \n",
      "1448            22            0     CHS      Stags  ...  47.457352     PRO   \n",
      "1727            49            0     MNL     Lakers  ...  60.137630     BLB   \n",
      "2047             9            0     MNL     Lakers  ...  56.211605     INO   \n",
      "...            ...          ...     ...        ...  ...        ...     ...   \n",
      "126283          94            1     HOU    Rockets  ...  57.348087     LAC   \n",
      "126292          95            1     GSW   Warriors  ...  68.002609     HOU   \n",
      "126294          95            1     CLE  Cavaliers  ...  60.254032     ATL   \n",
      "126297          98            1     HOU    Rockets  ...  56.407814     GSW   \n",
      "126298          96            1     CLE  Cavaliers  ...  60.934734     ATL   \n",
      "\n",
      "            opp_fran  opp_pts  opp_elo_i  opp_elo_n  game_location  \\\n",
      "781     Steamrollers       85  1284.6752  1263.7725              A   \n",
      "1241    Steamrollers       89  1224.2421  1221.5316              H   \n",
      "1448    Steamrollers      104  1193.8218  1189.4106              A   \n",
      "1727       Baltimore      114  1421.9351  1419.4280              A   \n",
      "2047       Olympians       95  1338.6213  1335.2281              H   \n",
      "...              ...      ...        ...        ...            ...   \n",
      "126283      Clippers      100  1704.4277  1694.5431              H   \n",
      "126292       Rockets       80  1665.6567  1643.4324              A   \n",
      "126294         Hawks      111  1591.4017  1589.2021              H   \n",
      "126297      Warriors      115  1813.4543  1797.8933              H   \n",
      "126298         Hawks       88  1589.2021  1580.7914              H   \n",
      "\n",
      "        game_result  forecast         notes  \n",
      "781               W  0.507932           NaN  \n",
      "1241              W  0.913496           NaN  \n",
      "1448              W  0.766597  at Boston MA  \n",
      "1727              W  0.661064           NaN  \n",
      "2047              W  0.889069           NaN  \n",
      "...             ...       ...           ...  \n",
      "126283            W  0.578816           NaN  \n",
      "126292            W  0.536737           NaN  \n",
      "126294            W  0.770210           NaN  \n",
      "126297            W  0.400573           NaN  \n",
      "126298            W  0.774661           NaN  \n",
      "\n",
      "[26758 rows x 23 columns]\n",
      "26758\n"
     ]
    }
   ],
   "source": [
    "print(nba_victory_110)\n",
    "print(len(nba_victory_110)) "
   ]
  },
  {
   "cell_type": "markdown",
   "id": "e6e2c4fa-fb8f-4813-802d-de5f3f046469",
   "metadata": {},
   "source": [
    "## 4.4 Dataframe other useful methods\n",
    "- Evaluate the mean and standard deviation of `forecast` column, representing the forecasted chance of victory. "
   ]
  },
  {
   "cell_type": "code",
   "execution_count": 16,
   "id": "95f5bebc",
   "metadata": {
    "tags": []
   },
   "outputs": [
    {
     "name": "stdout",
     "output_type": "stream",
     "text": [
      "Average forecasted win chance: 0.5000000000270357\n",
      "Standard deviation of forecasted win chance: 0.21525223981658986\n"
     ]
    }
   ],
   "source": [
    "nba_forecast_mean = nba['forecast'].mean()\n",
    "print(\"Average forecasted win chance:\", nba_forecast_mean)\n",
    "nba_forecast_std = nba['forecast'].std()\n",
    "print(\"Standard deviation of forecasted win chance:\", nba_forecast_std)"
   ]
  },
  {
   "cell_type": "markdown",
   "id": "abe7089f-8f4d-445e-a91a-3a79b4b2a338",
   "metadata": {},
   "source": [
    "- `DataFrame.apply()` method allows us to apply a function to each row of the input DataFrame. \\\n",
    "For simple functions with only one line, they can be created in anonymous manner with `lambda` keyword, then pass into `.apply()` method. \n",
    "- Compute the difference between main team points against opponent points. If the difference is negative, return `np.NaN`."
   ]
  },
  {
   "cell_type": "code",
   "execution_count": 17,
   "id": "9ea9dc96-6ab1-4967-8328-95150f0534d5",
   "metadata": {
    "tags": []
   },
   "outputs": [
    {
     "name": "stdout",
     "output_type": "stream",
     "text": [
      "0          NaN\n",
      "1          2.0\n",
      "2         16.0\n",
      "3          NaN\n",
      "4          NaN\n",
      "          ... \n",
      "126309     NaN\n",
      "126310    13.0\n",
      "126311     NaN\n",
      "126312     NaN\n",
      "126313     8.0\n",
      "Length: 126314, dtype: float64\n"
     ]
    }
   ],
   "source": [
    "import numpy as np\n",
    "nba_pts_diff = nba.apply(lambda row: row.pts - row.opp_pts if row.pts > row.opp_pts else np.NaN, axis=1)\n",
    "print(nba_pts_diff)"
   ]
  },
  {
   "cell_type": "markdown",
   "id": "94112b2a-2eed-42dd-8814-aacfd1ffba64",
   "metadata": {
    "tags": []
   },
   "source": [
    "- Vectorized operation of computing the above difference, then only keep entries with positive value:"
   ]
  },
  {
   "cell_type": "code",
   "execution_count": 18,
   "id": "433a9ba5-ecf2-4630-8b4d-9f9ea2950dcd",
   "metadata": {
    "tags": []
   },
   "outputs": [
    {
     "name": "stdout",
     "output_type": "stream",
     "text": [
      "0         -2\n",
      "1          2\n",
      "2         16\n",
      "3        -16\n",
      "4        -17\n",
      "          ..\n",
      "126309   -21\n",
      "126310    13\n",
      "126311   -13\n",
      "126312    -8\n",
      "126313     8\n",
      "Length: 126314, dtype: int64\n"
     ]
    }
   ],
   "source": [
    "nba_pts_diff2 = nba.pts - nba.opp_pts\n",
    "nba_pts_diff2[nba_pts_diff2 > 0]\n",
    "print(nba_pts_diff2)"
   ]
  },
  {
   "cell_type": "markdown",
   "id": "bb0c70cf-47d6-476f-8b52-bfc3ac5ecea6",
   "metadata": {
    "tags": []
   },
   "source": [
    "## 4.5 Exercises\n",
    "1. From `nba` DataFrame, Evaluate the average forecasted chance of win `forecast` for rows where `_iscopy` is 0 and `game_result` equals \"W\"."
   ]
  },
  {
   "cell_type": "code",
   "execution_count": 36,
   "metadata": {},
   "outputs": [
    {
     "data": {
      "text/plain": [
       "0.6715915002016739"
      ]
     },
     "execution_count": 36,
     "metadata": {},
     "output_type": "execute_result"
    }
   ],
   "source": [
    "#My Solution\n",
    "nba[(nba[\"_iscopy\"] == 0)& (nba[\"game_result\"] == \"W\")][\"forecast\"].mean()"
   ]
  },
  {
   "cell_type": "code",
   "execution_count": 38,
   "id": "d7b045fc-0986-4e16-a3b0-0114e89522b4",
   "metadata": {},
   "outputs": [
    {
     "name": "stdout",
     "output_type": "stream",
     "text": [
      "0.621070595544057\n"
     ]
    }
   ],
   "source": [
    "#Model ans + I think is wrong!\n",
    "avg_win_chance = nba.forecast[(nba._iscopy == 0) & (nba.game_result)].mean()\n",
    "print(avg_win_chance)"
   ]
  },
  {
   "cell_type": "markdown",
   "id": "ee824e2e-0ad8-4cc3-a282-ac62f0e64132",
   "metadata": {},
   "source": [
    "2. From `nba` DataFrame, find the row in which the highest score is obtained for the main team (`pts` set to maximum), then evaluate the following metrics from this row:\\\n",
    "`fran_id`, `opp_fran`, `pts`, `opp_pts`, `date_game`"
   ]
  },
  {
   "cell_type": "code",
   "execution_count": 54,
   "metadata": {},
   "outputs": [
    {
     "data": {
      "text/plain": [
       "fran_id         Pistons\n",
       "opp_fran        Nuggets\n",
       "pts                 186\n",
       "opp_pts             184\n",
       "date_game    12/13/1983\n",
       "Name: 50094, dtype: object"
      ]
     },
     "execution_count": 54,
     "metadata": {},
     "output_type": "execute_result"
    }
   ],
   "source": [
    "#My Solution\n",
    "nba.iloc[nba[\"pts\"].idxmax()][[\"fran_id\", \"opp_fran\", \"pts\", \"opp_pts\", \"date_game\"]]"
   ]
  },
  {
   "cell_type": "code",
   "execution_count": 21,
   "id": "55ff6b2f-9900-4203-8f16-66b703212b04",
   "metadata": {
    "tags": []
   },
   "outputs": [
    {
     "name": "stdout",
     "output_type": "stream",
     "text": [
      "row index for the row with maximum pts:  50094\n"
     ]
    }
   ],
   "source": [
    "#Model ans\n",
    "print(\"row index for the row with maximum pts: \", nba.pts.idxmax())"
   ]
  },
  {
   "cell_type": "code",
   "execution_count": 22,
   "id": "0443e68a-f783-4067-acd6-fe670cc2d55d",
   "metadata": {
    "tags": []
   },
   "outputs": [],
   "source": [
    "#Model ans\n",
    "nba_max_pts = nba.loc[nba.pts.idxmax(), [\"fran_id\", \"opp_fran\", \"pts\", \"opp_pts\", \"date_game\"]]"
   ]
  },
  {
   "cell_type": "code",
   "execution_count": 23,
   "id": "6c0aab6e-6ae9-4a8c-a1aa-9b5629447514",
   "metadata": {
    "tags": []
   },
   "outputs": [
    {
     "name": "stdout",
     "output_type": "stream",
     "text": [
      "fran_id         Pistons\n",
      "opp_fran        Nuggets\n",
      "pts                 186\n",
      "opp_pts             184\n",
      "date_game    12/13/1983\n",
      "Name: 50094, dtype: object\n"
     ]
    }
   ],
   "source": [
    "#Model ans\n",
    "print(nba_max_pts)"
   ]
  }
 ],
 "metadata": {
  "kernelspec": {
   "display_name": "Python 3 (ipykernel)",
   "language": "python",
   "name": "python3"
  },
  "language_info": {
   "codemirror_mode": {
    "name": "ipython",
    "version": 3
   },
   "file_extension": ".py",
   "mimetype": "text/x-python",
   "name": "python",
   "nbconvert_exporter": "python",
   "pygments_lexer": "ipython3",
   "version": "3.10.6"
  }
 },
 "nbformat": 4,
 "nbformat_minor": 5
}
