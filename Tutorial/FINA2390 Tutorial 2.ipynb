{
 "cells": [
  {
   "cell_type": "markdown",
   "id": "b812f905-774e-43c5-b5ee-9ae7c19fbcd8",
   "metadata": {},
   "source": [
    "## Tutorial 2"
   ]
  },
  {
   "cell_type": "markdown",
   "id": "338715bc-f703-4917-9356-3639db5121e8",
   "metadata": {},
   "source": [
    "### 2.1 Dictionary methods"
   ]
  },
  {
   "cell_type": "markdown",
   "id": "8883110a-b488-45d5-9afc-b11e74591861",
   "metadata": {},
   "source": [
    "- Recall from last tutorial, dictionary is a mutable datatype but keys must consist of immutable objects\n",
    "- Keys in a dictionary cannot be duplicated, similar to sets\n",
    "- The following example demonstrate common methods for a dictionary:"
   ]
  },
  {
   "cell_type": "code",
   "execution_count": null,
   "id": "fe67a4c1-b30f-40a8-8b5d-28dee5abe9ad",
   "metadata": {
    "tags": []
   },
   "outputs": [],
   "source": [
    "likes = {\"color\": \"blue\", \"fruit\": \"apple\", \"pet\": \"dog\"}\n",
    "print('Number of pairs: ', len(likes))\n",
    "print(\"The following are keys:\")\n",
    "for key in likes.keys():\n",
    "    print(key)\n",
    "\n",
    "print(\"The following are values:\")\n",
    "for value in likes.values():\n",
    "    print(value)\n",
    "    \n",
    "if \"fruit\" in likes: #return True if fruit is in the keys of this dictionary\n",
    "    print(\"Favorite fruit is now indicated.\")\n",
    "else:\n",
    "    print(\"Favorite fruit is not yet stated\")"
   ]
  },
  {
   "cell_type": "code",
   "execution_count": null,
   "id": "5f2fea53-5b65-4e73-98bd-e42ebdd20734",
   "metadata": {
    "tags": []
   },
   "outputs": [],
   "source": [
    "likes[\"fruit\"] = \"watermelon\" #update the favorite fruit to another value\n",
    "print(likes)"
   ]
  },
  {
   "cell_type": "code",
   "execution_count": null,
   "id": "c3859e65-eb04-4797-be22-348497dbbb61",
   "metadata": {
    "tags": []
   },
   "outputs": [],
   "source": [
    "fav_subject = likes.get(\"subject\",\"economics\") #returns favorite subject if available in the dictionary, otherwise return the default favourite subject\n",
    "print(fav_subject)\n",
    "\n",
    "likes[\"subject\"] = \"history\" #add a new key-value pair to the dictionary\n",
    "print(likes)\n",
    "\n",
    "fav_subject = likes.get(\"subject\",\"economics\") #run the get method from above again\n",
    "print(fav_subject)\n",
    "\n",
    "del likes[\"color\"] #delete the key-value pair with key 'color'\n",
    "print(likes)"
   ]
  },
  {
   "cell_type": "markdown",
   "id": "61b5ca1e-f4f7-48c4-b0eb-76a6796e7728",
   "metadata": {},
   "source": [
    "### 2.2. Classes"
   ]
  },
  {
   "cell_type": "markdown",
   "id": "bd66261c-fbc7-4561-bcf3-a9df54b38e65",
   "metadata": {},
   "source": [
    "- Setting up class in Python is an effective way to organize the code in a module and reduces unnecessary repetition.\n",
    "- An **instance** of a class refers to the object created with this class. The instance usually contains a number of self-defined attributes and methods.\n",
    "- An **instance attribute** represents a variable attached to an instance of a class, often store values\n",
    "- A **method** represents a function bound to a class, defined similarly as ordinary functions\n",
    "- Both instance attributes and methods are called with **dot notation**, where the instance name is followed by a dot, then the attribute name or method name"
   ]
  },
  {
   "cell_type": "markdown",
   "id": "bd117ccc-751b-45ef-97c8-427a44950409",
   "metadata": {},
   "source": [
    "### Example 1: Student add-drop"
   ]
  },
  {
   "cell_type": "code",
   "execution_count": null,
   "id": "de33168a-f322-49e3-920a-d091bfca2ca6",
   "metadata": {
    "tags": []
   },
   "outputs": [],
   "source": [
    "class Student(object): #This class is called Student\n",
    "    def __init__(self, name, UID, major, email):\n",
    "        \"\"\"define instance attributes from inputs, always executed when an instance is created\"\"\"\n",
    "        self.name = name \n",
    "        self.UID = UID\n",
    "        self.email = email\n",
    "        self.major = major\n",
    "        self.courses_taken = []\n",
    "    \n",
    "    def course_enrol(self, course_code):\n",
    "        \"\"\"a method to enrol a course for the student\"\"\"\n",
    "        self.courses_taken.append(course_code)\n",
    "    \n",
    "    def course_drop(self, course_code):\n",
    "        \"\"\"a method to drop a course for the student\"\"\"\n",
    "        self.courses_taken.remove(course_code)\n",
    "    \n",
    "    def __str__(self):\n",
    "        \"\"\"Returns a string representation of self\"\"\" \n",
    "        return \"Name: \" + self.name + \", UID: \" + str(self.UID) + \", Email address: \" + self.email + \", Major: \" + self.major + \", Enrolled courses: \" + \", \".join(self.courses_taken)\n",
    "                \n",
    "\n",
    "john = Student(\"John Chan\", 20384507, \"Econ Fina\", \"j384507@hku.hk\") #Define an instance object with necessary inputs"
   ]
  },
  {
   "cell_type": "code",
   "execution_count": null,
   "id": "9ee4feee-e89d-4b21-a87b-c8f9a5227d84",
   "metadata": {
    "tags": []
   },
   "outputs": [],
   "source": [
    "john.course_enrol(\"FINA2330\")\n",
    "john.course_enrol(\"FINA2390\")\n",
    "print(john)"
   ]
  },
  {
   "cell_type": "code",
   "execution_count": null,
   "id": "0ee32631-8e14-4060-ab84-47d0c7e99f7d",
   "metadata": {
    "tags": []
   },
   "outputs": [],
   "source": [
    "john.course_drop(\"FINA2330\")\n",
    "print(john)"
   ]
  },
  {
   "cell_type": "code",
   "execution_count": null,
   "id": "e0df02fb-f85e-4657-9543-00d0ec877f9e",
   "metadata": {
    "tags": []
   },
   "outputs": [],
   "source": [
    "tammy = Student(\"Tammy Lui\", 20369028, \"Acct Fina\", \"j369028@hku.hk\")\n",
    "tammy.course_enrol(\"FINA2320\")\n",
    "tammy.course_enrol(\"FINA3326\")\n",
    "tammy.course_enrol(\"FINA2390\")\n",
    "print(tammy)"
   ]
  },
  {
   "cell_type": "markdown",
   "id": "ccd23199-5964-476d-a5bf-b50a6d45f8fe",
   "metadata": {},
   "source": [
    "### Example 2: Rectangle with defensive programming"
   ]
  },
  {
   "cell_type": "code",
   "execution_count": null,
   "id": "cc185a5b-b95d-448d-959f-ccdd3f76a5cc",
   "metadata": {
    "tags": []
   },
   "outputs": [],
   "source": [
    "class Rectangle(object):\n",
    "    \"\"\"Define a custom class that captures properties from a rectangle\"\"\"\n",
    "    def __init__(self, width, height):\n",
    "        \"\"\"Create a rectangle, with width and height restricted to positive numbers\"\"\"\n",
    "        if not (isinstance(width, (int, float)) and width > 0):\n",
    "            raise ValueError(f\"positive width expected, got {width}\")\n",
    "        self.width = width\n",
    "        if not (isinstance(height, (int, float)) and height > 0):\n",
    "            raise ValueError(f\"positive height expected, got {height}\")\n",
    "        self.height = height\n",
    "\n",
    "    def get_area(self):\n",
    "        \"\"\"A method to calculate area of the rectangle\"\"\"\n",
    "        return self.width * self.height\n",
    "    \n",
    "    def __str__(self):\n",
    "        \"\"\"Returns a string representation of self\"\"\"\n",
    "        return \"Width: \" + str(self.width) + \" Height: \" + str(self.height) + \" Area: \" + str(self.get_area())\n",
    "    \n",
    "rectangle1 = Rectangle(-21, 42)"
   ]
  },
  {
   "cell_type": "code",
   "execution_count": null,
   "id": "f65e558f-0526-4ea2-802c-fe514d879025",
   "metadata": {
    "tags": []
   },
   "outputs": [],
   "source": [
    "rectangle2 = Rectangle(5, 42)\n",
    "print(rectangle2.get_area())\n",
    "print(rectangle2)"
   ]
  },
  {
   "cell_type": "markdown",
   "id": "43bfc6ca-dbd1-422b-a4fe-d0439fcaba9c",
   "metadata": {},
   "source": [
    "- The following example shows inheritance in Python, where attributes and methods from the parent are still available for its subclass unless overridden in the subclass"
   ]
  },
  {
   "cell_type": "code",
   "execution_count": null,
   "id": "ae8a2b0a-de84-4a24-b132-068165e84651",
   "metadata": {},
   "outputs": [],
   "source": [
    "class Square (Rectangle):\n",
    "    \"\"\"define a square as a subclass of Rectangle\"\"\"\n",
    "    def __init__(self, width):\n",
    "        Rectangle.__init__(self, width, width)\n",
    "        self.width = width\n",
    "\n",
    "\"\"\"get_area and __str__ methods from Rectangle class are still available without changes\"\"\"\n",
    "square1 = Square(6) \n",
    "print(square1.get_area())\n",
    "print(square1)"
   ]
  }
 ],
 "metadata": {
  "kernelspec": {
   "display_name": "Python 3 (ipykernel)",
   "language": "python",
   "name": "python3"
  },
  "language_info": {
   "codemirror_mode": {
    "name": "ipython",
    "version": 3
   },
   "file_extension": ".py",
   "mimetype": "text/x-python",
   "name": "python",
   "nbconvert_exporter": "python",
   "pygments_lexer": "ipython3",
   "version": "3.11.5"
  }
 },
 "nbformat": 4,
 "nbformat_minor": 5
}
