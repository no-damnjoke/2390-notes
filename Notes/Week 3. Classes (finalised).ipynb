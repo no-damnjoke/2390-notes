{
 "cells": [
  {
   "cell_type": "markdown",
   "id": "d315c331",
   "metadata": {},
   "source": [
    "# Week 3.2 Classes and Object-Oriented Programming (OOP)"
   ]
  },
  {
   "cell_type": "markdown",
   "id": "60bae40d",
   "metadata": {},
   "source": [
    "*“Objects are the core things that Python programs manipulate. Every object has a **type** that defines the kinds of things that programs can do with objects of that type.”*\n",
    "* We have seen some built-in types, e.g., ```list``` and ```dict```, and specific methods applicable to these data types. \n",
    "* In fact, we can define new data types (and the operations associated with them), therefore, new classes. "
   ]
  },
  {
   "cell_type": "markdown",
   "id": "0c4d5f30",
   "metadata": {},
   "source": [
    "## 3.2.1 Abstract Data Types and Classes"
   ]
  },
  {
   "cell_type": "markdown",
   "id": "06452078",
   "metadata": {},
   "source": [
    "* An **abstract data type** is a set of objects and the operations on those objects.\n",
    " 1. data attributes of the object;\n",
    " 2. operations to manipulate that data. "
   ]
  },
  {
   "cell_type": "markdown",
   "id": "bfdda6b4",
   "metadata": {},
   "source": [
    "* Let's use one example to introduce classes (see ```IntSet``` below)\n",
    " * The specifications of those operations in ```IntSet``` define an **interface** between the abstract data type and the rest of the program. \n",
    "   * The interface defines the behavior of the operations — *what they do, but not how they do it*.\n",
    "   * The interface thus provides an ***abstraction barrier*** that isolates the rest of the program from the data structures, algorithms, and code involved in providing a realization of the type abstraction.  <br>\n",
    "<br>\n",
    "* Why using classes (or almost equivalently, object-oriented programming)? \n",
    " * Two aspects of OOP: decomposition and abstraction\n",
    "   * Decomposition creates structure in a program, \n",
    "   * abstraction suppresses detail. \n",
    " * Hence, other users can rely on these new data types without know too many details that are unnecessary. "
   ]
  },
  {
   "cell_type": "markdown",
   "id": "88f40cdd",
   "metadata": {},
   "source": [
    "* In the following codes, we use the Python keyword ```class``` to create a new data type ```IntSet``` (also called the name of the new class). <br>\n",
    "<br>\n",
    "* The docstring (the comment enclosed in \"\"\") at the top of the class definition describes the abstraction provided by the class, not information about how the class is implemented. <br>\n",
    "<br>\n",
    "* In the first line, we can see that the class ```IntSet``` is a subclass of object. \n",
    " * In fact, every class is a subclass of object (more details soon). <br>\n",
    "<br>\n",
    "* When a function definition occurs within a class definition, the defined function is called a **method** associated with the class. Classes support two kinds of operations:\n",
    " * **Instantiation** is used to create instances of the class. For example, the statement ```s = IntSet()``` creates a new object of type IntSet (see the function ```__init__(self)```). This object is called an instance of IntSet. \n",
    " * **Attribute references** use dot notation to access attributes associated with the class. For example, ```s.member``` refers to the method member associated with the instance s of type IntSet (see the function ```member(self, e)```). <br>\n",
    "<br>"
   ]
  },
  {
   "cell_type": "markdown",
   "id": "fd7acf62",
   "metadata": {},
   "source": [
    "### Class ```IntSet```: Creating a set of integers"
   ]
  },
  {
   "cell_type": "code",
   "execution_count": 1,
   "id": "caed4b30",
   "metadata": {},
   "outputs": [],
   "source": [
    "class IntSet(object):\n",
    "    \"\"\"An intSet is a set of integers\"\"\"\n",
    "    # Information about the implementation (not the abstraction)\n",
    "    # The value of the set is represented by a list of ints, self.vals. \n",
    "    # Each int in the set occurs in self.vals exactly once.\n",
    "\n",
    "    def __init__(self):\n",
    "        \"\"\"Create an empty set of integers\"\"\" \n",
    "        self.vals = []\n",
    "        \n",
    "    def insert(self, e): \n",
    "        \"\"\"Assumes e is an integer and inserts e into self\"\"\"\n",
    "        if not e in self.vals:\n",
    "            self.vals.append(e)\n",
    "\n",
    "    def member(self, e): \n",
    "        \"\"\"Assumes e is an integer\n",
    "           Returns True if e is in return e in self.vals\"\"\"\n",
    "        return e in self.vals\n",
    "    \n",
    "    def remove(self, e):\n",
    "        \"\"\"Assumes e is an integer and removes e from self\n",
    "           Raises ValueError if e is not in self\"\"\"\n",
    "        try: \n",
    "            self.vals.remove(e)\n",
    "        except:\n",
    "            raise ValueError(str(e) + ' not found')\n",
    "        \n",
    "    def getMembers(self):\n",
    "        \"\"\"Returns a list containing the elements of self.\n",
    "           Nothing can be assumed about the order of the elements\"\"\" \n",
    "        return self.vals[:]\n",
    "\n",
    "    def __str__(self):\n",
    "        \"\"\"Returns a string representation of self\"\"\" \n",
    "        self.vals.sort()\n",
    "        result = ''\n",
    "        for e in self.vals:\n",
    "            result = result + str(e) + ','\n",
    "        return '{' + result[:-1] + '}' #-1 omits trailing comma\n"
   ]
  },
  {
   "cell_type": "markdown",
   "id": "dc1de03c",
   "metadata": {},
   "source": [
    "* Python has a number of special method names that start and end with **two underscores**.\n",
    " * ```__init__```. Whenever a class is instantiated, a call is made to the ```__init__``` method defined in that class. \n",
    " * When the line of code ```s = IntSet()``` is executed, the interpreter will create a new instance of type ```IntSet```, and then call ```IntSet.__init__``` with the newly created object as the actual parameter that is bound to the formal parameter ```self```.\n",
    " * ```IntSet.__init__``` creates vals (```self.vals```), an object of type list, ```{}```, called a **data attribute** of the instance of ```IntSet```. "
   ]
  },
  {
   "cell_type": "code",
   "execution_count": 2,
   "id": "10b1e51b",
   "metadata": {},
   "outputs": [
    {
     "name": "stdout",
     "output_type": "stream",
     "text": [
      "{}\n",
      "<class '__main__.IntSet'>\n"
     ]
    }
   ],
   "source": [
    "s = IntSet()\n",
    "print(s)\n",
    "print(type(s))"
   ]
  },
  {
   "cell_type": "markdown",
   "id": "cfcbc423",
   "metadata": {},
   "source": [
    "* **Method attributes** are defined in a class definition, for example ```IntSet.member``` is an attribute of the class ```IntSet```.\n",
    " * At first blush, there appears to be something inconsistent here. It looks as if each method is being called with one argument too few. For example, ```member``` has two formal parameters, but we appear to be calling it with only one actual parameter.\n",
    " * This is an artifact of the **dot notation**. The object associated with the expression preceding the dot is implicitly passed as the first parameter to the method. \n",
    "   * We follow the convention of using ```self``` as the name of the formal parameter to which this actual parameter is bound."
   ]
  },
  {
   "cell_type": "code",
   "execution_count": 3,
   "id": "75e8518e",
   "metadata": {},
   "outputs": [
    {
     "name": "stdout",
     "output_type": "stream",
     "text": [
      "True\n"
     ]
    }
   ],
   "source": [
    "s.insert(3)\n",
    "print(s.member(3))"
   ]
  },
  {
   "cell_type": "markdown",
   "id": "549919a0",
   "metadata": {},
   "source": [
    "* The last method defined in the class, ```__str__```, is another one of those special __ methods. \n",
    " * When the print command isused, the ```__str__``` function associated with the object to be printed is automatically invoked.\n",
    " * If no ```__str__``` method were defined, print s would cause something like ```<__main__.IntSet object at 0x1663510>``` to be printed.\n",
    " * We could also print the value of s by writing ```print(s.__str__())``` or even ```print(IntSet.__str__(s))```."
   ]
  },
  {
   "cell_type": "code",
   "execution_count": 4,
   "id": "d27c8aad",
   "metadata": {},
   "outputs": [
    {
     "name": "stdout",
     "output_type": "stream",
     "text": [
      "{3,4}\n"
     ]
    }
   ],
   "source": [
    "s = IntSet() \n",
    "s.insert(3) \n",
    "s.insert(4) \n",
    "print(s)"
   ]
  },
  {
   "cell_type": "code",
   "execution_count": 5,
   "id": "651ca2d2",
   "metadata": {},
   "outputs": [
    {
     "name": "stdout",
     "output_type": "stream",
     "text": [
      "{3,4}\n"
     ]
    }
   ],
   "source": [
    "print(s.__str__())"
   ]
  },
  {
   "cell_type": "code",
   "execution_count": 6,
   "id": "3710721f",
   "metadata": {},
   "outputs": [
    {
     "name": "stdout",
     "output_type": "stream",
     "text": [
      "{3,4}\n"
     ]
    }
   ],
   "source": [
    "print(IntSet.__str__(s))"
   ]
  },
  {
   "cell_type": "markdown",
   "id": "cab59423",
   "metadata": {},
   "source": [
    "---"
   ]
  },
  {
   "cell_type": "markdown",
   "id": "d7dd57ea",
   "metadata": {},
   "source": [
    "## 3.2.2 An Extended Example, Mortgages"
   ]
  },
  {
   "cell_type": "markdown",
   "id": "76bd1021",
   "metadata": {},
   "source": [
    "### Background\n",
    "\n",
    "A collapse in U.S. housing prices helped trigger a severe economic meltdown in the fall of 2008. One of the contributing factors was that many homeowners had taken on mortgages that ended up having unexpected consequences.\n",
    "\n",
    "In the beginning, mortgages were relatively simple beasts. One borrowed money from a bank and made a ***fixed-size payment each month*** for the life of the mortgage, which typically ranged from fifteen to thirty years. At the end of that period, the bank had been paid back the initial loan (the principal) plus interest, and the homeowner owned the house “free and clear.”\n",
    "\n",
    "Towards the end of the twentieth century, mortgages started getting a lot more complicated. People could get lower interest rates by paying ***“points”*** at the time they took on the mortgage. \n",
    " * A point is a cash payment of 1% of the value of the loan. \n",
    " * People could take mortgages that were “interest-only” for a period of time. That is to say, for some number of months at the start of the loan the borrower paid only the accrued interest and none of the principal. \n",
    "\n",
    "Other loans involved ***multiple rates***. Typically the initial rate (called a **“teaser rate”**) was low, and then it went up over time. Many of these loans were variable-rate—the rate to be paid after the initial period would vary depending upon some index intended to reflect the cost to the lender of borrowing on the wholesale credit market."
   ]
  },
  {
   "cell_type": "markdown",
   "id": "0abf46f5",
   "metadata": {},
   "source": [
    "* Let’s build a program that examines the costs of three kinds of loans:\n",
    " * A fixed-rate mortgage with no points,\n",
    " * A fixed-rate mortgage with points, and\n",
    " * A mortgage with an initial teaser rate followed by a higher rate for the duration."
   ]
  },
  {
   "cell_type": "markdown",
   "id": "d2a598a2",
   "metadata": {},
   "source": [
    "* Let's consider the benchmark case, in which you make a fixed monthly payment such that \n",
    " * The present value of all monthly payments, discounted at the monthly rate $r$, equals the loan value. <br>\n",
    " <br>\n",
    " $$\n",
    " \\text{loan} = \\text{monthly payment} \\times \\frac{1}{r} \\times \\big[ 1 - \\frac{1}{(1+r)^m} \\big]\n",
    " $$"
   ]
  },
  {
   "cell_type": "markdown",
   "id": "a1286545",
   "metadata": {},
   "source": [
    "$$\n",
    "\\implies \\text{monthly payment} = \\frac{r \\times \\text{loan}}{\\big[ 1 - \\frac{1}{(1+r)^m} \\big]}. \n",
    "$$"
   ]
  },
  {
   "cell_type": "code",
   "execution_count": 7,
   "id": "9e84e091",
   "metadata": {},
   "outputs": [],
   "source": [
    "def findPayment(loan, r, m):\n",
    "    \"\"\"Assumes: loan and r are floats, m an int\n",
    "       Returns the monthly payment for a mortgage of size loan at a monthly rate of r for m months\"\"\"\n",
    "    return loan*((r*(1+r)**m)/((1+r)**m - 1))\n"
   ]
  },
  {
   "cell_type": "markdown",
   "id": "f0dc85e5",
   "metadata": {},
   "source": [
    "### Mortgage base class"
   ]
  },
  {
   "cell_type": "markdown",
   "id": "5fa4139e",
   "metadata": {},
   "source": [
    "* Looking at ```__init__```, all ```Mortgage``` instances will have instance variables corresponding to \n",
    " * the initial loan amount, ```self.loan```,\n",
    " * the monthly interest rate, ```self.rate```, \n",
    " * the duration of the loan in months, ```self.months```, \n",
    " * a list of payments that have been made at the start of each month (the list starts with 0.0)), ```self.paid```, \n",
    " * a list with the balance of the loan outstanding at the start of each month, ```self.owed```, \n",
    " * the amount of money to be paid each month (initialized using the value returned by the function findPayment),  ```self.payment```,\n",
    " * a description of the mortgage (which initially has a value of None), ```self.legend```."
   ]
  },
  {
   "cell_type": "markdown",
   "id": "bc81a262",
   "metadata": {},
   "source": [
    "* The method ```makePayment``` is used to record mortgage payments.\n",
    " * ```self.payment``` is the monthly payment. First, you need to pay the interest, equal to ```self.owed[-1]*self.rate```. Second, you pay the principal amount, so the reduction in the principal amount is ```reduction = self.payment - self.owed[-1]*self.rate```. "
   ]
  },
  {
   "cell_type": "code",
   "execution_count": 8,
   "id": "9d7e1725",
   "metadata": {},
   "outputs": [],
   "source": [
    "class Mortgage(object):\n",
    "    \"\"\"Abstract class for building different kinds of mortgages\"\"\"\n",
    "    \n",
    "    def __init__(self, loan, annRate, months):\n",
    "        \"\"\"Create a new mortgage\"\"\"\n",
    "        self.loan = loan\n",
    "        self.rate = annRate/12.0\n",
    "        self.months = months\n",
    "        self.paid = [0.0]\n",
    "        self.owed = [loan]\n",
    "        self.payment = findPayment(loan, self.rate, months)\n",
    "        self.legend = None #description of mortgage\n",
    "        \n",
    "    def makePayment(self):\n",
    "        \"\"\"Make a payment\"\"\"\n",
    "        self.paid.append(self.payment)\n",
    "        reduction = self.payment - self.owed[-1]*self.rate\n",
    "        self.owed.append(self.owed[-1] - reduction)\n",
    "        \n",
    "    def getTotalPaid(self):\n",
    "        \"\"\"Return the total amount paid so far\"\"\"\n",
    "        return sum(self.paid)\n",
    "\n",
    "    def __str__(self):\n",
    "        return self.legend\n",
    "   "
   ]
  },
  {
   "cell_type": "markdown",
   "id": "1fdaa80f",
   "metadata": {},
   "source": [
    "### Inheritance"
   ]
  },
  {
   "cell_type": "markdown",
   "id": "4219afeb",
   "metadata": {},
   "source": [
    "* Inheritance allows us to create a type hierarchy, in which each type inherits attributes from the types above it in the hierarchy. <br>\n",
    "<br>\n",
    "* The class object is at the top of the hierarchy.\n",
    " * In Python, everything that exists at runtime is an object.\n",
    " * In the following codes, we create three **subclasses** of ```Mortgage```.\n",
    "   * ```Fixed```, ```FixedWithPts```, and ```TwoRate``` inherit the attributes of its **superclass**, ```Mortgage```. \n",
    " * In addition to what it inherits, the subclass can:\n",
    "   * Add new attributes. For example, we add ```makePayment``` in the subclass ```TwoRate```. \n",
    "   * **Override** attributes of the superclass. For example, all subclasses have overridden ```__init__```. "
   ]
  },
  {
   "cell_type": "markdown",
   "id": "cac13ad2",
   "metadata": {},
   "source": [
    "### Fixed-rate mortgage classes"
   ]
  },
  {
   "cell_type": "markdown",
   "id": "affd1e1a",
   "metadata": {},
   "source": [
    "* ```Mortgage.__init__(self, loan, r, months)``` initialize the inherited instance\n",
    "* Next, we **override** the data attributes of the subclass, e.g., ```self.legend = 'Fixed, ' + str(r*100) + '%'```. "
   ]
  },
  {
   "cell_type": "code",
   "execution_count": 13,
   "id": "12ef4bce",
   "metadata": {},
   "outputs": [],
   "source": [
    "class Fixed(Mortgage):\n",
    "    def __init__(self, loan, r, months):\n",
    "        Mortgage.__init__(self, loan, r, months)\n",
    "        self.legend = 'Fixed, ' + str(r*100) + '%'\n",
    "\n",
    "\n",
    "class FixedWithPts(Mortgage):\n",
    "    def __init__(self, loan, r, months, pts):\n",
    "        Mortgage.__init__(self, loan, r, months)\n",
    "        self.pts = pts\n",
    "        self.paid = [loan*(pts/100.0)]\n",
    "        self.legend = 'Fixed, ' + str(r*100) + '%, ' + str(pts) + ' points'\n",
    "        "
   ]
  },
  {
   "cell_type": "markdown",
   "id": "c558bef8",
   "metadata": {},
   "source": [
    "### Mortgage with teaser rate"
   ]
  },
  {
   "cell_type": "code",
   "execution_count": 10,
   "id": "4baa3beb",
   "metadata": {},
   "outputs": [],
   "source": [
    "class TwoRate(Mortgage):\n",
    "    def __init__(self, loan, r, months, teaserRate, teaserMonths):\n",
    "        Mortgage.__init__(self, loan, teaserRate, months)   # we use teaserRate to initialize the instance\n",
    "                                                            # so agents pay teaserRate at the beginning!\n",
    "        self.teaserMonths = teaserMonths\n",
    "        self.teaserRate = teaserRate\n",
    "        self.nextRate = r/12.0\n",
    "        self.legend = str(teaserRate*100) + '% for ' + str(self.teaserMonths) + ' months, then ' + str(r*100) + '%'\n",
    "\n",
    "    def makePayment(self):\n",
    "        if len(self.paid) == self.teaserMonths + 1:\n",
    "            self.rate = self.nextRate\n",
    "            self.payment = findPayment(self.owed[-1], self.rate, self.months - self.teaserMonths)\n",
    "        Mortgage.makePayment(self)\n",
    "        "
   ]
  },
  {
   "cell_type": "markdown",
   "id": "9f8295d2",
   "metadata": {},
   "source": [
    "### The Substitution Principle\n",
    "\n",
    "Sometimes, the subclass overrides methods from the superclass, but this must be done with care. In particular, important behaviors of the supertype must be supported by each of its subtypes. If client code works correctly using an instance of the supertype, it should also work correctly when an instance of the subtype is substituted for the instance of the supertype.\n",
    "\n",
    "For example, if the client code works for the specification of ```Mortgage```, then it should also work for all three subclasses. "
   ]
  },
  {
   "cell_type": "markdown",
   "id": "a682a4c1",
   "metadata": {},
   "source": [
    "### Let's compare these three types of mortgages"
   ]
  },
  {
   "cell_type": "code",
   "execution_count": 11,
   "id": "1c0d82bf",
   "metadata": {},
   "outputs": [],
   "source": [
    "def compareMortgages(amt, years, fixedRate, pts, ptsRate, varRate1, varRate2, varMonths):\n",
    "    totMonths = years*12\n",
    "    fixed1 = Fixed(amt, fixedRate, totMonths)\n",
    "    fixed2 = FixedWithPts(amt, ptsRate, totMonths, pts)\n",
    "    twoRate = TwoRate(amt, varRate2, totMonths, varRate1, varMonths)\n",
    "    morts = [fixed1, fixed2, twoRate]\n",
    "    for m in range(totMonths):\n",
    "        for mort in morts:\n",
    "            mort.makePayment()\n",
    "    for m in morts:\n",
    "        print(m)\n",
    "        print('Total payments = $' + str(int(m.getTotalPaid())))"
   ]
  },
  {
   "cell_type": "code",
   "execution_count": 14,
   "id": "1adf280c",
   "metadata": {},
   "outputs": [
    {
     "name": "stdout",
     "output_type": "stream",
     "text": [
      "Fixed, 7.000000000000001%\n",
      "Total payments = $479017\n",
      "Fixed, 5.0%, 3.25 points\n",
      "Total payments = $393011\n",
      "4.5% for 48 months, then 9.5%\n",
      "Total payments = $551444\n"
     ]
    }
   ],
   "source": [
    "compareMortgages(amt=200000, years=30, fixedRate=0.07, pts = 3.25, ptsRate=0.05, varRate1=0.045, \n",
    "                 varRate2=0.095, varMonths=48)"
   ]
  },
  {
   "cell_type": "markdown",
   "id": "fb54bc4e",
   "metadata": {},
   "source": [
    "---"
   ]
  },
  {
   "cell_type": "markdown",
   "id": "5e0584a5",
   "metadata": {},
   "source": [
    "# END"
   ]
  }
 ],
 "metadata": {
  "kernelspec": {
   "display_name": "Python 3 (ipykernel)",
   "language": "python",
   "name": "python3"
  },
  "language_info": {
   "codemirror_mode": {
    "name": "ipython",
    "version": 3
   },
   "file_extension": ".py",
   "mimetype": "text/x-python",
   "name": "python",
   "nbconvert_exporter": "python",
   "pygments_lexer": "ipython3",
   "version": "3.9.17"
  }
 },
 "nbformat": 4,
 "nbformat_minor": 5
}
