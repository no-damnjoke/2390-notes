{
 "cells": [
  {
   "cell_type": "markdown",
   "id": "5315ef3d-c499-4a07-b7c2-9d4c4b7f707b",
   "metadata": {},
   "source": [
    "# Tutorial 9: Data Analysis in-class practices\n",
    "### 9.1 Datetime objects in Pandas\n",
    "- We may convert a Series of date strings into ```Datetime``` object by using ```pd.to_datetime``` function.\n"
   ]
  },
  {
   "cell_type": "code",
   "execution_count": 2,
   "id": "4da93b5b-eab0-4410-a06c-54001bfc64fd",
   "metadata": {
    "tags": []
   },
   "outputs": [
    {
     "name": "stdout",
     "output_type": "stream",
     "text": [
      "0   2020-11-08\n",
      "1   2020-11-15\n",
      "2   2020-11-22\n",
      "3   2020-11-29\n",
      "4   2020-12-06\n",
      "dtype: datetime64[ns]\n"
     ]
    }
   ],
   "source": [
    "import pandas as pd\n",
    "date_str = pd.Series([\"2020-11-08\",\"2020-11-15\",\"2020-11-22\",\"2020-11-29\",\"2020-12-06\"])\n",
    "date1 = pd.to_datetime(date_str, format=\"%Y-%m-%d\") #convert string into datetime object\n",
    "print(date1)"
   ]
  },
  {
   "cell_type": "markdown",
   "id": "a7af0a72-54bb-4f27-a727-27777997567b",
   "metadata": {},
   "source": [
    "- Series of Datetime objects can be converted to date strings using ```Series.dt.strftime``` method. The argument consists of a string of format codes. \\\n",
    "Selected Format codes are listed as follows:\n",
    "  * ```%Y```: year in 4 digits\n",
    "  * ```%m```: month in 2 digits\n",
    "  * ```%b```: abbreviated month name\n",
    "  * ```%d```: day in 2 digits\n",
    "  * ```%a```: abbreviated weekday name\n",
    "  * ```%A```: full weekday name\n",
    "  * ```%H```: hour in a day (24-hours system)\n",
    "  * ```%M```: minute in an hour\n",
    "  * ```%S```: second in a minute"
   ]
  },
  {
   "cell_type": "code",
   "execution_count": 3,
   "id": "3ac7082a-6ac6-4aa7-9f76-02a3d64ee8b3",
   "metadata": {
    "tags": []
   },
   "outputs": [
    {
     "name": "stdout",
     "output_type": "stream",
     "text": [
      "0    Sun 08 Nov 2020\n",
      "1    Sun 15 Nov 2020\n",
      "2    Sun 22 Nov 2020\n",
      "3    Sun 29 Nov 2020\n",
      "4    Sun 06 Dec 2020\n",
      "dtype: object\n"
     ]
    }
   ],
   "source": [
    "date_str2 = date1.dt.strftime(\"%a %d %b %Y\")\n",
    "print(date_str2)"
   ]
  },
  {
   "cell_type": "code",
   "execution_count": 4,
   "id": "df5779a0-d1e3-452b-b6ed-f57c1b96cf0a",
   "metadata": {},
   "outputs": [
    {
     "name": "stdout",
     "output_type": "stream",
     "text": [
      "0    08/11/2020 00:00\n",
      "1    15/11/2020 00:00\n",
      "2    22/11/2020 00:00\n",
      "3    29/11/2020 00:00\n",
      "4    06/12/2020 00:00\n",
      "dtype: object\n"
     ]
    }
   ],
   "source": [
    "date_str3 = date1.dt.strftime(\"%d/%m/%Y %H:%M\")\n",
    "print(date_str3)"
   ]
  },
  {
   "cell_type": "markdown",
   "id": "8d408691-f4f8-4b8d-9e5b-848265dd544b",
   "metadata": {
    "tags": []
   },
   "source": [
    "### 9.2 Practice questions on Data Analysis\n",
    "Q1: Please download ```stock_px_2.csv``` and ```risk_premium.csv``` files from Moodle and load them into Pandas Dataframes with name ```stock``` and ```risk_premium``` respectively. The first column with dates should be set as DatetimeIndex. "
   ]
  },
  {
   "cell_type": "code",
   "execution_count": 5,
   "id": "bfc9b9ed-784d-4dbf-97f3-cad3c1413261",
   "metadata": {},
   "outputs": [
    {
     "name": "stdout",
     "output_type": "stream",
     "text": [
      "            AAPL   MSFT    XOM     SPX\n",
      "2003-01-02  7.40  21.11  29.22  909.03\n",
      "2003-01-03  7.45  21.14  29.24  908.59\n",
      "2003-01-06  7.45  21.52  29.96  929.01\n",
      "2003-01-07  7.43  21.93  28.95  922.93\n",
      "2003-01-08  7.28  21.31  28.83  909.93\n",
      "            MKT-RF     RF\n",
      "2003-01-02    3.14  0.005\n",
      "2003-01-03   -0.11  0.005\n",
      "2003-01-06    2.13  0.005\n",
      "2003-01-07   -0.63  0.005\n",
      "2003-01-08   -1.34  0.005\n"
     ]
    }
   ],
   "source": [
    "stock = pd.read_csv(\"stock_px_2.csv\",index_col=0, parse_dates=True)\n",
    "risk_premium = pd.read_csv(\"risk_premium.csv\",index_col=0, parse_dates=True)\n",
    "print(stock.head())\n",
    "print(risk_premium.head())"
   ]
  },
  {
   "cell_type": "markdown",
   "id": "10430a04-9354-40a2-be25-4210b6435cce",
   "metadata": {},
   "source": [
    "Q2: Merge the columns of ```AAPL```, ```MSFT``` and ```XOM``` from ```stock``` DataFrame with all columns from ```risk_premium``` DataFrame into ```Data2``` DataFrame. \\\n",
    "```AAPL```, ```MSFT``` and ```XOM``` columns represent daily data of stock prices, ```MKT-RF``` column represents the daily data of market risk premium in percentage points and ```RF``` column represents daily risk-free return in percentage points."
   ]
  },
  {
   "cell_type": "code",
   "execution_count": 6,
   "id": "64880a3e-9c64-40bb-9871-15e31e137c75",
   "metadata": {},
   "outputs": [
    {
     "name": "stdout",
     "output_type": "stream",
     "text": [
      "            AAPL   MSFT    XOM  MKT-RF     RF\n",
      "2003-01-02  7.40  21.11  29.22    3.14  0.005\n",
      "2003-01-03  7.45  21.14  29.24   -0.11  0.005\n",
      "2003-01-06  7.45  21.52  29.96    2.13  0.005\n",
      "2003-01-07  7.43  21.93  28.95   -0.63  0.005\n",
      "2003-01-08  7.28  21.31  28.83   -1.34  0.005\n"
     ]
    }
   ],
   "source": [
    "Data2 = pd.merge(left = stock[[\"AAPL\", \"MSFT\", \"XOM\"]], right = risk_premium, left_index=True, right_index=True)\n",
    "print(Data2.head())"
   ]
  },
  {
   "cell_type": "markdown",
   "id": "73dd9b8a-3e86-4269-9c29-9dab59190ccb",
   "metadata": {},
   "source": [
    "Q3: Write a function to compute CAPM alpha and CAPM market beta for the specifed stock using ordinary linear regression (OLS). \\\n",
    "The function should include the following arguments:\n",
    " 1. ```data```: Input DataFrame\n",
    " 2. ```yvar```: Column name from the input DataFrame, representing the stock price of the specified stock for evaluating CAPM parameters\n",
    " 3. ```xvar```: Column name from the input DataFrame, representing the market risk premium.\n",
    " \n",
    "The output should be a Pandas Series with CAPM alpha and CAPM market beta estimates of the specified stock. \\\n",
    "Hint: Regress daily stock return against market risk premium to obtain CAPM parameters."
   ]
  },
  {
   "cell_type": "code",
   "execution_count": 9,
   "id": "c19ac422-8d73-48ac-8e8b-709292a0461c",
   "metadata": {},
   "outputs": [],
   "source": [
    "import statsmodels.api as sm\n",
    "def regress(data, yvar, xvar):\n",
    "    #calculate arithmetic return of the stock in yvar\n",
    "    daily_return = data[yvar].pct_change()\n",
    "    mkt_risk_premium = data[xvar]/100\n",
    "    mkt_risk_premium = sm.add_constant(mkt_risk_premium)\n",
    "    \n",
    "    daily_return_minus_rf = daily_return - data[\"RF\"]/100\n",
    "    #remove observations with nan when running OLS regression\n",
    "    model = sm.OLS(daily_return_minus_rf, mkt_risk_premium, missing=\"drop\")\n",
    "    results = model.fit()\n",
    "    output = results.params\n",
    "    return output"
   ]
  },
  {
   "cell_type": "markdown",
   "id": "836b26dd-e8e8-4b9e-a2c7-9e58c7cc0fd8",
   "metadata": {},
   "source": [
    "Q4: Use the function in Q3 to evaluate CAPM alpha and CAPM market beta for Apple (```AAPL```), Microsoft (```MSFT```) and ExxonMobil (```XOM```). Output should be presented as a single DataFrame."
   ]
  },
  {
   "cell_type": "code",
   "execution_count": 11,
   "id": "4bd2d1e2-834c-4605-b6a6-ddebf71a03a7",
   "metadata": {},
   "outputs": [
    {
     "name": "stdout",
     "output_type": "stream",
     "text": [
      "      CAPM_alpha  CAPM_beta\n",
      "AAPL    0.001781   1.036262\n",
      "MSFT   -0.000047   0.933148\n",
      "XOM     0.000264   0.933813\n"
     ]
    }
   ],
   "source": [
    "CAPM_output = [regress(Data2, ticker, \"MKT-RF\") for ticker in [\"AAPL\", \"MSFT\", \"XOM\"]]\n",
    "CAPM_df = pd.DataFrame(CAPM_output, index=[\"AAPL\", \"MSFT\", \"XOM\"])\n",
    "CAPM_df.rename(columns={'const':'CAPM_alpha', 'MKT-RF':'CAPM_beta'}, inplace=True)\n",
    "print(CAPM_df)"
   ]
  },
  {
   "cell_type": "code",
   "execution_count": 15,
   "id": "3c613aff-cd66-426c-8968-fa5a2cf39d58",
   "metadata": {},
   "outputs": [
    {
     "name": "stdout",
     "output_type": "stream",
     "text": [
      "                            OLS Regression Results                            \n",
      "==============================================================================\n",
      "Dep. Variable:                      y   R-squared:                       0.323\n",
      "Model:                            OLS   Adj. R-squared:                  0.323\n",
      "Method:                 Least Squares   F-statistic:                     1056.\n",
      "Date:                Wed, 29 Nov 2023   Prob (F-statistic):          9.55e-190\n",
      "Time:                        14:29:27   Log-Likelihood:                 5502.0\n",
      "No. Observations:                2213   AIC:                        -1.100e+04\n",
      "Df Residuals:                    2211   BIC:                        -1.099e+04\n",
      "Df Model:                           1                                         \n",
      "Covariance Type:            nonrobust                                         \n",
      "==============================================================================\n",
      "                 coef    std err          t      P>|t|      [0.025      0.975]\n",
      "------------------------------------------------------------------------------\n",
      "const          0.0018      0.000      4.158      0.000       0.001       0.003\n",
      "MKT-RF         1.0363      0.032     32.501      0.000       0.974       1.099\n",
      "==============================================================================\n",
      "Omnibus:                      454.132   Durbin-Watson:                   1.932\n",
      "Prob(Omnibus):                  0.000   Jarque-Bera (JB):             3436.241\n",
      "Skew:                           0.758   Prob(JB):                         0.00\n",
      "Kurtosis:                       8.914   Cond. No.                         74.4\n",
      "==============================================================================\n",
      "\n",
      "Notes:\n",
      "[1] Standard Errors assume that the covariance matrix of the errors is correctly specified.\n",
      "The R-squared value in this regression is 0.32329646214177665.\n"
     ]
    }
   ],
   "source": [
    "daily_return = Data2[\"AAPL\"].pct_change()\n",
    "mkt_risk_premium = Data2[\"MKT-RF\"]/100\n",
    "mkt_risk_premium = sm.add_constant(mkt_risk_premium)\n",
    "\n",
    "daily_return_minus_rf = daily_return - Data2[\"RF\"]/100\n",
    "#remove observations with nan when running OLS regression\n",
    "model = sm.OLS(daily_return_minus_rf, mkt_risk_premium, missing=\"drop\")\n",
    "results = model.fit()\n",
    "print(results.summary())\n",
    "print(f\"The R-squared value in this regression is {results.rsquared}.\")"
   ]
  },
  {
   "cell_type": "markdown",
   "id": "6f119eab-35dd-460a-8e7e-325cde554562",
   "metadata": {},
   "source": [
    "The following lines of code generate the regression table of CAPM regression for each stock:"
   ]
  },
  {
   "cell_type": "code",
   "execution_count": 16,
   "id": "94789194-4fb9-4291-b982-74de22e56af6",
   "metadata": {},
   "outputs": [
    {
     "name": "stdout",
     "output_type": "stream",
     "text": [
      "                            OLS Regression Results                            \n",
      "==============================================================================\n",
      "Dep. Variable:                      y   R-squared:                       0.501\n",
      "Model:                            OLS   Adj. R-squared:                  0.500\n",
      "Method:                 Least Squares   F-statistic:                     2215.\n",
      "Date:                Wed, 29 Nov 2023   Prob (F-statistic):               0.00\n",
      "Time:                        14:29:47   Log-Likelihood:                 6553.5\n",
      "No. Observations:                2213   AIC:                        -1.310e+04\n",
      "Df Residuals:                    2211   BIC:                        -1.309e+04\n",
      "Df Model:                           1                                         \n",
      "Covariance Type:            nonrobust                                         \n",
      "==============================================================================\n",
      "                 coef    std err          t      P>|t|      [0.025      0.975]\n",
      "------------------------------------------------------------------------------\n",
      "const      -4.701e-05      0.000     -0.177      0.860      -0.001       0.000\n",
      "MKT-RF         0.9331      0.020     47.069      0.000       0.894       0.972\n",
      "==============================================================================\n",
      "Omnibus:                      480.732   Durbin-Watson:                   1.991\n",
      "Prob(Omnibus):                  0.000   Jarque-Bera (JB):            13364.521\n",
      "Skew:                          -0.348   Prob(JB):                         0.00\n",
      "Kurtosis:                      15.019   Cond. No.                         74.4\n",
      "==============================================================================\n",
      "\n",
      "Notes:\n",
      "[1] Standard Errors assume that the covariance matrix of the errors is correctly specified.\n",
      "The R-squared value in this regression is 0.5005079089578208.\n"
     ]
    }
   ],
   "source": [
    "daily_return = Data2[\"MSFT\"].pct_change()\n",
    "mkt_risk_premium = Data2[\"MKT-RF\"]/100\n",
    "mkt_risk_premium = sm.add_constant(mkt_risk_premium)\n",
    "\n",
    "daily_return_minus_rf = daily_return - Data2[\"RF\"]/100\n",
    "#remove observations with nan when running OLS regression\n",
    "model = sm.OLS(daily_return_minus_rf, mkt_risk_premium, missing=\"drop\")\n",
    "results = model.fit()\n",
    "print(results.summary())\n",
    "print(f\"The R-squared value in this regression is {results.rsquared}.\")"
   ]
  },
  {
   "cell_type": "code",
   "execution_count": 17,
   "id": "8aec75ba-5b53-4ff5-93e8-0a1abaa7c814",
   "metadata": {},
   "outputs": [
    {
     "name": "stdout",
     "output_type": "stream",
     "text": [
      "                            OLS Regression Results                            \n",
      "==============================================================================\n",
      "Dep. Variable:                      y   R-squared:                       0.564\n",
      "Model:                            OLS   Adj. R-squared:                  0.563\n",
      "Method:                 Least Squares   F-statistic:                     2855.\n",
      "Date:                Wed, 29 Nov 2023   Prob (F-statistic):               0.00\n",
      "Time:                        14:30:13   Log-Likelihood:                 6832.5\n",
      "No. Observations:                2213   AIC:                        -1.366e+04\n",
      "Df Residuals:                    2211   BIC:                        -1.365e+04\n",
      "Df Model:                           1                                         \n",
      "Covariance Type:            nonrobust                                         \n",
      "==============================================================================\n",
      "                 coef    std err          t      P>|t|      [0.025      0.975]\n",
      "------------------------------------------------------------------------------\n",
      "const          0.0003      0.000      1.126      0.260      -0.000       0.001\n",
      "MKT-RF         0.9338      0.017     53.432      0.000       0.900       0.968\n",
      "==============================================================================\n",
      "Omnibus:                      283.008   Durbin-Watson:                   2.012\n",
      "Prob(Omnibus):                  0.000   Jarque-Bera (JB):             2966.230\n",
      "Skew:                           0.150   Prob(JB):                         0.00\n",
      "Kurtosis:                       8.664   Cond. No.                         74.4\n",
      "==============================================================================\n",
      "\n",
      "Notes:\n",
      "[1] Standard Errors assume that the covariance matrix of the errors is correctly specified.\n",
      "The R-squared value in this regression is 0.563556250145264.\n"
     ]
    }
   ],
   "source": [
    "daily_return = Data2[\"XOM\"].pct_change()\n",
    "mkt_risk_premium = Data2[\"MKT-RF\"]/100\n",
    "mkt_risk_premium = sm.add_constant(mkt_risk_premium)\n",
    "\n",
    "daily_return_minus_rf = daily_return - Data2[\"RF\"]/100\n",
    "#remove observations with nan when running OLS regression\n",
    "model = sm.OLS(daily_return_minus_rf, mkt_risk_premium, missing=\"drop\")\n",
    "results = model.fit()\n",
    "print(results.summary())\n",
    "print(f\"The R-squared value in this regression is {results.rsquared}.\")"
   ]
  },
  {
   "cell_type": "code",
   "execution_count": null,
   "id": "dc160847",
   "metadata": {},
   "outputs": [],
   "source": []
  },
  {
   "cell_type": "code",
   "execution_count": null,
   "id": "35312004",
   "metadata": {},
   "outputs": [],
   "source": []
  },
  {
   "cell_type": "code",
   "execution_count": null,
   "id": "dae74ffc",
   "metadata": {},
   "outputs": [],
   "source": []
  }
 ],
 "metadata": {
  "kernelspec": {
   "display_name": "Python 3 (ipykernel)",
   "language": "python",
   "name": "python3"
  },
  "language_info": {
   "codemirror_mode": {
    "name": "ipython",
    "version": 3
   },
   "file_extension": ".py",
   "mimetype": "text/x-python",
   "name": "python",
   "nbconvert_exporter": "python",
   "pygments_lexer": "ipython3",
   "version": "3.11.5"
  }
 },
 "nbformat": 4,
 "nbformat_minor": 5
}
