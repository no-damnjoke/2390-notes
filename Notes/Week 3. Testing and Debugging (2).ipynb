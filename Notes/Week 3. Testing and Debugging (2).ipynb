{
 "cells": [
  {
   "cell_type": "markdown",
   "id": "3a204044",
   "metadata": {},
   "source": [
    "# Week 3.1 Testing, Debugging, and Defensive Programming"
   ]
  },
  {
   "cell_type": "markdown",
   "id": "3513f8d5",
   "metadata": {},
   "source": [
    "* **Today's Outline**:\n",
    " * Testing and Debugging\n",
    " * Defensive Programming, including Exceptions and Assertions\n",
    " * Classes and Object-Oriented Programming (OOP)"
   ]
  },
  {
   "cell_type": "markdown",
   "id": "19fef510",
   "metadata": {},
   "source": [
    "---"
   ]
  },
  {
   "cell_type": "markdown",
   "id": "37f94a7b",
   "metadata": {},
   "source": [
    "* In most of the time, our program doesn't work at the first time. <br>\n",
    "<br>\n",
    "* Testing and debugging is essential, not just for Python programming but also for general programming languages. \n",
    " * ***Testing*** is the process of running a program to try and ascertain whether or not it works as intended. \n",
    " * ***Debugging*** is the process of trying to fix a program that you already know does not work as intended."
   ]
  },
  {
   "cell_type": "markdown",
   "id": "a88cbd3a",
   "metadata": {},
   "source": [
    "## 3.1.1 Testing"
   ]
  },
  {
   "cell_type": "markdown",
   "id": "8acc3bcc",
   "metadata": {},
   "source": [
    "* “Program testing can be used to show the presence of bugs, but never to show their absence!”\n",
    " * As Albert Einstein reputedly once said, *“No amount of experimentation can ever prove me right; a single experiment can prove me wrong.”* \n",
    " * Even the simplest of programs has billions of possible inputs. <br>\n",
    "<br>\n",
    "* The key to testing is finding a collection of inputs, called a test suite, that \n",
    " * has a high likelihood of revealing bugs, \n",
    " * yet does not take too long to run.   <br>\n",
    "<br>\n",
    "* Think about the following example\n",
    "```python\n",
    "def isBigger(x, y):\n",
    "\"\"\"Assumes x and y are ints\n",
    "Returns True if x is less than y and False otherwise.\"\"\"\n",
    "```\n",
    " * We want to consider some representative cases and test at least one value from each of these subsets: \n",
    "   * x positive, y positive\n",
    "   * x negative, y negative\n",
    "   * x positive, y negative\n",
    "   * x negative, y positive\n",
    "   * x=0,y=0\n",
    "   * x=0,y≠0\n",
    "   * x≠0,y=0  <br>\n",
    "<br>"
   ]
  },
  {
   "cell_type": "markdown",
   "id": "76ec0ca7",
   "metadata": {},
   "source": [
    "### Black-Box Testing"
   ]
  },
  {
   "cell_type": "markdown",
   "id": "8c5492d8",
   "metadata": {},
   "source": [
    "* In principle, black-box tests are constructed without looking at the code to be tested. <br>\n",
    "<br>\n",
    "* Black-box testing allows testers and implementers to be drawn from separate populations. <br>\n",
    "<br>\n",
    "* This independence reduces the likelihood of generating test suites that exhibit mistakes that are correlated with mistakes in the code. "
   ]
  },
  {
   "cell_type": "code",
   "execution_count": 1,
   "id": "d5a17af5",
   "metadata": {},
   "outputs": [],
   "source": [
    "def my_square_root(x, epsilon):\n",
    "    \"\"\"\n",
    "    Assumes x, epsilon floats\n",
    "    x >= 0\n",
    "    epsilon > 0 \n",
    "    Returns result such that x-epsilon <= result*result <= x+epsilon\n",
    "    \"\"\"\n",
    "    numGuesses = 0\n",
    "    low = 0.0\n",
    "    high = max(1.0, x)\n",
    "    ans = (high + low)/2.0\n",
    "\n",
    "    while abs(ans**2 - x) >= epsilon:\n",
    "        numGuesses += 1\n",
    "        if ans**2 < x:\n",
    "            low = ans \n",
    "        else:\n",
    "            high = ans\n",
    "        ans = (high + low)/2.0\n",
    "    print('numGuesses =', numGuesses)\n",
    "    print(ans, 'is close to square root of', x)\n",
    "    return ans"
   ]
  },
  {
   "cell_type": "markdown",
   "id": "ec94b750",
   "metadata": {},
   "source": [
    "* In this example, we need to consider both very large and small values of ```x``` and ```epsilon``` (called **boundary cases**)."
   ]
  },
  {
   "cell_type": "code",
   "execution_count": 2,
   "id": "45d225bb",
   "metadata": {},
   "outputs": [],
   "source": [
    "def test_my_square_root():\n",
    "    \n",
    "    print(my_square_root(x=0.0, epsilon=0.0001))\n",
    "    print('-------------------------------------------------------')\n",
    "    print(my_square_root(x=25.0, epsilon=0.0001))\n",
    "    print('-------------------------------------------------------')\n",
    "    print(my_square_root(x=0.5, epsilon=0.0001))\n",
    "    print('-------------------------------------------------------')\n",
    "    print(my_square_root(x=2.0, epsilon=0.0001))\n",
    "    print('-------------------------------------------------------')\n",
    "    print(my_square_root(x=2.0, epsilon=1.0/2.0**32.0))\n",
    "    print('-------------------------------------------------------')\n",
    "    print(my_square_root(x=1.0/2.0**16.0, epsilon=1.0/2.0**32.0))\n",
    "    print('-------------------------------------------------------')\n",
    "    print(my_square_root(x=2.0**16.0, epsilon=1.0/2.0**32.0))\n",
    "    print('-------------------------------------------------------')\n",
    "    print(my_square_root(x=2.0**16.0, epsilon=2.0**16.0))\n",
    "    "
   ]
  },
  {
   "cell_type": "code",
   "execution_count": 3,
   "id": "8a64a030",
   "metadata": {},
   "outputs": [
    {
     "name": "stdout",
     "output_type": "stream",
     "text": [
      "numGuesses = 6\n",
      "0.0078125 is close to square root of 0.0\n",
      "0.0078125\n",
      "-------------------------------------------------------\n",
      "numGuesses = 19\n",
      "4.999995231628418 is close to square root of 25.0\n",
      "4.999995231628418\n",
      "-------------------------------------------------------\n",
      "numGuesses = 12\n",
      "0.7071533203125 is close to square root of 0.5\n",
      "0.7071533203125\n",
      "-------------------------------------------------------\n",
      "numGuesses = 13\n",
      "1.4141845703125 is close to square root of 2.0\n",
      "1.4141845703125\n",
      "-------------------------------------------------------\n",
      "numGuesses = 29\n",
      "1.4142135623842478 is close to square root of 2.0\n",
      "1.4142135623842478\n",
      "-------------------------------------------------------\n",
      "numGuesses = 7\n",
      "0.00390625 is close to square root of 1.52587890625e-05\n",
      "0.00390625\n",
      "-------------------------------------------------------\n",
      "numGuesses = 7\n",
      "256.0 is close to square root of 65536.0\n",
      "256.0\n",
      "-------------------------------------------------------\n",
      "numGuesses = 7\n",
      "256.0 is close to square root of 65536.0\n",
      "256.0\n"
     ]
    }
   ],
   "source": [
    "test_my_square_root()"
   ]
  },
  {
   "cell_type": "markdown",
   "id": "a275d963",
   "metadata": {},
   "source": [
    "### Exercise\n",
    "\n",
    "What is the bug in the following function? "
   ]
  },
  {
   "cell_type": "code",
   "execution_count": 15,
   "id": "320729aa",
   "metadata": {},
   "outputs": [],
   "source": [
    "def copy(L1, L2):\n",
    "    \"\"\"Assumes L1, L2 are lists\n",
    "       Mutates L2 to be a copy of L1\"\"\"\n",
    "    while len(L2) > 0: #remove all elements from L2\n",
    "        L2.pop() #remove last element of L2\n",
    "    #print('L1 =', L1)\n",
    "    for e in L1: #append L1's elements to initially empty L2\n",
    "        L2.append(e)"
   ]
  },
  {
   "cell_type": "code",
   "execution_count": 16,
   "id": "15ceb68b",
   "metadata": {},
   "outputs": [
    {
     "name": "stdout",
     "output_type": "stream",
     "text": [
      "[]\n"
     ]
    }
   ],
   "source": [
    "L0 = [1,2,3]\n",
    "L1 = L0\n",
    "L2 = L0\n",
    "copy(L1, L2)\n",
    "print(L2)"
   ]
  },
  {
   "cell_type": "code",
   "execution_count": 17,
   "id": "7e82a748",
   "metadata": {},
   "outputs": [
    {
     "name": "stdout",
     "output_type": "stream",
     "text": [
      "[1, 2, 3]\n"
     ]
    }
   ],
   "source": [
    "L0 = [1,2,3]\n",
    "L1 = list(L0)\n",
    "L2 = list(L0)\n",
    "copy(L1, L2)\n",
    "print(L2)"
   ]
  },
  {
   "cell_type": "markdown",
   "id": "72e0260f",
   "metadata": {},
   "source": [
    "### Glass-Box Testing"
   ]
  },
  {
   "cell_type": "markdown",
   "id": "0dd18ee6",
   "metadata": {},
   "source": [
    "In many cases, without looking at the internal structure of the code, it is impossible to know which test cases are likely to provide new information."
   ]
  },
  {
   "cell_type": "code",
   "execution_count": 18,
   "id": "d6857c43",
   "metadata": {},
   "outputs": [],
   "source": [
    "def isPrime(x):\n",
    "    \"\"\"Assumes x is a nonnegative int\n",
    "       Returns True if x is prime; False otherwise\"\"\" \n",
    "    if x <= 2:\n",
    "        return False\n",
    "    for i in range(2, x):\n",
    "        if x%i == 0:\n",
    "            return False\n",
    "    return True "
   ]
  },
  {
   "cell_type": "code",
   "execution_count": 19,
   "id": "5c8807cf",
   "metadata": {},
   "outputs": [
    {
     "name": "stdout",
     "output_type": "stream",
     "text": [
      "False\n"
     ]
    }
   ],
   "source": [
    "print(isPrime(2))"
   ]
  },
  {
   "cell_type": "markdown",
   "id": "a1d2b05b",
   "metadata": {},
   "source": [
    "Looking at the code, we can see that because of the test if $x <= 2$, the values 0, 1, and 2 are treated as special cases, and therefore need to be tested. Without looking at the code, one might not test ```isPrime(2)```."
   ]
  },
  {
   "cell_type": "markdown",
   "id": "802670ef",
   "metadata": {},
   "source": [
    "* **Some suggestions**: \n",
    " * Exercise both branches of all ```if``` statements.\n",
    " * For each ```for``` loop, have test cases in which\n",
    "    * The loop is not entered (e.g., if the loop is iterating over the elements of a list, make sure that it is tested on the empty list),\n",
    "    * The body of the loop is executed exactly once, and\n",
    "    * The body of the loop is executed more than once.\n",
    " * For each ```while``` loop,\n",
    "    * Look at the same kinds of cases as when dealing with for loops, and\n",
    "    * Include test cases corresponding to all possible ways of exiting the loop. \n",
    " * For recursive functions, include test cases that cause the function to return with no recursive calls, exactly one recursive call, and more than one recursive call."
   ]
  },
  {
   "cell_type": "markdown",
   "id": "b4c70ec3",
   "metadata": {},
   "source": [
    "---"
   ]
  },
  {
   "cell_type": "markdown",
   "id": "2a3a4dd0",
   "metadata": {},
   "source": [
    "## 3.1.2 Debugging"
   ]
  },
  {
   "cell_type": "markdown",
   "id": "4d396673",
   "metadata": {},
   "source": [
    "**Punchline**: If your program has a bug, it is because you put it there. If your program has multiple bugs, it is because you made multiple mistakes."
   ]
  },
  {
   "cell_type": "markdown",
   "id": "0d397868",
   "metadata": {},
   "source": [
    "* **Debuggers**: There are debugging tools built into IDLE. \n",
    " * They can help, but only a little.\n",
    " * Many experienced programmers don’t even bother with debugging tools. <br>\n",
    "<br>\n",
    "* Most programmers say that the most important debugging tool is the ```print``` statement.\n",
    " * Often the best way to insert ```print``` statement is to conduct a binary search."
   ]
  },
  {
   "cell_type": "markdown",
   "id": "fc108453",
   "metadata": {},
   "source": [
    "### Example. Program with bugs"
   ]
  },
  {
   "cell_type": "code",
   "execution_count": 20,
   "id": "eb863d18",
   "metadata": {},
   "outputs": [],
   "source": [
    "def isPal(x):\n",
    "    \"\"\"Assumes x is a list\n",
    "       Returns True if the list is a palindrome; False otherwise\"\"\" \n",
    "    temp = x\n",
    "    temp.reverse()\n",
    "    if temp == x:\n",
    "        return True\n",
    "    else:\n",
    "        return False\n",
    "\n",
    "\n",
    "def silly(n):\n",
    "    \"\"\"Assumes n is an int > 0\n",
    "       Gets n inputs from user\n",
    "       Prints 'Yes' if the sequence of inputs forms a palindrome;\n",
    "       'No' otherwise\"\"\" \n",
    "    for i in range(n):\n",
    "        result = []\n",
    "        elem = input('Enter element: ') \n",
    "        result.append(elem)\n",
    "    print(result)\n",
    "    if isPal(result): \n",
    "        print('Yes')\n",
    "    else:\n",
    "        print('No')\n"
   ]
  },
  {
   "cell_type": "code",
   "execution_count": 21,
   "id": "7ef9c6d2",
   "metadata": {},
   "outputs": [
    {
     "name": "stdout",
     "output_type": "stream",
     "text": [
      "Enter element: a\n",
      "Enter element: b\n",
      "['b']\n",
      "Yes\n"
     ]
    }
   ],
   "source": [
    "silly(2)"
   ]
  },
  {
   "cell_type": "markdown",
   "id": "ea6da898",
   "metadata": {},
   "source": [
    "Clearly, we have a bug in the ```result``` argument. Let's fix this bug as follows:"
   ]
  },
  {
   "cell_type": "code",
   "execution_count": 22,
   "id": "beacd7b0",
   "metadata": {},
   "outputs": [],
   "source": [
    "def silly(n):\n",
    "    \"\"\"Assumes n is an int > 0\n",
    "       Gets n inputs from user\n",
    "       Prints 'Yes' if the sequence of inputs forms a palindrome;\n",
    "       'No' otherwise\"\"\" \n",
    "    result = []\n",
    "    for i in range(n):\n",
    "        elem = input('Enter element: ') \n",
    "        result.append(elem)\n",
    "    print(result)\n",
    "    if isPal(result): \n",
    "        print('Yes')\n",
    "    else:\n",
    "        print('No')"
   ]
  },
  {
   "cell_type": "code",
   "execution_count": 23,
   "id": "5e2380d2",
   "metadata": {},
   "outputs": [
    {
     "name": "stdout",
     "output_type": "stream",
     "text": [
      "Enter element: a\n",
      "Enter element: b\n",
      "['a', 'b']\n",
      "Yes\n"
     ]
    }
   ],
   "source": [
    "silly(2)"
   ]
  },
  {
   "cell_type": "markdown",
   "id": "62441fd8",
   "metadata": {},
   "source": [
    "* ```result``` has the correct value after the for loop, but unfortunately the program still prints Yes. <br>\n",
    "<br>\n",
    "* Now, we have reason to believe that a second bug lies below the print statement. Let’s look at ```isPal```."
   ]
  },
  {
   "cell_type": "code",
   "execution_count": 24,
   "id": "71d9a85a",
   "metadata": {},
   "outputs": [],
   "source": [
    "def isPal(x):\n",
    "    \"\"\"Assumes x is a list\n",
    "       Returns True if the list is a palindrome; False otherwise\"\"\" \n",
    "    temp = x\n",
    "    temp.reverse()\n",
    "    print(\"x:\", x)\n",
    "    print(\"temp:\", temp)\n",
    "    if temp == x:\n",
    "        return True\n",
    "    else:\n",
    "        return False"
   ]
  },
  {
   "cell_type": "code",
   "execution_count": 25,
   "id": "870c8a9c",
   "metadata": {},
   "outputs": [
    {
     "name": "stdout",
     "output_type": "stream",
     "text": [
      "Enter element: a\n",
      "Enter element: b\n",
      "['a', 'b']\n",
      "x: ['b', 'a']\n",
      "temp: ['b', 'a']\n",
      "Yes\n"
     ]
    }
   ],
   "source": [
    "silly(2)"
   ]
  },
  {
   "cell_type": "markdown",
   "id": "0d315aed",
   "metadata": {},
   "source": [
    "* There is something wrong: ```x``` should have been equal to ```['a', 'b']```. What happend? <br>\n",
    "<br>\n",
    "* It seems that ```temp.reverse()``` unexpectedly changed the value of x. An aliasing bug has bitten us: temp and x are names for the same list, both before and after the list gets reversed."
   ]
  },
  {
   "cell_type": "code",
   "execution_count": 26,
   "id": "2b88514a",
   "metadata": {},
   "outputs": [],
   "source": [
    "def isPal(x):\n",
    "    \"\"\"Assumes x is a list\n",
    "       Returns True if the list is a palindrome; False otherwise\"\"\" \n",
    "    temp = x[:]\n",
    "    temp.reverse()\n",
    "    print(\"x:\", x)\n",
    "    print(\"temp:\", temp)\n",
    "    if temp == x:\n",
    "        return True\n",
    "    else:\n",
    "        return False"
   ]
  },
  {
   "cell_type": "code",
   "execution_count": 27,
   "id": "4254fbec",
   "metadata": {},
   "outputs": [
    {
     "name": "stdout",
     "output_type": "stream",
     "text": [
      "Enter element: a\n",
      "Enter element: b\n",
      "['a', 'b']\n",
      "x: ['a', 'b']\n",
      "temp: ['b', 'a']\n",
      "No\n"
     ]
    }
   ],
   "source": [
    "silly(2)"
   ]
  },
  {
   "cell_type": "markdown",
   "id": "af1a17e9",
   "metadata": {},
   "source": [
    "* You need to learn how to debug by making bugs. One example is clearly insufficient to teach you how to debug. <br>\n",
    "<br>\n",
    "* It is sometimes difficult to figure out where the bugs are, but you know where the bug cannot be. \n",
    " * As Sherlock Holmes said, “Eliminate all other factors, and the one which remains must be the truth.”"
   ]
  },
  {
   "cell_type": "markdown",
   "id": "24aff42d",
   "metadata": {},
   "source": [
    "## 3.1.3 Handling Exceptions"
   ]
  },
  {
   "cell_type": "markdown",
   "id": "7cc419e0",
   "metadata": {},
   "source": [
    "* An ***“exception”*** is usually defined as “something that does not conform to the norm,” and is therefore somewhat rare. <br>\n",
    "<br>\n",
    "* Exceptions are ubiquitous in Python."
   ]
  },
  {
   "cell_type": "code",
   "execution_count": 28,
   "id": "b453f1d0",
   "metadata": {},
   "outputs": [
    {
     "ename": "IndexError",
     "evalue": "list index out of range",
     "output_type": "error",
     "traceback": [
      "\u001b[0;31m---------------------------------------------------------------------------\u001b[0m",
      "\u001b[0;31mIndexError\u001b[0m                                Traceback (most recent call last)",
      "Cell \u001b[0;32mIn[28], line 2\u001b[0m\n\u001b[1;32m      1\u001b[0m test_list \u001b[38;5;241m=\u001b[39m [\u001b[38;5;241m1\u001b[39m,\u001b[38;5;241m2\u001b[39m,\u001b[38;5;241m3\u001b[39m]\n\u001b[0;32m----> 2\u001b[0m \u001b[43mtest_list\u001b[49m\u001b[43m[\u001b[49m\u001b[38;5;241;43m3\u001b[39;49m\u001b[43m]\u001b[49m\n",
      "\u001b[0;31mIndexError\u001b[0m: list index out of range"
     ]
    }
   ],
   "source": [
    "test_list = [1,2,3]\n",
    "test_list[3]"
   ]
  },
  {
   "cell_type": "markdown",
   "id": "529fe092",
   "metadata": {},
   "source": [
    "* ```IndexError``` is the type of exception that Python raises when a program tries to access an element that is not within the bounds of an indexable type. The string following ```IndexError``` provides additional information about what caused the exception to occur. <br>\n",
    "<br>\n",
    "* Among the most commonly occurring types of exceptions are ```TypeError```, ```NameError```, and ```ValueError```. <br>\n",
    "<br>\n",
    "* When an exception is raised that causes the program to terminate, we say that an **unhandled** exception has been raised.  <br>\n",
    "<br>\n",
    "* An exception does not need to lead to program termination. Exceptions, when raised, can and should be **handled** by the program.  <br>\n",
    "<br>\n",
    "* If you know that a line of code might raise an exception when executed, you should handle the exception. \n",
    " * *In a well-written program, unhandled exceptions should be the exception*."
   ]
  },
  {
   "cell_type": "code",
   "execution_count": 29,
   "id": "a5d018f9",
   "metadata": {},
   "outputs": [],
   "source": [
    "def example(numSuccesses, numFailures):\n",
    "    successFailureRatio = numSuccesses/numFailures\n",
    "    print('The success/failure ratio is', successFailureRatio)\n",
    "    "
   ]
  },
  {
   "cell_type": "code",
   "execution_count": 30,
   "id": "975adb0f",
   "metadata": {},
   "outputs": [
    {
     "ename": "ZeroDivisionError",
     "evalue": "division by zero",
     "output_type": "error",
     "traceback": [
      "\u001b[0;31m---------------------------------------------------------------------------\u001b[0m",
      "\u001b[0;31mZeroDivisionError\u001b[0m                         Traceback (most recent call last)",
      "Cell \u001b[0;32mIn[30], line 1\u001b[0m\n\u001b[0;32m----> 1\u001b[0m \u001b[43mexample\u001b[49m\u001b[43m(\u001b[49m\u001b[38;5;241;43m1\u001b[39;49m\u001b[43m,\u001b[49m\u001b[43m \u001b[49m\u001b[38;5;241;43m0\u001b[39;49m\u001b[43m)\u001b[49m\n",
      "Cell \u001b[0;32mIn[29], line 2\u001b[0m, in \u001b[0;36mexample\u001b[0;34m(numSuccesses, numFailures)\u001b[0m\n\u001b[1;32m      1\u001b[0m \u001b[38;5;28;01mdef\u001b[39;00m \u001b[38;5;21mexample\u001b[39m(numSuccesses, numFailures):\n\u001b[0;32m----> 2\u001b[0m     successFailureRatio \u001b[38;5;241m=\u001b[39m \u001b[43mnumSuccesses\u001b[49m\u001b[38;5;241;43m/\u001b[39;49m\u001b[43mnumFailures\u001b[49m\n\u001b[1;32m      3\u001b[0m     \u001b[38;5;28mprint\u001b[39m(\u001b[38;5;124m'\u001b[39m\u001b[38;5;124mThe success/failure ratio is\u001b[39m\u001b[38;5;124m'\u001b[39m, successFailureRatio)\n",
      "\u001b[0;31mZeroDivisionError\u001b[0m: division by zero"
     ]
    }
   ],
   "source": [
    "example(1, 0)"
   ]
  },
  {
   "cell_type": "code",
   "execution_count": 31,
   "id": "63ba606a",
   "metadata": {},
   "outputs": [],
   "source": [
    "def example(numSuccesses, numFailures):\n",
    "    try:  # try block: the interpreter attempts to evaluate the expression in this block\n",
    "        successFailureRatio = numSuccesses/numFailures\n",
    "        print('The success/failure ratio is', successFailureRatio)\n",
    "    except ZeroDivisionError:  # except block: when exception is raised, the interpreter will execute this. \n",
    "        print('No failures so the success/failure ratio is undefined.')"
   ]
  },
  {
   "cell_type": "code",
   "execution_count": 32,
   "id": "883f77e8",
   "metadata": {},
   "outputs": [
    {
     "name": "stdout",
     "output_type": "stream",
     "text": [
      "No failures so the success/failure ratio is undefined.\n"
     ]
    }
   ],
   "source": [
    "example(1, 0)"
   ]
  },
  {
   "cell_type": "markdown",
   "id": "8c7d18c2",
   "metadata": {},
   "source": [
    "### An Example of ```ValueError```"
   ]
  },
  {
   "cell_type": "code",
   "execution_count": 58,
   "id": "2d5a045d",
   "metadata": {},
   "outputs": [
    {
     "name": "stdout",
     "output_type": "stream",
     "text": [
      "Enter an integer: 3.3\n"
     ]
    },
    {
     "ename": "ValueError",
     "evalue": "invalid literal for int() with base 10: '3.3'",
     "output_type": "error",
     "traceback": [
      "\u001b[0;31m---------------------------------------------------------------------------\u001b[0m",
      "\u001b[0;31mValueError\u001b[0m                                Traceback (most recent call last)",
      "Input \u001b[0;32mIn [58]\u001b[0m, in \u001b[0;36m<cell line: 1>\u001b[0;34m()\u001b[0m\n\u001b[0;32m----> 1\u001b[0m val \u001b[38;5;241m=\u001b[39m \u001b[38;5;28;43mint\u001b[39;49m\u001b[43m(\u001b[49m\u001b[38;5;28;43minput\u001b[39;49m\u001b[43m(\u001b[49m\u001b[38;5;124;43m'\u001b[39;49m\u001b[38;5;124;43mEnter an integer: \u001b[39;49m\u001b[38;5;124;43m'\u001b[39;49m\u001b[43m)\u001b[49m\u001b[43m)\u001b[49m\n\u001b[1;32m      2\u001b[0m \u001b[38;5;28mprint\u001b[39m(\u001b[38;5;124m'\u001b[39m\u001b[38;5;124mThe square of the number you entered is\u001b[39m\u001b[38;5;124m'\u001b[39m, val\u001b[38;5;241m*\u001b[39m\u001b[38;5;241m*\u001b[39m\u001b[38;5;241m2\u001b[39m)\n",
      "\u001b[0;31mValueError\u001b[0m: invalid literal for int() with base 10: '3.3'"
     ]
    }
   ],
   "source": [
    "val = int(input('Enter an integer: '))\n",
    "print('The square of the number you entered is', val**2)"
   ]
  },
  {
   "cell_type": "code",
   "execution_count": 60,
   "id": "79792875",
   "metadata": {},
   "outputs": [
    {
     "name": "stdout",
     "output_type": "stream",
     "text": [
      "Enter an integer: 3.3\n",
      "3.3 is not an integer\n"
     ]
    }
   ],
   "source": [
    "val = input('Enter an integer: ')\n",
    "try:\n",
    "    val = int(val)\n",
    "    print('The square of the number you entered is', val**2)\n",
    "except ValueError:\n",
    "    print(val, 'is not an integer')"
   ]
  },
  {
   "cell_type": "markdown",
   "id": "ba9aadb2",
   "metadata": {},
   "source": [
    "### Exercise\n",
    "\n",
    "Implement a function that meets the specification below. Use a try-except block.\n",
    "```python\n",
    "def sumDigits(s):\n",
    "    \"\"\"Assumes s is a string\n",
    "       Returns the sum of the decimal digits in s\n",
    "       For example, if s is 'a2b3c' it returns 5\"\"\"\n",
    "```"
   ]
  },
  {
   "cell_type": "code",
   "execution_count": 41,
   "id": "9e5c2c49",
   "metadata": {},
   "outputs": [],
   "source": [
    "def sumDigits(s):\n",
    "    \"\"\"Assumes s is a string\n",
    "       Returns the sum of the decimal digits in s\n",
    "       For example, if s is 'a2b3c' it returns 5\"\"\"\n",
    "    \n",
    "    sum_str = 0\n",
    "    for s_ii in s:\n",
    "        if s_ii in '0123456789':\n",
    "            sum_str = sum_str + int(s_ii)\n",
    "    return(sum_str)\n",
    "\n",
    "\n",
    "def test_sumDigits():\n",
    "    \n",
    "    s = 'abcd'\n",
    "    print('String:', s)\n",
    "    print('Output:', sumDigits(s))\n",
    "    print('---------------------')\n",
    "    s = 'abcd0.932.0a64'\n",
    "    print('String:', s)\n",
    "    print('Output:', sumDigits(s))\n",
    "    print('---------------------')\n",
    "    s = '0.998364'\n",
    "    print('String:', s)\n",
    "    print('Output:', sumDigits(s))"
   ]
  },
  {
   "cell_type": "code",
   "execution_count": 42,
   "id": "99795eac",
   "metadata": {},
   "outputs": [
    {
     "name": "stdout",
     "output_type": "stream",
     "text": [
      "String: abcd\n",
      "Output: 0\n",
      "---------------------\n",
      "String: abcd0.932.0a64\n",
      "Output: 24\n",
      "---------------------\n",
      "String: 0.998364\n",
      "Output: 39\n"
     ]
    }
   ],
   "source": [
    "test_sumDigits()"
   ]
  },
  {
   "cell_type": "markdown",
   "id": "f0bdedce",
   "metadata": {},
   "source": [
    "### Use Exception"
   ]
  },
  {
   "cell_type": "code",
   "execution_count": 43,
   "id": "fce9a4b4",
   "metadata": {},
   "outputs": [],
   "source": [
    "def sumDigits(s):\n",
    "    \"\"\"Assumes s is a string\n",
    "       Returns the sum of the decimal digits in s\n",
    "       For example, if s is 'a2b3c' it returns 5\"\"\"\n",
    "    \n",
    "    sum_str = 0\n",
    "    for s_ii in s:\n",
    "        try:\n",
    "            sum_str = sum_str + int(s_ii)\n",
    "        except ValueError:\n",
    "            pass\n",
    "    return(sum_str)\n",
    "\n",
    "\n",
    "def test_sumDigits():\n",
    "    \n",
    "    s = 'abcd'\n",
    "    print('String:', s)\n",
    "    print('Output:', sumDigits(s))\n",
    "    print('---------------------')\n",
    "    s = 'abcd0.932.0a64'\n",
    "    print('String:', s)\n",
    "    print('Output:', sumDigits(s))\n",
    "    print('---------------------')\n",
    "    s = '0.998364'\n",
    "    print('String:', s)\n",
    "    print('Output:', sumDigits(s))\n"
   ]
  },
  {
   "cell_type": "code",
   "execution_count": 44,
   "id": "c5e5d1e9",
   "metadata": {},
   "outputs": [
    {
     "name": "stdout",
     "output_type": "stream",
     "text": [
      "String: abcd\n",
      "Output: 0\n",
      "---------------------\n",
      "String: abcd0.932.0a64\n",
      "Output: 24\n",
      "---------------------\n",
      "String: 0.998364\n",
      "Output: 39\n"
     ]
    }
   ],
   "source": [
    "test_sumDigits()"
   ]
  },
  {
   "cell_type": "markdown",
   "id": "5a59b7aa",
   "metadata": {},
   "source": [
    "It is possible for a block of program code to raise more than one kind of exception. \n",
    "* the reserved word ```except``` can be followed by a tuple of exceptions, e.g.,\n",
    "```python\n",
    "except (ValueError, TypeError):\n",
    "```"
   ]
  },
  {
   "cell_type": "markdown",
   "id": "811bce07",
   "metadata": {},
   "source": [
    "### Exceptions as a Control Flow Mechanism"
   ]
  },
  {
   "cell_type": "markdown",
   "id": "1b78c40b",
   "metadata": {},
   "source": [
    "* The Python raise statement forces a specified exception to occur. The form of a raise statement is\n",
    "```python\n",
    "raise exceptionName(arguments)\n",
    "```\n",
    " * The ```exceptionName``` is usually one of the built-in exceptions, e.g., ```ValueError```. However, programmers can define new exceptions by creating a subclass (next section) of the built-in class ```Exception```.\n",
    " * Different types of exceptions can have different types of ```arguments```, but most of the time the ```argument``` is a single string, describing the reason the exception is being raised."
   ]
  },
  {
   "cell_type": "code",
   "execution_count": 45,
   "id": "2676c76a",
   "metadata": {},
   "outputs": [],
   "source": [
    "def getRatios(vect1, vect2):\n",
    "    \"\"\"Assumes: vect1 and vect2 are lists of equal length of numbers\n",
    "       Returns: a list containing the meaningful values of vect1[i]/vect2[i]\"\"\"\n",
    "    ratios = []\n",
    "    for index in range(len(vect1)):\n",
    "        try: \n",
    "            ratios.append(vect1[index]/float(vect2[index]))\n",
    "        except ZeroDivisionError: \n",
    "            ratios.append(float('nan')) #nan = Not a Number\n",
    "        except:\n",
    "            raise ValueError('getRatios called with bad arguments')\n",
    "    return ratios"
   ]
  },
  {
   "cell_type": "code",
   "execution_count": 46,
   "id": "48a30545",
   "metadata": {},
   "outputs": [
    {
     "name": "stdout",
     "output_type": "stream",
     "text": [
      "[1.0, 1.0, nan, 2.0]\n",
      "[]\n",
      "getRatios called with bad arguments\n"
     ]
    }
   ],
   "source": [
    "try:\n",
    "    print(getRatios([1.0,2.0,7.0,6.0], [1.0,2.0,0.0,3.0])) \n",
    "    print(getRatios([], []))\n",
    "    print(getRatios([1.0, 2.0], [3.0]))\n",
    "except ValueError as msg: \n",
    "    print(msg)"
   ]
  },
  {
   "cell_type": "markdown",
   "id": "51ccfa22",
   "metadata": {},
   "source": [
    "The name ```msg``` in the line ```except ValueError as msg:``` is bound to the argument (a string in this case) associated with ```ValueError``` when it was raised."
   ]
  },
  {
   "cell_type": "markdown",
   "id": "27c830d9",
   "metadata": {},
   "source": [
    "### Exercise\n",
    "\n",
    "Implement a function that satisfies the specification\n",
    "```python\n",
    "def findAnEven(l):\n",
    "    \"\"\"Assumes l is a list of integers\n",
    "       Returns the first even number in l\n",
    "       Raises ValueError if l does not contain an even number\"\"\"\n",
    "```"
   ]
  },
  {
   "cell_type": "code",
   "execution_count": 47,
   "id": "5cc48a8f",
   "metadata": {},
   "outputs": [],
   "source": [
    "def findAnEven(l):\n",
    "    \"\"\"Assumes l is a list of integers\n",
    "       Returns the first even number in l\n",
    "       Raises ValueError if l does not contain an even number\"\"\"\n",
    "    \n",
    "    first_even_num = None\n",
    "    for num in l:\n",
    "        if num%2==0:\n",
    "            first_even_num = num\n",
    "            break\n",
    "    if first_even_num == None:\n",
    "        raise ValueError(\"l does not contain an even number\")\n",
    "    return(first_even_num)\n",
    "  "
   ]
  },
  {
   "cell_type": "code",
   "execution_count": 48,
   "id": "14b1b720",
   "metadata": {},
   "outputs": [
    {
     "data": {
      "text/plain": [
       "2"
      ]
     },
     "execution_count": 48,
     "metadata": {},
     "output_type": "execute_result"
    }
   ],
   "source": [
    "l = [1, 2, 3]\n",
    "findAnEven(l)"
   ]
  },
  {
   "cell_type": "code",
   "execution_count": 49,
   "id": "4ae507c8",
   "metadata": {},
   "outputs": [
    {
     "ename": "ValueError",
     "evalue": "l does not contain an even number",
     "output_type": "error",
     "traceback": [
      "\u001b[0;31m---------------------------------------------------------------------------\u001b[0m",
      "\u001b[0;31mValueError\u001b[0m                                Traceback (most recent call last)",
      "Cell \u001b[0;32mIn[49], line 2\u001b[0m\n\u001b[1;32m      1\u001b[0m l \u001b[38;5;241m=\u001b[39m [\u001b[38;5;241m1\u001b[39m, \u001b[38;5;241m5\u001b[39m, \u001b[38;5;241m3\u001b[39m]\n\u001b[0;32m----> 2\u001b[0m \u001b[43mfindAnEven\u001b[49m\u001b[43m(\u001b[49m\u001b[43ml\u001b[49m\u001b[43m)\u001b[49m\n",
      "Cell \u001b[0;32mIn[47], line 12\u001b[0m, in \u001b[0;36mfindAnEven\u001b[0;34m(l)\u001b[0m\n\u001b[1;32m     10\u001b[0m         \u001b[38;5;28;01mbreak\u001b[39;00m\n\u001b[1;32m     11\u001b[0m \u001b[38;5;28;01mif\u001b[39;00m first_even_num \u001b[38;5;241m==\u001b[39m \u001b[38;5;28;01mNone\u001b[39;00m:\n\u001b[0;32m---> 12\u001b[0m     \u001b[38;5;28;01mraise\u001b[39;00m \u001b[38;5;167;01mValueError\u001b[39;00m(\u001b[38;5;124m\"\u001b[39m\u001b[38;5;124ml does not contain an even number\u001b[39m\u001b[38;5;124m\"\u001b[39m)\n\u001b[1;32m     13\u001b[0m \u001b[38;5;28;01mreturn\u001b[39;00m(first_even_num)\n",
      "\u001b[0;31mValueError\u001b[0m: l does not contain an even number"
     ]
    }
   ],
   "source": [
    "l = [1, 5, 3]\n",
    "findAnEven(l)"
   ]
  },
  {
   "cell_type": "markdown",
   "id": "81633416",
   "metadata": {},
   "source": [
    "## 3.1.4 Assertions"
   ]
  },
  {
   "cell_type": "markdown",
   "id": "df08d1ae",
   "metadata": {},
   "source": [
    "* The Python ```assert``` statement provides programmers with a simple way to confirm that the state of the computation is as expected. <br>\n",
    "<br>\n",
    "* An assert statement can take one of two forms:\n",
    "```python\n",
    "assert Boolean expression\n",
    "```\n",
    "or \n",
    "```python\n",
    "assert Boolean expression, argument\n",
    "```\n",
    " * When an ```assert``` statement is encountered, the Boolean expression is evaluated. If it evaluates to ```True```, execution proceeds on its merry way. If it evaluates to ```False```, an ```AssertionError``` exception is raised."
   ]
  },
  {
   "cell_type": "code",
   "execution_count": 50,
   "id": "712b04ff",
   "metadata": {},
   "outputs": [],
   "source": [
    "l = [1, 6, 3]\n",
    "type(l)\n",
    "assert type(l)==list, \"l is NOT a list!\""
   ]
  },
  {
   "cell_type": "code",
   "execution_count": 51,
   "id": "f02c4b6e",
   "metadata": {},
   "outputs": [
    {
     "ename": "AssertionError",
     "evalue": "l is NOT a list!",
     "output_type": "error",
     "traceback": [
      "\u001b[0;31m---------------------------------------------------------------------------\u001b[0m",
      "\u001b[0;31mAssertionError\u001b[0m                            Traceback (most recent call last)",
      "Cell \u001b[0;32mIn[51], line 3\u001b[0m\n\u001b[1;32m      1\u001b[0m l \u001b[38;5;241m=\u001b[39m (\u001b[38;5;241m1\u001b[39m, \u001b[38;5;241m6\u001b[39m, \u001b[38;5;241m3\u001b[39m)\n\u001b[1;32m      2\u001b[0m \u001b[38;5;28mtype\u001b[39m(l)\n\u001b[0;32m----> 3\u001b[0m \u001b[38;5;28;01massert\u001b[39;00m \u001b[38;5;28mtype\u001b[39m(l)\u001b[38;5;241m==\u001b[39m\u001b[38;5;28mlist\u001b[39m, \u001b[38;5;124m\"\u001b[39m\u001b[38;5;124ml is NOT a list!\u001b[39m\u001b[38;5;124m\"\u001b[39m\n",
      "\u001b[0;31mAssertionError\u001b[0m: l is NOT a list!"
     ]
    }
   ],
   "source": [
    "l = (1, 6, 3)\n",
    "type(l)\n",
    "assert type(l)==list, \"l is NOT a list!\""
   ]
  },
  {
   "cell_type": "markdown",
   "id": "9dfeec2f",
   "metadata": {},
   "source": [
    "---"
   ]
  },
  {
   "cell_type": "markdown",
   "id": "3acde2f7",
   "metadata": {},
   "source": [
    "# END"
   ]
  }
 ],
 "metadata": {
  "kernelspec": {
   "display_name": "Python 3 (ipykernel)",
   "language": "python",
   "name": "python3"
  },
  "language_info": {
   "codemirror_mode": {
    "name": "ipython",
    "version": 3
   },
   "file_extension": ".py",
   "mimetype": "text/x-python",
   "name": "python",
   "nbconvert_exporter": "python",
   "pygments_lexer": "ipython3",
   "version": "3.9.17"
  }
 },
 "nbformat": 4,
 "nbformat_minor": 5
}
